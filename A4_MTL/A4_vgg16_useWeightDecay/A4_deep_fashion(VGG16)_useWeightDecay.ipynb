{
  "cells": [
    {
      "cell_type": "markdown",
      "metadata": {
        "id": "hLcWRu-jp7gM"
      },
      "source": [
        "# MIS 583 Assignment 4: Deep Fashion"
      ]
    },
    {
      "cell_type": "markdown",
      "metadata": {
        "id": "6DzsjuDhlz_k"
      },
      "source": [
        "**Your Answer:**   \n",
        "Hi I'm 李畇彤, M114020038"
      ]
    },
    {
      "cell_type": "markdown",
      "metadata": {
        "id": "b1NQv3Ey3cVS"
      },
      "source": [
        "## Multitask Learning\n",
        "根據衣服圖片，建立一個 Multitask Learning 的模型，同時預測出種類與屬性。\n",
        "### Task 1 : Category\n",
        "- Multiclass : 10 categories\n",
        "- Goal : Predict the categories(0~9) of the outfit, a total of 10 categories.\n",
        "- [Kaggle link](https://www.kaggle.com/competitions/mis583-2022-deep-fashion-1/leaderboard)\n",
        "\n",
        "### Task 2 : Attribute\n",
        "- Multilabel : 15 attributes\n",
        "- Goal：Predict the attributes(0~14) of the outfit, a total of 15 attributes, each outfit could have many attributes (>=1).\n",
        "- [Kaggle link](https://www.kaggle.com/competitions/mis583-2022-a4-deep-fashion-2/leaderboard)"
      ]
    },
    {
      "cell_type": "markdown",
      "metadata": {
        "id": "bCtoiSyVVTO8"
      },
      "source": [
        "## Google Colab Setup"
      ]
    },
    {
      "cell_type": "code",
      "execution_count": 1,
      "metadata": {
        "colab": {
          "base_uri": "https://localhost:8080/"
        },
        "id": "tHG0slB6VTO8",
        "outputId": "dff9f378-ad11-4921-8960-30af60149a1f"
      },
      "outputs": [
        {
          "name": "stdout",
          "output_type": "stream",
          "text": [
            "Mounted at /content/drive\n"
          ]
        }
      ],
      "source": [
        "from google.colab import drive\n",
        "drive.mount('/content/drive')"
      ]
    },
    {
      "cell_type": "markdown",
      "metadata": {
        "id": "giUId1Naqacs"
      },
      "source": [
        "##  Versions of used packages\n",
        "\n",
        "We will check PyTorch version to make sure everything work properly.\n",
        "\n",
        "We use `python==3.7.14`, `torch==1.12.1+cu113` and `torchvision==0.13.1+cu113`. This is the default version in Google Colab."
      ]
    },
    {
      "cell_type": "code",
      "execution_count": 2,
      "metadata": {
        "colab": {
          "base_uri": "https://localhost:8080/"
        },
        "id": "Vuw-gNvjqcYe",
        "outputId": "02215e57-5bba-4ae4-ba7b-357d22c3ac6e"
      },
      "outputs": [
        {
          "name": "stdout",
          "output_type": "stream",
          "text": [
            "python 3.7.15 (default, Oct 12 2022, 19:14:55) \n",
            "torch 1.12.1+cu113\n",
            "torchvision 0.13.1+cu113\n"
          ]
        }
      ],
      "source": [
        "import sys\n",
        "import torch\n",
        "import torchvision\n",
        "print('python', sys.version.split('\\n')[0])\n",
        "print('torch', torch.__version__)\n",
        "print('torchvision', torchvision.__version__)"
      ]
    },
    {
      "cell_type": "markdown",
      "metadata": {
        "id": "OhdbdJOsrbxL"
      },
      "source": [
        "# Prepare Data"
      ]
    },
    {
      "cell_type": "markdown",
      "metadata": {
        "id": "cqO8DiB6VRQZ"
      },
      "source": [
        "## Unzip Data\n"
      ]
    },
    {
      "cell_type": "code",
      "execution_count": 3,
      "metadata": {
        "id": "aGCZQxZSfONu"
      },
      "outputs": [],
      "source": [
        "!unzip -qq ./drive/MyDrive/NSYSU/Deep_Learning/MIS583/deep_fashion.zip"
      ]
    },
    {
      "cell_type": "code",
      "execution_count": 4,
      "metadata": {
        "id": "lYccv1qYzYUz"
      },
      "outputs": [],
      "source": [
        "data_folder = 'deep_fashion'"
      ]
    },
    {
      "cell_type": "markdown",
      "metadata": {
        "id": "SYueKGdIHpho"
      },
      "source": [
        "## Loading the dataset\n"
      ]
    },
    {
      "cell_type": "markdown",
      "metadata": {
        "id": "xpG2DxEqHFD-"
      },
      "source": [
        "### Custom dataset\n",
        "繼承自定義資料集的框架 `torch.utils.data.Dataset`，主要實現 `__getitem__()` 和 `__len__()` 這兩個方法。\n",
        "\n",
        "常使用來做到設定資料位址、設定讀取方式、子資料集的標籤和轉換條件...等。\n",
        "\n",
        "See [torch.utils.data.Dataset](https://pytorch.org/docs/stable/data.html#torch.utils.data.Dataset) for more details"
      ]
    },
    {
      "cell_type": "code",
      "execution_count": 5,
      "metadata": {
        "id": "dwUE1E83_Iw8"
      },
      "outputs": [],
      "source": [
        "import csv\n",
        "import os\n",
        "import numpy as np\n",
        "from PIL import Image\n",
        "import torch\n",
        "\n",
        "class Fashion(torch.utils.data.Dataset):\n",
        "    def __init__(self, csv_file, mode='train', transform=None):\n",
        "        self.mode = mode # 'train', 'val' or 'test'\n",
        "        self.data_list = []\n",
        "        self.category_labels = []\n",
        "        self.attribute_labels = []\n",
        "        self.transform = transform\n",
        "        \n",
        "        with open(f'{data_folder}/{csv_file}', newline='') as csvfile:\n",
        "            reader = csv.DictReader(csvfile)\n",
        "            for row in reader:\n",
        "                self.data_list.append(f\"{row['file_path']}\")\n",
        "                if mode != 'test':\n",
        "                    self.category_labels.append(row['category_label'])\n",
        "                    self.attribute_labels.append(list(map(int, row['attribute_label'].split())))\n",
        "\n",
        "    def __getitem__(self, index):\n",
        "        data = Image.open(self.data_list[index])\n",
        "        if self.transform is not None:\n",
        "            data = self.transform(data)\n",
        "        if self.mode == 'test':\n",
        "            return data\n",
        "        category_label = torch.tensor(int(self.category_labels[index]))\n",
        "\n",
        "        attribute_label = torch.tensor(self.attribute_labels[index])\n",
        "        attribute_label = torch.zeros(15).scatter_(0, attribute_label, 1)\n",
        "\n",
        "        return data, category_label, attribute_label\n",
        "\n",
        "    def __len__(self):\n",
        "        return len(self.data_list)"
      ]
    },
    {
      "cell_type": "markdown",
      "metadata": {
        "id": "5tQGLuVWnA-b"
      },
      "source": [
        "### Data augmentation \n",
        "\n",
        "Data augmentation are techniques used to increase the amount of data by adding slightly modified copies of already existing data or newly created synthetic data from existing data.\n",
        "\n",
        "PyTorch use `torchvision.transforms` to do data augmentation.\n",
        "[You can see all function here.](https://pytorch.org/vision/stable/transforms.html)\n",
        "\n",
        "**NOTICE**: There are some operations may not be necessary for predict, so we should write one for train and one for others."
      ]
    },
    {
      "cell_type": "code",
      "execution_count": 6,
      "metadata": {
        "id": "UIv1VyHXVNTo"
      },
      "outputs": [],
      "source": [
        "from torchvision import transforms\n",
        "# For TRAIN\n",
        "mean=[0.485, 0.456, 0.406]\n",
        "std=[0.229, 0.224, 0.225]\n",
        "transforms_train = transforms.Compose([\n",
        "    transforms.Resize((256, 256)),\n",
        "    transforms.CenterCrop((224,224)),\n",
        "    transforms.RandomHorizontalFlip(p=0.5),\n",
        "    transforms.ColorJitter(brightness=0.2, contrast=0.2, saturation=0.1, hue=0.1),\n",
        "    transforms.RandomRotation(degrees=(-90, 90)),\n",
        "    transforms.ToTensor(),\n",
        "    transforms.Normalize(mean, std),\n",
        "  ])\n",
        "\n",
        "# For VAL, TEST\n",
        "transforms_test = transforms.Compose([\n",
        "    transforms.Resize((256,256)),\n",
        "    transforms.CenterCrop((224,224)),\n",
        "    transforms.ToTensor(),\n",
        "    transforms.Normalize(mean, std),\n",
        "  ])"
      ]
    },
    {
      "cell_type": "markdown",
      "metadata": {
        "id": "7rYptn_YJlFX"
      },
      "source": [
        "### Instantiate dataset\n",
        "\n",
        "Let's instantiate three `Fashion` class.\n",
        "+ dataset_train: for training.\n",
        "+ dataset_val: for validation.\n",
        "+ dataset_test: for tesing.\n",
        "\n",
        "\n",
        "### Data Quality\n",
        "+ train : 39092 \n",
        "+ val : 5528\n",
        "+ test : 11225"
      ]
    },
    {
      "cell_type": "code",
      "execution_count": 7,
      "metadata": {
        "id": "LKjsKyHhZZc6"
      },
      "outputs": [],
      "source": [
        "dataset_train = Fashion('train.csv', mode='train', transform=transforms_train)\n",
        "dataset_val = Fashion('val.csv', mode='val', transform=transforms_test)\n",
        "dataset_test = Fashion('test.csv', mode='test', transform=transforms_test)"
      ]
    },
    {
      "cell_type": "code",
      "execution_count": 8,
      "metadata": {
        "colab": {
          "base_uri": "https://localhost:8080/"
        },
        "id": "ZAeQQEEISCJJ",
        "outputId": "f7c0213d-d179-4aab-eba6-af2444e80fa0"
      },
      "outputs": [
        {
          "name": "stdout",
          "output_type": "stream",
          "text": [
            "The first image's shape in dataset_train : torch.Size([3, 224, 224])\n",
            "There are 39092 images in dataset_train.\n"
          ]
        }
      ],
      "source": [
        "print(\"The first image's shape in dataset_train :\", dataset_train[0][0].size())\n",
        "print(\"There are\", dataset_train.__len__(), \"images in dataset_train.\")"
      ]
    },
    {
      "cell_type": "markdown",
      "metadata": {
        "id": "vORA6qkfIj1U"
      },
      "source": [
        "### `DataLoader`\n",
        "\n",
        "`torch.utils.data.DataLoader` define how to sample from `dataset` and some other function like:\n",
        "+ `shuffle` : set to `True` to have the data reshuffled at every epoch\n",
        "+ `batch_size` : how many samples per batch to load\n",
        "\n",
        "See [torch.utils.data.DataLoader](https://pytorch.org/docs/stable/data.html#torch.utils.data.DataLoader) for more details"
      ]
    },
    {
      "cell_type": "code",
      "execution_count": 9,
      "metadata": {
        "id": "RmgA5nYT3XQZ"
      },
      "outputs": [],
      "source": [
        "from torch.utils.data import DataLoader\n",
        "\n",
        "batch_size = 32\n",
        "num_workers = 2\n",
        "train_loader = DataLoader(dataset_train, batch_size=batch_size, num_workers=num_workers, shuffle=True)\n",
        "val_loader = DataLoader(dataset_val, batch_size=batch_size, num_workers=num_workers, shuffle=False)\n",
        "test_loader = DataLoader(dataset_test, batch_size=batch_size, num_workers=num_workers, shuffle=False)"
      ]
    },
    {
      "cell_type": "markdown",
      "metadata": {
        "id": "U4atwzT3aPi3"
      },
      "source": [
        "Finally! We have made all data prepared.  \n",
        "Let's go develop our model."
      ]
    },
    {
      "cell_type": "markdown",
      "metadata": {
        "id": "87KYcWknS95z"
      },
      "source": [
        "# Implement CNN using PyTorch"
      ]
    },
    {
      "cell_type": "markdown",
      "metadata": {
        "id": "OH_4NKB9dsZ3"
      },
      "source": [
        "### Define a Convolutional Neural Network\n",
        "\n",
        "Try to design and train a deep convolutional network from scratch to predict the class label of a flower image. \n",
        "\n",
        "You can refer to last assignment about image_classifier, and try to go deep and use more method for better model."
      ]
    },
    {
      "cell_type": "code",
      "execution_count": 10,
      "metadata": {
        "id": "S_HxxEfdO2Ss"
      },
      "outputs": [],
      "source": [
        "import torch.nn as nn \n",
        "import torch.nn.functional as F\n",
        "import torchvision.models as models\n",
        "\n",
        "\n",
        "class Mtl_Model(nn.Module): \n",
        "    def __init__(self): \n",
        "        super().__init__()\n",
        "        # using model pretraining (vgg16, googlenet, resnet18, resnet34, resnet101 ...)\n",
        "        self.model = models.vgg16(pretrained=True)\n",
        "\n",
        "        # Category Model\n",
        "        self.fc1 = nn.Sequential(\n",
        "            nn.ReLU(),\n",
        "            nn.Linear(1000, 10)) # ResNet pretrain 的 fc size = 1000，所以 set linear = 1000\n",
        "        \n",
        "        # Attribute Model\n",
        "        self.fc2 = nn.Sequential(\n",
        "            nn.Dropout(),\n",
        "            nn.ReLU(),\n",
        "            nn.Linear(1000, 15))\n",
        "\n",
        "    def forward(self, x): \n",
        "        if not isinstance(x, torch.Tensor):\n",
        "            x = torch.Tensor(x)\n",
        "        x = self.model(x)\n",
        "        out1 = self.fc1(x)\n",
        "        out2 = self.fc2(x)\n",
        "        \n",
        "        return out1, out2"
      ]
    },
    {
      "cell_type": "code",
      "execution_count": 11,
      "metadata": {
        "id": "wOBCTZmbzYU4"
      },
      "outputs": [],
      "source": [
        "device = torch.device('cuda')\n",
        "# or\n",
        "#device = torch.device('cpu')"
      ]
    },
    {
      "cell_type": "code",
      "execution_count": 12,
      "metadata": {
        "colab": {
          "base_uri": "https://localhost:8080/",
          "height": 1000,
          "referenced_widgets": [
            "27e4430d4a684fafa1792ba9089169b2",
            "cf4ce508c229452b86463b9d5c15c8b6",
            "e19162bd18c049e39c84e3ea028f6bd7",
            "a3479b5644be4792b7a9153626136970",
            "9b61a90ab066445a8fc7e19259e98338",
            "850a31f82dfc47029ae388a05cd99a94",
            "112650c436884c02b90357214ed7a15b",
            "0a88a482f45247308633fc0ca58d46d3",
            "76daffc070764c269ac2c2190b1b0377",
            "9c6abe0721dd4b1ab9a7c5e292f867f7",
            "ed9827d8282f4472ad5df9bba896260c"
          ]
        },
        "id": "TeWtAa1dzYU4",
        "outputId": "fc4aa845-7116-4eda-cc4f-6a026c8ceb26"
      },
      "outputs": [
        {
          "name": "stderr",
          "output_type": "stream",
          "text": [
            "/usr/local/lib/python3.7/dist-packages/torchvision/models/_utils.py:209: UserWarning: The parameter 'pretrained' is deprecated since 0.13 and will be removed in 0.15, please use 'weights' instead.\n",
            "  f\"The parameter '{pretrained_param}' is deprecated since 0.13 and will be removed in 0.15, \"\n",
            "/usr/local/lib/python3.7/dist-packages/torchvision/models/_utils.py:223: UserWarning: Arguments other than a weight enum or `None` for 'weights' are deprecated since 0.13 and will be removed in 0.15. The current behavior is equivalent to passing `weights=VGG16_Weights.IMAGENET1K_V1`. You can also use `weights=VGG16_Weights.DEFAULT` to get the most up-to-date weights.\n",
            "  warnings.warn(msg)\n",
            "Downloading: \"https://download.pytorch.org/models/vgg16-397923af.pth\" to /root/.cache/torch/hub/checkpoints/vgg16-397923af.pth\n"
          ]
        },
        {
          "data": {
            "application/vnd.jupyter.widget-view+json": {
              "model_id": "27e4430d4a684fafa1792ba9089169b2",
              "version_major": 2,
              "version_minor": 0
            },
            "text/plain": [
              "  0%|          | 0.00/528M [00:00<?, ?B/s]"
            ]
          },
          "metadata": {},
          "output_type": "display_data"
        },
        {
          "name": "stdout",
          "output_type": "stream",
          "text": [
            "Mtl_Model(\n",
            "  (model): VGG(\n",
            "    (features): Sequential(\n",
            "      (0): Conv2d(3, 64, kernel_size=(3, 3), stride=(1, 1), padding=(1, 1))\n",
            "      (1): ReLU(inplace=True)\n",
            "      (2): Conv2d(64, 64, kernel_size=(3, 3), stride=(1, 1), padding=(1, 1))\n",
            "      (3): ReLU(inplace=True)\n",
            "      (4): MaxPool2d(kernel_size=2, stride=2, padding=0, dilation=1, ceil_mode=False)\n",
            "      (5): Conv2d(64, 128, kernel_size=(3, 3), stride=(1, 1), padding=(1, 1))\n",
            "      (6): ReLU(inplace=True)\n",
            "      (7): Conv2d(128, 128, kernel_size=(3, 3), stride=(1, 1), padding=(1, 1))\n",
            "      (8): ReLU(inplace=True)\n",
            "      (9): MaxPool2d(kernel_size=2, stride=2, padding=0, dilation=1, ceil_mode=False)\n",
            "      (10): Conv2d(128, 256, kernel_size=(3, 3), stride=(1, 1), padding=(1, 1))\n",
            "      (11): ReLU(inplace=True)\n",
            "      (12): Conv2d(256, 256, kernel_size=(3, 3), stride=(1, 1), padding=(1, 1))\n",
            "      (13): ReLU(inplace=True)\n",
            "      (14): Conv2d(256, 256, kernel_size=(3, 3), stride=(1, 1), padding=(1, 1))\n",
            "      (15): ReLU(inplace=True)\n",
            "      (16): MaxPool2d(kernel_size=2, stride=2, padding=0, dilation=1, ceil_mode=False)\n",
            "      (17): Conv2d(256, 512, kernel_size=(3, 3), stride=(1, 1), padding=(1, 1))\n",
            "      (18): ReLU(inplace=True)\n",
            "      (19): Conv2d(512, 512, kernel_size=(3, 3), stride=(1, 1), padding=(1, 1))\n",
            "      (20): ReLU(inplace=True)\n",
            "      (21): Conv2d(512, 512, kernel_size=(3, 3), stride=(1, 1), padding=(1, 1))\n",
            "      (22): ReLU(inplace=True)\n",
            "      (23): MaxPool2d(kernel_size=2, stride=2, padding=0, dilation=1, ceil_mode=False)\n",
            "      (24): Conv2d(512, 512, kernel_size=(3, 3), stride=(1, 1), padding=(1, 1))\n",
            "      (25): ReLU(inplace=True)\n",
            "      (26): Conv2d(512, 512, kernel_size=(3, 3), stride=(1, 1), padding=(1, 1))\n",
            "      (27): ReLU(inplace=True)\n",
            "      (28): Conv2d(512, 512, kernel_size=(3, 3), stride=(1, 1), padding=(1, 1))\n",
            "      (29): ReLU(inplace=True)\n",
            "      (30): MaxPool2d(kernel_size=2, stride=2, padding=0, dilation=1, ceil_mode=False)\n",
            "    )\n",
            "    (avgpool): AdaptiveAvgPool2d(output_size=(7, 7))\n",
            "    (classifier): Sequential(\n",
            "      (0): Linear(in_features=25088, out_features=4096, bias=True)\n",
            "      (1): ReLU(inplace=True)\n",
            "      (2): Dropout(p=0.5, inplace=False)\n",
            "      (3): Linear(in_features=4096, out_features=4096, bias=True)\n",
            "      (4): ReLU(inplace=True)\n",
            "      (5): Dropout(p=0.5, inplace=False)\n",
            "      (6): Linear(in_features=4096, out_features=1000, bias=True)\n",
            "    )\n",
            "  )\n",
            "  (fc1): Sequential(\n",
            "    (0): ReLU()\n",
            "    (1): Linear(in_features=1000, out_features=10, bias=True)\n",
            "  )\n",
            "  (fc2): Sequential(\n",
            "    (0): Dropout(p=0.5, inplace=False)\n",
            "    (1): ReLU()\n",
            "    (2): Linear(in_features=1000, out_features=15, bias=True)\n",
            "  )\n",
            ")\n"
          ]
        }
      ],
      "source": [
        "model = Mtl_Model()\n",
        "model = model.to(device)\n",
        "print(model)"
      ]
    },
    {
      "cell_type": "markdown",
      "metadata": {
        "id": "83imqLRQ0v7M"
      },
      "source": [
        "We have made our model!  \n",
        "Next, PyTorch also provide many utility function(loss, optmizer...etc).  \n",
        "You can define them in one-line."
      ]
    },
    {
      "cell_type": "markdown",
      "metadata": {
        "id": "FtOkPO6Ga0Fw"
      },
      "source": [
        "### Define loss and optimizer"
      ]
    },
    {
      "cell_type": "code",
      "execution_count": 13,
      "metadata": {
        "id": "IoePct00RIFY"
      },
      "outputs": [],
      "source": [
        "import torch.nn as nn\n",
        "import torch.optim as optim\n",
        "\n",
        "# Category -> CrossEntropyLoss, Attribute -> BCELoss\n",
        "criterion1, criterion2 = nn.CrossEntropyLoss(), nn.BCEWithLogitsLoss()\n",
        "optimizer = torch.optim.AdamW(model.parameters(), lr=1e-4, weight_decay=0.04)\n",
        "scheduler = optim.lr_scheduler.StepLR(optimizer, step_size=5, gamma=0.1)\n",
        "\n",
        "criterion1 = criterion1.to(device)\n",
        "criterion2 = criterion2.to(device)"
      ]
    },
    {
      "cell_type": "markdown",
      "metadata": {
        "id": "zle9KuFcbwMP"
      },
      "source": [
        "### Train the model"
      ]
    },
    {
      "cell_type": "markdown",
      "metadata": {
        "id": "bZFxE7Y9iLfl"
      },
      "source": [
        "#### Train function\n",
        "Let's define train function.  \n",
        "It will iterate input data 1 epoch and update model with optmizer.  \n",
        "Finally, calculate mean loss and total accuracy."
      ]
    },
    {
      "cell_type": "code",
      "execution_count": 14,
      "metadata": {
        "id": "1nD9mex8_Yld"
      },
      "outputs": [],
      "source": [
        "from sklearn.metrics import f1_score"
      ]
    },
    {
      "cell_type": "code",
      "execution_count": 15,
      "metadata": {
        "id": "VM93brDshO6E"
      },
      "outputs": [],
      "source": [
        "def train(input_data, model, criterion1, criterion2, optimizer):\n",
        "\n",
        "    model.train()\n",
        "    loss_list = []\n",
        "    attr_pred_list = []\n",
        "    attr_true_list = []\n",
        "    total_count = 0\n",
        "    acc_count = 0\n",
        "\n",
        "    for i, data in enumerate(input_data, 0):\n",
        "        inputs = data[0].to(device)\n",
        "        category_labels = data[1].to(device)\n",
        "        attribute_labels = data[2].to(device)\n",
        "\n",
        "        optimizer.zero_grad()\n",
        "        category_out, attribute_out = model(inputs)\n",
        "\n",
        "        category_loss = criterion1(category_out, category_labels)\n",
        "        attribute_loss = criterion2(attribute_out, attribute_labels)\n",
        "        loss = category_loss * 1 + attribute_loss * 8\n",
        "        loss.backward()\n",
        "        optimizer.step()\n",
        "\n",
        "        _, category_predict = torch.max(category_out.data, dim=1)\n",
        "        attribute_predict = (attribute_out.data > 0.5).int()\n",
        "        attr_pred_list += attribute_predict.tolist()\n",
        "        attr_true_list += attribute_labels.int().tolist()\n",
        "        total_count += category_labels.size(0) # 加總category每個批次的大小\n",
        "        acc_count += (category_predict == category_labels).sum().item() # 加總category每個批次的預測準確率\n",
        "        loss_list.append(loss.item())\n",
        "\n",
        "    acc = acc_count / total_count\n",
        "    f1 = f1_score(attr_true_list, attr_pred_list, average='samples')\n",
        "    loss = sum(loss_list) / len(loss_list)\n",
        "    \n",
        "    return acc, f1, loss"
      ]
    },
    {
      "cell_type": "markdown",
      "metadata": {
        "id": "KmDy1GTq_H2a"
      },
      "source": [
        "#### Validate function\n",
        "Next part is validate function.  \n",
        "It works as training function without optmizer and weight-updating part."
      ]
    },
    {
      "cell_type": "code",
      "execution_count": 16,
      "metadata": {
        "id": "USzbBgGEoTRu"
      },
      "outputs": [],
      "source": [
        "def val(input_data, model, criterion1, criterion2):\n",
        "    model.eval()\n",
        "    loss_list = []\n",
        "    attr_pred_list = []\n",
        "    attr_true_list = []\n",
        "    total_count = 0\n",
        "    acc_count = 0\n",
        "\n",
        "    with torch.no_grad():\n",
        "        for i, data in enumerate(input_data, 0):\n",
        "            inputs = data[0].to(device)\n",
        "            category_labels = data[1].to(device)\n",
        "            attribute_labels = data[2].to(device)\n",
        "\n",
        "\n",
        "            category_out, attribute_out = model(inputs)\n",
        "            category_loss = criterion1(category_out, category_labels)\n",
        "            attribute_loss = criterion2(attribute_out, attribute_labels)\n",
        "            loss = category_loss * 1 + attribute_loss * 8\n",
        "            \n",
        "            _, category_predict = torch.max(category_out.data, dim=1)\n",
        "            attribute_predict = (attribute_out.data > 0.5).int()\n",
        "            attr_pred_list += attribute_predict.tolist()\n",
        "            attr_true_list += attribute_labels.int().tolist()\n",
        "            total_count += category_labels.size(0)\n",
        "            acc_count += (category_predict == category_labels).sum().item()\n",
        "            loss_list.append(loss.item())\n",
        "        \n",
        "    acc = acc_count / total_count\n",
        "    f1 = f1_score(attr_true_list, attr_pred_list, average='samples')\n",
        "    loss = sum(loss_list) / len(loss_list)\n",
        "\n",
        "    return acc, f1, loss"
      ]
    },
    {
      "cell_type": "markdown",
      "metadata": {
        "id": "knXu74jCiuxP"
      },
      "source": [
        "#### Training in a loop\n",
        "Call train and test function in a loop.  \n",
        "Take a break and wait."
      ]
    },
    {
      "cell_type": "code",
      "execution_count": 17,
      "metadata": {
        "colab": {
          "base_uri": "https://localhost:8080/"
        },
        "id": "rcVulKkFJRtI",
        "outputId": "b1ea764f-3e6c-4313-de05-4fc5074dd5c7"
      },
      "outputs": [
        {
          "name": "stdout",
          "output_type": "stream",
          "text": [
            "======================================== Epoch 1 ========================================\n",
            "Train Acc (Category): 0.338816 Train F1 (Attribute): 0.067251 Train Loss: 4.055553\n",
            "  Val Acc (Category): 0.447540   Val F1 (Attribute): 0.133930   Val Loss: 3.566313\n",
            "======================================== Epoch 2 ========================================\n",
            "Train Acc (Category): 0.472322 Train F1 (Attribute): 0.128979 Train Loss: 3.491927\n",
            "  Val Acc (Category): 0.533285   Val F1 (Attribute): 0.192010   Val Loss: 3.193482\n",
            "======================================== Epoch 3 ========================================\n",
            "Train Acc (Category): 0.516014 Train F1 (Attribute): 0.160600 Train Loss: 3.291405\n",
            "  Val Acc (Category): 0.558611   Val F1 (Attribute): 0.166483   Val Loss: 3.135005\n",
            "======================================== Epoch 4 ========================================\n",
            "Train Acc (Category): 0.544127 Train F1 (Attribute): 0.187424 Train Loss: 3.156208\n",
            "  Val Acc (Category): 0.552098   Val F1 (Attribute): 0.195957   Val Loss: 3.081568\n",
            "======================================== Epoch 5 ========================================\n",
            "Train Acc (Category): 0.562826 Train F1 (Attribute): 0.202584 Train Loss: 3.070285\n",
            "  Val Acc (Category): 0.563676   Val F1 (Attribute): 0.234169   Val Loss: 3.050664\n",
            "======================================== Epoch 6 ========================================\n",
            "Train Acc (Category): 0.615804 Train F1 (Attribute): 0.256701 Train Loss: 2.819459\n",
            "  Val Acc (Category): 0.617221   Val F1 (Attribute): 0.270113   Val Loss: 2.853034\n",
            "======================================== Epoch 7 ========================================\n",
            "Train Acc (Category): 0.633071 Train F1 (Attribute): 0.272028 Train Loss: 2.745959\n",
            "  Val Acc (Category): 0.619754   Val F1 (Attribute): 0.278742   Val Loss: 2.831418\n",
            "======================================== Epoch 8 ========================================\n",
            "Train Acc (Category): 0.637547 Train F1 (Attribute): 0.276949 Train Loss: 2.716507\n",
            "  Val Acc (Category): 0.619573   Val F1 (Attribute): 0.291260   Val Loss: 2.815017\n",
            "======================================== Epoch 9 ========================================\n",
            "Train Acc (Category): 0.645580 Train F1 (Attribute): 0.284011 Train Loss: 2.681915\n",
            "  Val Acc (Category): 0.621382   Val F1 (Attribute): 0.290036   Val Loss: 2.811196\n",
            "======================================== Epoch 10 ========================================\n",
            "Train Acc (Category): 0.648880 Train F1 (Attribute): 0.290314 Train Loss: 2.652191\n",
            "  Val Acc (Category): 0.624096   Val F1 (Attribute): 0.290175   Val Loss: 2.805309\n",
            "======================================== Epoch 11 ========================================\n",
            "Train Acc (Category): 0.659879 Train F1 (Attribute): 0.296555 Train Loss: 2.611313\n",
            "  Val Acc (Category): 0.625543   Val F1 (Attribute): 0.299612   Val Loss: 2.798015\n",
            "======================================== Epoch 12 ========================================\n",
            "Train Acc (Category): 0.659751 Train F1 (Attribute): 0.298132 Train Loss: 2.603346\n",
            "  Val Acc (Category): 0.627171   Val F1 (Attribute): 0.301632   Val Loss: 2.799521\n",
            "======================================== Epoch 13 ========================================\n",
            "Train Acc (Category): 0.660391 Train F1 (Attribute): 0.301283 Train Loss: 2.601506\n",
            "  Val Acc (Category): 0.626447   Val F1 (Attribute): 0.302066   Val Loss: 2.797609\n",
            "======================================== Epoch 14 ========================================\n",
            "Train Acc (Category): 0.658907 Train F1 (Attribute): 0.300664 Train Loss: 2.601121\n",
            "  Val Acc (Category): 0.628437   Val F1 (Attribute): 0.302518   Val Loss: 2.796652\n",
            "======================================== Epoch 15 ========================================\n",
            "Train Acc (Category): 0.662821 Train F1 (Attribute): 0.302421 Train Loss: 2.590678\n",
            "  Val Acc (Category): 0.628075   Val F1 (Attribute): 0.301915   Val Loss: 2.796026\n",
            "======================================== Epoch 16 ========================================\n",
            "Train Acc (Category): 0.660902 Train F1 (Attribute): 0.302216 Train Loss: 2.591412\n",
            "  Val Acc (Category): 0.628799   Val F1 (Attribute): 0.302548   Val Loss: 2.795660\n",
            "======================================== Epoch 17 ========================================\n",
            "Train Acc (Category): 0.662079 Train F1 (Attribute): 0.304417 Train Loss: 2.590003\n",
            "  Val Acc (Category): 0.629703   Val F1 (Attribute): 0.302186   Val Loss: 2.795894\n",
            "======================================== Epoch 18 ========================================\n",
            "Train Acc (Category): 0.660135 Train F1 (Attribute): 0.302711 Train Loss: 2.594391\n",
            "  Val Acc (Category): 0.628980   Val F1 (Attribute): 0.302669   Val Loss: 2.796013\n",
            "======================================== Epoch 19 ========================================\n",
            "Train Acc (Category): 0.663154 Train F1 (Attribute): 0.302799 Train Loss: 2.590350\n",
            "  Val Acc (Category): 0.629703   Val F1 (Attribute): 0.302578   Val Loss: 2.796132\n",
            "======================================== Epoch 20 ========================================\n",
            "Train Acc (Category): 0.663972 Train F1 (Attribute): 0.304482 Train Loss: 2.594414\n",
            "  Val Acc (Category): 0.629342   Val F1 (Attribute): 0.302379   Val Loss: 2.795649\n"
          ]
        }
      ],
      "source": [
        "max_epochs = 20\n",
        "log_interval = 1 # print acc and loss in per log_interval time\n",
        "\n",
        "train_acc_list = []\n",
        "train_loss_list = []\n",
        "val_acc_list = []\n",
        "val_loss_list = []\n",
        "train_f1_list = []\n",
        "val_f1_list = []\n",
        "\n",
        "for epoch in range(1, max_epochs + 1):\n",
        "    train_acc, train_f1, train_loss = train(train_loader, model, criterion1, criterion2, optimizer)\n",
        "    val_acc, val_f1, val_loss = val(val_loader, model, criterion1, criterion2)\n",
        "    scheduler.step()\n",
        "\n",
        "    train_acc_list.append(train_acc)\n",
        "    train_loss_list.append(train_loss)\n",
        "    train_f1_list.append(train_f1)\n",
        "    val_acc_list.append(val_acc)\n",
        "    val_loss_list.append(val_loss)\n",
        "    val_f1_list.append(val_f1)\n",
        "\n",
        "    if epoch % log_interval == 0:\n",
        "        print('=' * 40, 'Epoch', epoch, '=' * 40)\n",
        "        print('Train Acc (Category): {:.6f}  Train F1 (Attribute): {:.6f}  Train Loss: {:.6f}'.format(train_acc, train_f1, train_loss))\n",
        "        print('  Val Acc (Category): {:.6f}    Val F1 (Attribute): {:.6f}    Val Loss: {:.6f}'.format(val_acc, val_f1, val_loss))"
      ]
    },
    {
      "cell_type": "code",
      "execution_count": 18,
      "metadata": {
        "id": "sdBlib2wzYU7"
      },
      "outputs": [],
      "source": [
        "# save your well-trained state_dict of model\n",
        "torch.save(model.state_dict(), 'NAME_OF_THIS_EXPERIMENT.pt')"
      ]
    },
    {
      "cell_type": "markdown",
      "metadata": {
        "id": "W5pW9zcKAN-2"
      },
      "source": [
        "#### Visualize accuracy and loss"
      ]
    },
    {
      "cell_type": "code",
      "execution_count": 19,
      "metadata": {
        "colab": {
          "base_uri": "https://localhost:8080/",
          "height": 809
        },
        "id": "4ifzgfp7iq2m",
        "outputId": "04693c16-70a4-4654-d180-2f8e3fab9c37"
      },
      "outputs": [
        {
          "data": {
            "image/png": "[encoded data removed]",
            "text/plain": [
              "<Figure size 864x288 with 1 Axes>"
            ]
          },
          "metadata": {
            "needs_background": "light"
          },
          "output_type": "display_data"
        },
        {
          "data": {
            "image/png": "[encoded data removed]",
            "text/plain": [
              "<Figure size 864x288 with 1 Axes>"
            ]
          },
          "metadata": {
            "needs_background": "light"
          },
          "output_type": "display_data"
        },
        {
          "data": {
            "image/png": "[encoded data removed]",
            "text/plain": [
              "<Figure size 864x288 with 1 Axes>"
            ]
          },
          "metadata": {
            "needs_background": "light"
          },
          "output_type": "display_data"
        }
      ],
      "source": [
        "import matplotlib.pyplot as plt\n",
        "\n",
        "plt.figure(figsize=(12, 4))\n",
        "plt.plot(range(len(train_acc_list)), train_acc_list)\n",
        "plt.plot(range(len(val_acc_list)), val_acc_list, c='r')\n",
        "plt.legend(['train', 'val'])\n",
        "plt.title('Acc')\n",
        "plt.show()\n",
        "\n",
        "plt.figure(figsize=(12, 4))\n",
        "plt.plot(range(len(train_f1_list)), train_f1_list)\n",
        "plt.plot(range(len(val_f1_list)), val_f1_list, c='r')\n",
        "plt.legend(['train', 'val'])\n",
        "plt.title('F1')\n",
        "plt.show()\n",
        "\n",
        "plt.figure(figsize=(12, 4))\n",
        "plt.plot(range(len(train_loss_list)), train_loss_list)\n",
        "plt.plot(range(len(val_loss_list)), val_loss_list, c='r')\n",
        "plt.legend(['train', 'val'])\n",
        "plt.title('Loss')\n",
        "plt.show()"
      ]
    },
    {
      "cell_type": "markdown",
      "metadata": {
        "id": "zMYSgO5viYOk"
      },
      "source": [
        "### Predict Result\n",
        "\n",
        "Predict the labesl based on testing set. Upload to Kaggle. [**LINK**](https://www.kaggle.com/t/a9e78aa7a68b40cd960bd8dcb09f8e45).\n",
        "\n",
        "**How to upload**\n",
        "\n",
        "1. Click the folder icon in the left hand side of Colab.\n",
        "2. Right click \"result.csv\". Select \"Download\"\n",
        "3. To kaggle. Click \"Submit Predictions\"\n",
        "4. Upload the result.csv\n",
        "5. System will automaticlaly calculate the accuracy of 70% dataset and publish this result to leaderboard.\n",
        "\n",
        "---\n",
        "\n",
        "預測`test`並將結果上傳至Kaggle。[**連結**](https://www.kaggle.com/t/a9e78aa7a68b40cd960bd8dcb09f8e45)\n",
        "\n",
        "執行完畢此區的程式碼後，會將`test`預測完的結果存下來。\n",
        "\n",
        "上傳流程\n",
        "1. 點選左側選單最下方的資料夾圖示\n",
        "2. 右鍵「result.csv」\n",
        "3. 點選「Download」\n",
        "4. 至連結網頁點選「Submit Predictions」\n",
        "5. 將剛剛下載的檔案上傳\n",
        "6. 系統會計算並公布其中70%資料的正確率"
      ]
    },
    {
      "cell_type": "code",
      "execution_count": 20,
      "metadata": {
        "id": "6s1DPoVH3GdV"
      },
      "outputs": [],
      "source": [
        "from google.colab import files"
      ]
    },
    {
      "cell_type": "code",
      "execution_count": 21,
      "metadata": {
        "id": "SiyK25P6KXrn"
      },
      "outputs": [],
      "source": [
        "def predict_category(input_data, model):\n",
        "  model.eval()\n",
        "  output_list = []\n",
        "  with torch.no_grad():\n",
        "    for data in input_data:\n",
        "      images = data.to(device)\n",
        "      outputs = model(images)[0]\n",
        "      _, predicted = torch.max(torch.softmax(outputs.data, 1), 1)\n",
        "      output_list.extend(predicted.to('cpu').numpy().tolist())\n",
        "  return output_list"
      ]
    },
    {
      "cell_type": "code",
      "execution_count": 22,
      "metadata": {
        "id": "0I0LN7HwpnsX"
      },
      "outputs": [],
      "source": [
        "idx = 0\n",
        "output_csv = predict_category(test_loader, model)\n",
        "with open('result_cat_vgg16_useWeightDecay.csv', 'w', newline='') as csvFile:\n",
        "  writer = csv.DictWriter(csvFile, fieldnames=['file_path', 'category_label'])\n",
        "  writer.writeheader()\n",
        "  for result in output_csv:\n",
        "    file_path = dataset_test.data_list[idx]\n",
        "    writer.writerow({'file_path':file_path, 'category_label':result})\n",
        "    idx += 1"
      ]
    },
    {
      "cell_type": "code",
      "execution_count": 23,
      "metadata": {
        "id": "-TIpktmdEXr5"
      },
      "outputs": [],
      "source": [
        "def predict_attribute(input_data, model):\n",
        "  model.eval()\n",
        "  output_list = []\n",
        "  with torch.no_grad():\n",
        "    for data in input_data:\n",
        "      images = data.to(device)\n",
        "      outputs = model(images)[1]\n",
        "      predicted = (torch.sigmoid(outputs.data) > 0.25).int()\n",
        "      index = []\n",
        "      for img in range(len(predicted)):\n",
        "        index = []\n",
        "        for i in range(len(predicted[img])):\n",
        "            if(predicted[img][i]==1):\n",
        "                index.append(str(i))\n",
        "        output_list.append(' '.join(index)) #轉成str\n",
        "  return output_list"
      ]
    },
    {
      "cell_type": "code",
      "execution_count": 24,
      "metadata": {
        "id": "_u4VHLfoEbMx"
      },
      "outputs": [],
      "source": [
        "idx = 0\n",
        "output_csv = predict_attribute(test_loader, model)\n",
        "with open('result_att_vgg16_useWeightDecay.csv', 'w', newline='') as csvFile:\n",
        "  writer = csv.DictWriter(csvFile, fieldnames=['file_path', 'attribute_label'])\n",
        "  writer.writeheader()\n",
        "  for result in output_csv:\n",
        "    file_path = dataset_test.data_list[idx]\n",
        "    writer.writerow({'file_path':file_path, 'attribute_label':result})\n",
        "    idx += 1"
      ]
    },
    {
      "cell_type": "code",
      "execution_count": 25,
      "metadata": {
        "colab": {
          "base_uri": "https://localhost:8080/",
          "height": 17
        },
        "id": "rLpudC4o3KZk",
        "outputId": "95fc8385-f6d4-4634-c808-c6e3c03ca5bd"
      },
      "outputs": [
        {
          "data": {
            "application/javascript": "\n    async function download(id, filename, size) {\n      if (!google.colab.kernel.accessAllowed) {\n        return;\n      }\n      const div = document.createElement('div');\n      const label = document.createElement('label');\n      label.textContent = `Downloading \"${filename}\": `;\n      div.appendChild(label);\n      const progress = document.createElement('progress');\n      progress.max = size;\n      div.appendChild(progress);\n      document.body.appendChild(div);\n\n      const buffers = [];\n      let downloaded = 0;\n\n      const channel = await google.colab.kernel.comms.open(id);\n      // Send a message to notify the kernel that we're ready.\n      channel.send({})\n\n      for await (const message of channel.messages) {\n        // Send a message to notify the kernel that we're ready.\n        channel.send({})\n        if (message.buffers) {\n          for (const buffer of message.buffers) {\n            buffers.push(buffer);\n            downloaded += buffer.byteLength;\n            progress.value = downloaded;\n          }\n        }\n      }\n      const blob = new Blob(buffers, {type: 'application/binary'});\n      const a = document.createElement('a');\n      a.href = window.URL.createObjectURL(blob);\n      a.download = filename;\n      div.appendChild(a);\n      a.click();\n      div.remove();\n    }\n  ",
            "text/plain": [
              "<IPython.core.display.Javascript object>"
            ]
          },
          "metadata": {},
          "output_type": "display_data"
        },
        {
          "data": {
            "application/javascript": "download(\"download_127870dc-87d4-4e2c-97ac-a0ec4f59d9af\", \"result_cat_vgg16.csv\", 348001)",
            "text/plain": [
              "<IPython.core.display.Javascript object>"
            ]
          },
          "metadata": {},
          "output_type": "display_data"
        },
        {
          "data": {
            "application/javascript": "\n    async function download(id, filename, size) {\n      if (!google.colab.kernel.accessAllowed) {\n        return;\n      }\n      const div = document.createElement('div');\n      const label = document.createElement('label');\n      label.textContent = `Downloading \"${filename}\": `;\n      div.appendChild(label);\n      const progress = document.createElement('progress');\n      progress.max = size;\n      div.appendChild(progress);\n      document.body.appendChild(div);\n\n      const buffers = [];\n      let downloaded = 0;\n\n      const channel = await google.colab.kernel.comms.open(id);\n      // Send a message to notify the kernel that we're ready.\n      channel.send({})\n\n      for await (const message of channel.messages) {\n        // Send a message to notify the kernel that we're ready.\n        channel.send({})\n        if (message.buffers) {\n          for (const buffer of message.buffers) {\n            buffers.push(buffer);\n            downloaded += buffer.byteLength;\n            progress.value = downloaded;\n          }\n        }\n      }\n      const blob = new Blob(buffers, {type: 'application/binary'});\n      const a = document.createElement('a');\n      a.href = window.URL.createObjectURL(blob);\n      a.download = filename;\n      div.appendChild(a);\n      a.click();\n      div.remove();\n    }\n  ",
            "text/plain": [
              "<IPython.core.display.Javascript object>"
            ]
          },
          "metadata": {},
          "output_type": "display_data"
        },
        {
          "data": {
            "application/javascript": "download(\"download_8f578592-87b7-4d7e-bfd2-0121093fa460\", \"result_att_vgg16.csv\", 371509)",
            "text/plain": [
              "<IPython.core.display.Javascript object>"
            ]
          },
          "metadata": {},
          "output_type": "display_data"
        }
      ],
      "source": [
        "files.download(\"result_cat_vgg16_useWeightDecay.csv\")\n",
        "files.download(\"result_att_vgg16_useWeightDecay.csv\")"
      ]
    },
    {
      "cell_type": "markdown",
      "metadata": {
        "id": "4XTB6EF6mH2Q"
      },
      "source": [
        "# Keep trying and write report\n",
        "\n",
        "Keep adjust your model, loss function, optimizer...... to train the better model.  \n",
        "Remember record the output of different setting. It's convenient for your to write the report.\n",
        "\n",
        "You are on your way!\n",
        "\n",
        "---\n",
        "\n",
        "持續調整模型、訓練方法、損失函數、優化器等，來訓練出更好的模型，並記錄使用不同參數得出的效果，以利後續 Report 的撰寫。\n",
        "\n",
        "大家加油！"
      ]
    }
  ],
  "metadata": {
    "accelerator": "GPU",
    "colab": {
      "collapsed_sections": [],
      "provenance": []
    },
    "kernelspec": {
      "display_name": "Python 3",
      "name": "python3"
    },
    "language_info": {
      "name": "python"
    },
    "widgets": {
      "application/vnd.jupyter.widget-state+json": {
        "0a88a482f45247308633fc0ca58d46d3": {
          "model_module": "@jupyter-widgets/base",
          "model_module_version": "1.2.0",
          "model_name": "LayoutModel",
          "state": {
            "_model_module": "@jupyter-widgets/base",
            "_model_module_version": "1.2.0",
            "_model_name": "LayoutModel",
            "_view_count": null,
            "_view_module": "@jupyter-widgets/base",
            "_view_module_version": "1.2.0",
            "_view_name": "LayoutView",
            "align_content": null,
            "align_items": null,
            "align_self": null,
            "border": null,
            "bottom": null,
            "display": null,
            "flex": null,
            "flex_flow": null,
            "grid_area": null,
            "grid_auto_columns": null,
            "grid_auto_flow": null,
            "grid_auto_rows": null,
            "grid_column": null,
            "grid_gap": null,
            "grid_row": null,
            "grid_template_areas": null,
            "grid_template_columns": null,
            "grid_template_rows": null,
            "height": null,
            "justify_content": null,
            "justify_items": null,
            "left": null,
            "margin": null,
            "max_height": null,
            "max_width": null,
            "min_height": null,
            "min_width": null,
            "object_fit": null,
            "object_position": null,
            "order": null,
            "overflow": null,
            "overflow_x": null,
            "overflow_y": null,
            "padding": null,
            "right": null,
            "top": null,
            "visibility": null,
            "width": null
          }
        },
        "112650c436884c02b90357214ed7a15b": {
          "model_module": "@jupyter-widgets/controls",
          "model_module_version": "1.5.0",
          "model_name": "DescriptionStyleModel",
          "state": {
            "_model_module": "@jupyter-widgets/controls",
            "_model_module_version": "1.5.0",
            "_model_name": "DescriptionStyleModel",
            "_view_count": null,
            "_view_module": "@jupyter-widgets/base",
            "_view_module_version": "1.2.0",
            "_view_name": "StyleView",
            "description_width": ""
          }
        },
        "27e4430d4a684fafa1792ba9089169b2": {
          "model_module": "@jupyter-widgets/controls",
          "model_module_version": "1.5.0",
          "model_name": "HBoxModel",
          "state": {
            "_dom_classes": [],
            "_model_module": "@jupyter-widgets/controls",
            "_model_module_version": "1.5.0",
            "_model_name": "HBoxModel",
            "_view_count": null,
            "_view_module": "@jupyter-widgets/controls",
            "_view_module_version": "1.5.0",
            "_view_name": "HBoxView",
            "box_style": "",
            "children": [
              "IPY_MODEL_cf4ce508c229452b86463b9d5c15c8b6",
              "IPY_MODEL_e19162bd18c049e39c84e3ea028f6bd7",
              "IPY_MODEL_a3479b5644be4792b7a9153626136970"
            ],
            "layout": "IPY_MODEL_9b61a90ab066445a8fc7e19259e98338"
          }
        },
        "76daffc070764c269ac2c2190b1b0377": {
          "model_module": "@jupyter-widgets/controls",
          "model_module_version": "1.5.0",
          "model_name": "ProgressStyleModel",
          "state": {
            "_model_module": "@jupyter-widgets/controls",
            "_model_module_version": "1.5.0",
            "_model_name": "ProgressStyleModel",
            "_view_count": null,
            "_view_module": "@jupyter-widgets/base",
            "_view_module_version": "1.2.0",
            "_view_name": "StyleView",
            "bar_color": null,
            "description_width": ""
          }
        },
        "850a31f82dfc47029ae388a05cd99a94": {
          "model_module": "@jupyter-widgets/base",
          "model_module_version": "1.2.0",
          "model_name": "LayoutModel",
          "state": {
            "_model_module": "@jupyter-widgets/base",
            "_model_module_version": "1.2.0",
            "_model_name": "LayoutModel",
            "_view_count": null,
            "_view_module": "@jupyter-widgets/base",
            "_view_module_version": "1.2.0",
            "_view_name": "LayoutView",
            "align_content": null,
            "align_items": null,
            "align_self": null,
            "border": null,
            "bottom": null,
            "display": null,
            "flex": null,
            "flex_flow": null,
            "grid_area": null,
            "grid_auto_columns": null,
            "grid_auto_flow": null,
            "grid_auto_rows": null,
            "grid_column": null,
            "grid_gap": null,
            "grid_row": null,
            "grid_template_areas": null,
            "grid_template_columns": null,
            "grid_template_rows": null,
            "height": null,
            "justify_content": null,
            "justify_items": null,
            "left": null,
            "margin": null,
            "max_height": null,
            "max_width": null,
            "min_height": null,
            "min_width": null,
            "object_fit": null,
            "object_position": null,
            "order": null,
            "overflow": null,
            "overflow_x": null,
            "overflow_y": null,
            "padding": null,
            "right": null,
            "top": null,
            "visibility": null,
            "width": null
          }
        },
        "9b61a90ab066445a8fc7e19259e98338": {
          "model_module": "@jupyter-widgets/base",
          "model_module_version": "1.2.0",
          "model_name": "LayoutModel",
          "state": {
            "_model_module": "@jupyter-widgets/base",
            "_model_module_version": "1.2.0",
            "_model_name": "LayoutModel",
            "_view_count": null,
            "_view_module": "@jupyter-widgets/base",
            "_view_module_version": "1.2.0",
            "_view_name": "LayoutView",
            "align_content": null,
            "align_items": null,
            "align_self": null,
            "border": null,
            "bottom": null,
            "display": null,
            "flex": null,
            "flex_flow": null,
            "grid_area": null,
            "grid_auto_columns": null,
            "grid_auto_flow": null,
            "grid_auto_rows": null,
            "grid_column": null,
            "grid_gap": null,
            "grid_row": null,
            "grid_template_areas": null,
            "grid_template_columns": null,
            "grid_template_rows": null,
            "height": null,
            "justify_content": null,
            "justify_items": null,
            "left": null,
            "margin": null,
            "max_height": null,
            "max_width": null,
            "min_height": null,
            "min_width": null,
            "object_fit": null,
            "object_position": null,
            "order": null,
            "overflow": null,
            "overflow_x": null,
            "overflow_y": null,
            "padding": null,
            "right": null,
            "top": null,
            "visibility": null,
            "width": null
          }
        },
        "9c6abe0721dd4b1ab9a7c5e292f867f7": {
          "model_module": "@jupyter-widgets/base",
          "model_module_version": "1.2.0",
          "model_name": "LayoutModel",
          "state": {
            "_model_module": "@jupyter-widgets/base",
            "_model_module_version": "1.2.0",
            "_model_name": "LayoutModel",
            "_view_count": null,
            "_view_module": "@jupyter-widgets/base",
            "_view_module_version": "1.2.0",
            "_view_name": "LayoutView",
            "align_content": null,
            "align_items": null,
            "align_self": null,
            "border": null,
            "bottom": null,
            "display": null,
            "flex": null,
            "flex_flow": null,
            "grid_area": null,
            "grid_auto_columns": null,
            "grid_auto_flow": null,
            "grid_auto_rows": null,
            "grid_column": null,
            "grid_gap": null,
            "grid_row": null,
            "grid_template_areas": null,
            "grid_template_columns": null,
            "grid_template_rows": null,
            "height": null,
            "justify_content": null,
            "justify_items": null,
            "left": null,
            "margin": null,
            "max_height": null,
            "max_width": null,
            "min_height": null,
            "min_width": null,
            "object_fit": null,
            "object_position": null,
            "order": null,
            "overflow": null,
            "overflow_x": null,
            "overflow_y": null,
            "padding": null,
            "right": null,
            "top": null,
            "visibility": null,
            "width": null
          }
        },
        "a3479b5644be4792b7a9153626136970": {
          "model_module": "@jupyter-widgets/controls",
          "model_module_version": "1.5.0",
          "model_name": "HTMLModel",
          "state": {
            "_dom_classes": [],
            "_model_module": "@jupyter-widgets/controls",
            "_model_module_version": "1.5.0",
            "_model_name": "HTMLModel",
            "_view_count": null,
            "_view_module": "@jupyter-widgets/controls",
            "_view_module_version": "1.5.0",
            "_view_name": "HTMLView",
            "description": "",
            "description_tooltip": null,
            "layout": "IPY_MODEL_9c6abe0721dd4b1ab9a7c5e292f867f7",
            "placeholder": "​",
            "style": "IPY_MODEL_ed9827d8282f4472ad5df9bba896260c",
            "value": " 528M/528M [00:02&lt;00:00, 225MB/s]"
          }
        },
        "cf4ce508c229452b86463b9d5c15c8b6": {
          "model_module": "@jupyter-widgets/controls",
          "model_module_version": "1.5.0",
          "model_name": "HTMLModel",
          "state": {
            "_dom_classes": [],
            "_model_module": "@jupyter-widgets/controls",
            "_model_module_version": "1.5.0",
            "_model_name": "HTMLModel",
            "_view_count": null,
            "_view_module": "@jupyter-widgets/controls",
            "_view_module_version": "1.5.0",
            "_view_name": "HTMLView",
            "description": "",
            "description_tooltip": null,
            "layout": "IPY_MODEL_850a31f82dfc47029ae388a05cd99a94",
            "placeholder": "​",
            "style": "IPY_MODEL_112650c436884c02b90357214ed7a15b",
            "value": "100%"
          }
        },
        "e19162bd18c049e39c84e3ea028f6bd7": {
          "model_module": "@jupyter-widgets/controls",
          "model_module_version": "1.5.0",
          "model_name": "FloatProgressModel",
          "state": {
            "_dom_classes": [],
            "_model_module": "@jupyter-widgets/controls",
            "_model_module_version": "1.5.0",
            "_model_name": "FloatProgressModel",
            "_view_count": null,
            "_view_module": "@jupyter-widgets/controls",
            "_view_module_version": "1.5.0",
            "_view_name": "ProgressView",
            "bar_style": "success",
            "description": "",
            "description_tooltip": null,
            "layout": "IPY_MODEL_0a88a482f45247308633fc0ca58d46d3",
            "max": 553433881,
            "min": 0,
            "orientation": "horizontal",
            "style": "IPY_MODEL_76daffc070764c269ac2c2190b1b0377",
            "value": 553433881
          }
        },
        "ed9827d8282f4472ad5df9bba896260c": {
          "model_module": "@jupyter-widgets/controls",
          "model_module_version": "1.5.0",
          "model_name": "DescriptionStyleModel",
          "state": {
            "_model_module": "@jupyter-widgets/controls",
            "_model_module_version": "1.5.0",
            "_model_name": "DescriptionStyleModel",
            "_view_count": null,
            "_view_module": "@jupyter-widgets/base",
            "_view_module_version": "1.2.0",
            "_view_name": "StyleView",
            "description_width": ""
          }
        }
      }
    }
  },
  "nbformat": 4,
  "nbformat_minor": 0
}
