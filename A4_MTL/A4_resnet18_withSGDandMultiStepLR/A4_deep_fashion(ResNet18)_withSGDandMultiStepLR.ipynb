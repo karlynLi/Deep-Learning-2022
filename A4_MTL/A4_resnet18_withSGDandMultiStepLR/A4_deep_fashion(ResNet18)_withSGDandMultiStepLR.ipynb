{
  "cells": [
    {
      "cell_type": "markdown",
      "metadata": {
        "id": "hLcWRu-jp7gM"
      },
      "source": [
        "# MIS 583 Assignment 4: Deep Fashion"
      ]
    },
    {
      "cell_type": "markdown",
      "metadata": {
        "id": "6DzsjuDhlz_k"
      },
      "source": [
        "**Your Answer:**   \n",
        "Hi I'm 李畇彤, M114020038"
      ]
    },
    {
      "cell_type": "markdown",
      "metadata": {
        "id": "b1NQv3Ey3cVS"
      },
      "source": [
        "## Multitask Learning\n",
        "根據衣服圖片，建立一個 Multitask Learning 的模型，同時預測出種類與屬性。\n",
        "### Task 1 : Category\n",
        "- Multiclass : 10 categories\n",
        "- Goal : Predict the categories(0~9) of the outfit, a total of 10 categories.\n",
        "- [Kaggle link](https://www.kaggle.com/competitions/mis583-2022-deep-fashion-1/leaderboard)\n",
        "\n",
        "### Task 2 : Attribute\n",
        "- Multilabel : 15 attributes\n",
        "- Goal：Predict the attributes(0~14) of the outfit, a total of 15 attributes, each outfit could have many attributes (>=1).\n",
        "- [Kaggle link](https://www.kaggle.com/competitions/mis583-2022-a4-deep-fashion-2/leaderboard)"
      ]
    },
    {
      "cell_type": "markdown",
      "metadata": {
        "id": "bCtoiSyVVTO8"
      },
      "source": [
        "## Google Colab Setup"
      ]
    },
    {
      "cell_type": "code",
      "execution_count": 18,
      "metadata": {
        "colab": {
          "base_uri": "https://localhost:8080/"
        },
        "id": "tHG0slB6VTO8",
        "outputId": "b4d43a4c-b8ea-4c7e-9f49-c34f039cf87e"
      },
      "outputs": [
        {
          "name": "stdout",
          "output_type": "stream",
          "text": [
            "Drive already mounted at /content/drive; to attempt to forcibly remount, call drive.mount(\"/content/drive\", force_remount=True).\n"
          ]
        }
      ],
      "source": [
        "from google.colab import drive\n",
        "drive.mount('/content/drive')"
      ]
    },
    {
      "cell_type": "markdown",
      "metadata": {
        "id": "giUId1Naqacs"
      },
      "source": [
        "##  Versions of used packages\n",
        "\n",
        "We will check PyTorch version to make sure everything work properly.\n",
        "\n",
        "We use `python==3.7.14`, `torch==1.12.1+cu113` and `torchvision==0.13.1+cu113`. This is the default version in Google Colab."
      ]
    },
    {
      "cell_type": "code",
      "execution_count": 19,
      "metadata": {
        "colab": {
          "base_uri": "https://localhost:8080/"
        },
        "id": "Vuw-gNvjqcYe",
        "outputId": "2748235f-fa59-4b79-f830-338218434ded"
      },
      "outputs": [
        {
          "name": "stdout",
          "output_type": "stream",
          "text": [
            "python 3.7.15 (default, Oct 12 2022, 19:14:55) \n",
            "torch 1.12.1+cu113\n",
            "torchvision 0.13.1+cu113\n"
          ]
        }
      ],
      "source": [
        "import sys\n",
        "import torch\n",
        "import torchvision\n",
        "print('python', sys.version.split('\\n')[0])\n",
        "print('torch', torch.__version__)\n",
        "print('torchvision', torchvision.__version__)"
      ]
    },
    {
      "cell_type": "markdown",
      "metadata": {
        "id": "OhdbdJOsrbxL"
      },
      "source": [
        "# Prepare Data"
      ]
    },
    {
      "cell_type": "markdown",
      "metadata": {
        "id": "cqO8DiB6VRQZ"
      },
      "source": [
        "## Unzip Data\n"
      ]
    },
    {
      "cell_type": "code",
      "execution_count": 20,
      "metadata": {
        "colab": {
          "base_uri": "https://localhost:8080/"
        },
        "id": "aGCZQxZSfONu",
        "outputId": "56a6c564-5fab-4eaf-b0b6-0d148e55ad95"
      },
      "outputs": [
        {
          "name": "stdout",
          "output_type": "stream",
          "text": [
            "replace deep_fashion/val/02039.jpg? [y]es, [n]o, [A]ll, [N]one, [r]ename: A\n"
          ]
        }
      ],
      "source": [
        "!unzip -qq ./drive/MyDrive/NSYSU/Deep_Learning/MIS583/deep_fashion.zip"
      ]
    },
    {
      "cell_type": "code",
      "execution_count": 21,
      "metadata": {
        "id": "lYccv1qYzYUz"
      },
      "outputs": [],
      "source": [
        "data_folder = 'deep_fashion'"
      ]
    },
    {
      "cell_type": "markdown",
      "metadata": {
        "id": "SYueKGdIHpho"
      },
      "source": [
        "## Loading the dataset\n"
      ]
    },
    {
      "cell_type": "markdown",
      "metadata": {
        "id": "xpG2DxEqHFD-"
      },
      "source": [
        "### Custom dataset\n",
        "繼承自定義資料集的框架 `torch.utils.data.Dataset`，主要實現 `__getitem__()` 和 `__len__()` 這兩個方法。\n",
        "\n",
        "常使用來做到設定資料位址、設定讀取方式、子資料集的標籤和轉換條件...等。\n",
        "\n",
        "See [torch.utils.data.Dataset](https://pytorch.org/docs/stable/data.html#torch.utils.data.Dataset) for more details"
      ]
    },
    {
      "cell_type": "code",
      "execution_count": 22,
      "metadata": {
        "id": "dwUE1E83_Iw8"
      },
      "outputs": [],
      "source": [
        "import csv\n",
        "import os\n",
        "import numpy as np\n",
        "from PIL import Image\n",
        "import torch\n",
        "\n",
        "class Fashion(torch.utils.data.Dataset):\n",
        "    def __init__(self, csv_file, mode='train', transform=None):\n",
        "        self.mode = mode # 'train', 'val' or 'test'\n",
        "        self.data_list = []\n",
        "        self.category_labels = []\n",
        "        self.attribute_labels = []\n",
        "        self.transform = transform\n",
        "        \n",
        "        with open(f'{data_folder}/{csv_file}', newline='') as csvfile:\n",
        "            reader = csv.DictReader(csvfile)\n",
        "            for row in reader:\n",
        "                self.data_list.append(f\"{row['file_path']}\")\n",
        "                if mode != 'test':\n",
        "                    self.category_labels.append(row['category_label'])\n",
        "                    self.attribute_labels.append(list(map(int, row['attribute_label'].split())))\n",
        "\n",
        "    def __getitem__(self, index):\n",
        "        data = Image.open(self.data_list[index])\n",
        "        if self.transform is not None:\n",
        "            data = self.transform(data)\n",
        "        if self.mode == 'test':\n",
        "            return data\n",
        "        category_label = torch.tensor(int(self.category_labels[index]))\n",
        "\n",
        "        attribute_label = torch.tensor(self.attribute_labels[index])\n",
        "        attribute_label = torch.zeros(15).scatter_(0, attribute_label, 1)\n",
        "\n",
        "        return data, category_label, attribute_label\n",
        "\n",
        "    def __len__(self):\n",
        "        return len(self.data_list)"
      ]
    },
    {
      "cell_type": "markdown",
      "metadata": {
        "id": "5tQGLuVWnA-b"
      },
      "source": [
        "### Data augmentation \n",
        "\n",
        "Data augmentation are techniques used to increase the amount of data by adding slightly modified copies of already existing data or newly created synthetic data from existing data.\n",
        "\n",
        "PyTorch use `torchvision.transforms` to do data augmentation.\n",
        "[You can see all function here.](https://pytorch.org/vision/stable/transforms.html)\n",
        "\n",
        "**NOTICE**: There are some operations may not be necessary for predict, so we should write one for train and one for others."
      ]
    },
    {
      "cell_type": "code",
      "execution_count": 23,
      "metadata": {
        "id": "UIv1VyHXVNTo"
      },
      "outputs": [],
      "source": [
        "from torchvision import transforms\n",
        "# For TRAIN\n",
        "mean=[0.485, 0.456, 0.406]\n",
        "std=[0.229, 0.224, 0.225]\n",
        "transforms_train = transforms.Compose([\n",
        "    transforms.Resize((256, 256)),\n",
        "    transforms.CenterCrop((224,224)),\n",
        "    transforms.RandomHorizontalFlip(p=0.5),\n",
        "    transforms.ColorJitter(brightness=0.2, contrast=0.2, saturation=0.1, hue=0.1), # !!!!!\n",
        "    transforms.RandomRotation(degrees=(-90, 90)),\n",
        "    transforms.ToTensor(),\n",
        "    transforms.Normalize(mean, std),\n",
        "  ])\n",
        "\n",
        "# For VAL, TEST\n",
        "transforms_test = transforms.Compose([\n",
        "    transforms.Resize((256,256)),\n",
        "    transforms.CenterCrop((224,224)),\n",
        "    transforms.ToTensor(),\n",
        "    transforms.Normalize(mean, std),\n",
        "  ])"
      ]
    },
    {
      "cell_type": "markdown",
      "metadata": {
        "id": "7rYptn_YJlFX"
      },
      "source": [
        "### Instantiate dataset\n",
        "\n",
        "Let's instantiate three `Fashion` class.\n",
        "+ dataset_train: for training.\n",
        "+ dataset_val: for validation.\n",
        "+ dataset_test: for tesing.\n",
        "\n",
        "\n",
        "### Data Quality\n",
        "+ train : 39092 \n",
        "+ val : 5528\n",
        "+ test : 11225"
      ]
    },
    {
      "cell_type": "code",
      "execution_count": 24,
      "metadata": {
        "id": "LKjsKyHhZZc6"
      },
      "outputs": [],
      "source": [
        "dataset_train = Fashion('train.csv', mode='train', transform=transforms_train)\n",
        "dataset_val = Fashion('val.csv', mode='val', transform=transforms_test)\n",
        "dataset_test = Fashion('test.csv', mode='test', transform=transforms_test)"
      ]
    },
    {
      "cell_type": "code",
      "execution_count": 25,
      "metadata": {
        "colab": {
          "base_uri": "https://localhost:8080/"
        },
        "id": "ZAeQQEEISCJJ",
        "outputId": "2f7e8d72-2ec6-44dc-d14b-d33cf924670d"
      },
      "outputs": [
        {
          "name": "stdout",
          "output_type": "stream",
          "text": [
            "The first image's shape in dataset_train : torch.Size([3, 224, 224])\n",
            "There are 39092 images in dataset_train.\n"
          ]
        }
      ],
      "source": [
        "print(\"The first image's shape in dataset_train :\", dataset_train[0][0].size())\n",
        "print(\"There are\", dataset_train.__len__(), \"images in dataset_train.\")"
      ]
    },
    {
      "cell_type": "markdown",
      "metadata": {
        "id": "vORA6qkfIj1U"
      },
      "source": [
        "### `DataLoader`\n",
        "\n",
        "`torch.utils.data.DataLoader` define how to sample from `dataset` and some other function like:\n",
        "+ `shuffle` : set to `True` to have the data reshuffled at every epoch\n",
        "+ `batch_size` : how many samples per batch to load\n",
        "\n",
        "See [torch.utils.data.DataLoader](https://pytorch.org/docs/stable/data.html#torch.utils.data.DataLoader) for more details"
      ]
    },
    {
      "cell_type": "code",
      "execution_count": 26,
      "metadata": {
        "id": "RmgA5nYT3XQZ"
      },
      "outputs": [],
      "source": [
        "from torch.utils.data import DataLoader\n",
        "\n",
        "batch_size = 32\n",
        "num_workers = 2\n",
        "train_loader = DataLoader(dataset_train, batch_size=batch_size, num_workers=num_workers, shuffle=True)\n",
        "val_loader = DataLoader(dataset_val, batch_size=batch_size, num_workers=num_workers, shuffle=False)\n",
        "test_loader = DataLoader(dataset_test, batch_size=batch_size, num_workers=num_workers, shuffle=False)"
      ]
    },
    {
      "cell_type": "markdown",
      "metadata": {
        "id": "U4atwzT3aPi3"
      },
      "source": [
        "Finally! We have made all data prepared.  \n",
        "Let's go develop our model."
      ]
    },
    {
      "cell_type": "markdown",
      "metadata": {
        "id": "87KYcWknS95z"
      },
      "source": [
        "# Implement CNN using PyTorch"
      ]
    },
    {
      "cell_type": "markdown",
      "metadata": {
        "id": "OH_4NKB9dsZ3"
      },
      "source": [
        "### Define a Convolutional Neural Network\n",
        "\n",
        "Try to design and train a deep convolutional network from scratch to predict the class label of a flower image. \n",
        "\n",
        "You can refer to last assignment about image_classifier, and try to go deep and use more method for better model."
      ]
    },
    {
      "cell_type": "code",
      "execution_count": 27,
      "metadata": {
        "id": "S_HxxEfdO2Ss"
      },
      "outputs": [],
      "source": [
        "import torch.nn as nn \n",
        "import torch.nn.functional as F\n",
        "import torchvision.models as models\n",
        "\n",
        "\n",
        "class Mtl_Model(nn.Module): \n",
        "    def __init__(self): \n",
        "        super().__init__()\n",
        "        # using model pretraining (vgg16, googlenet, resnet18, resnet34, resnet101 ...)\n",
        "        self.model = models.resnet18(pretrained=True)\n",
        "        # Category Model\n",
        "        self.fc1 = nn.Sequential(\n",
        "            nn.ReLU(),\n",
        "            nn.Linear(1000, 10)) # ResNet pretrain 的 fc size = 1000，所以 set linear = 1000\n",
        "        # Attribute Model\n",
        "        self.fc2 = nn.Sequential(\n",
        "            nn.ReLU(),\n",
        "            nn.Linear(1000, 15))\n",
        "\n",
        "    def forward(self, x): \n",
        "        if not isinstance(x, torch.Tensor):\n",
        "            x = torch.Tensor(x)\n",
        "        x = self.model(x)\n",
        "        out1 = self.fc1(x)\n",
        "        out2 = self.fc2(x)\n",
        "        return out1, out2"
      ]
    },
    {
      "cell_type": "code",
      "execution_count": 28,
      "metadata": {
        "id": "wOBCTZmbzYU4"
      },
      "outputs": [],
      "source": [
        "device = torch.device('cuda')\n",
        "# or\n",
        "#device = torch.device('cpu')"
      ]
    },
    {
      "cell_type": "code",
      "execution_count": 29,
      "metadata": {
        "colab": {
          "base_uri": "https://localhost:8080/"
        },
        "id": "TeWtAa1dzYU4",
        "outputId": "4f347079-5862-4b27-8236-bc0ea31d9a66"
      },
      "outputs": [
        {
          "name": "stderr",
          "output_type": "stream",
          "text": [
            "/usr/local/lib/python3.7/dist-packages/torchvision/models/_utils.py:209: UserWarning: The parameter 'pretrained' is deprecated since 0.13 and will be removed in 0.15, please use 'weights' instead.\n",
            "  f\"The parameter '{pretrained_param}' is deprecated since 0.13 and will be removed in 0.15, \"\n",
            "/usr/local/lib/python3.7/dist-packages/torchvision/models/_utils.py:223: UserWarning: Arguments other than a weight enum or `None` for 'weights' are deprecated since 0.13 and will be removed in 0.15. The current behavior is equivalent to passing `weights=ResNet18_Weights.IMAGENET1K_V1`. You can also use `weights=ResNet18_Weights.DEFAULT` to get the most up-to-date weights.\n",
            "  warnings.warn(msg)\n"
          ]
        },
        {
          "name": "stdout",
          "output_type": "stream",
          "text": [
            "Mtl_Model(\n",
            "  (model): ResNet(\n",
            "    (conv1): Conv2d(3, 64, kernel_size=(7, 7), stride=(2, 2), padding=(3, 3), bias=False)\n",
            "    (bn1): BatchNorm2d(64, eps=1e-05, momentum=0.1, affine=True, track_running_stats=True)\n",
            "    (relu): ReLU(inplace=True)\n",
            "    (maxpool): MaxPool2d(kernel_size=3, stride=2, padding=1, dilation=1, ceil_mode=False)\n",
            "    (layer1): Sequential(\n",
            "      (0): BasicBlock(\n",
            "        (conv1): Conv2d(64, 64, kernel_size=(3, 3), stride=(1, 1), padding=(1, 1), bias=False)\n",
            "        (bn1): BatchNorm2d(64, eps=1e-05, momentum=0.1, affine=True, track_running_stats=True)\n",
            "        (relu): ReLU(inplace=True)\n",
            "        (conv2): Conv2d(64, 64, kernel_size=(3, 3), stride=(1, 1), padding=(1, 1), bias=False)\n",
            "        (bn2): BatchNorm2d(64, eps=1e-05, momentum=0.1, affine=True, track_running_stats=True)\n",
            "      )\n",
            "      (1): BasicBlock(\n",
            "        (conv1): Conv2d(64, 64, kernel_size=(3, 3), stride=(1, 1), padding=(1, 1), bias=False)\n",
            "        (bn1): BatchNorm2d(64, eps=1e-05, momentum=0.1, affine=True, track_running_stats=True)\n",
            "        (relu): ReLU(inplace=True)\n",
            "        (conv2): Conv2d(64, 64, kernel_size=(3, 3), stride=(1, 1), padding=(1, 1), bias=False)\n",
            "        (bn2): BatchNorm2d(64, eps=1e-05, momentum=0.1, affine=True, track_running_stats=True)\n",
            "      )\n",
            "    )\n",
            "    (layer2): Sequential(\n",
            "      (0): BasicBlock(\n",
            "        (conv1): Conv2d(64, 128, kernel_size=(3, 3), stride=(2, 2), padding=(1, 1), bias=False)\n",
            "        (bn1): BatchNorm2d(128, eps=1e-05, momentum=0.1, affine=True, track_running_stats=True)\n",
            "        (relu): ReLU(inplace=True)\n",
            "        (conv2): Conv2d(128, 128, kernel_size=(3, 3), stride=(1, 1), padding=(1, 1), bias=False)\n",
            "        (bn2): BatchNorm2d(128, eps=1e-05, momentum=0.1, affine=True, track_running_stats=True)\n",
            "        (downsample): Sequential(\n",
            "          (0): Conv2d(64, 128, kernel_size=(1, 1), stride=(2, 2), bias=False)\n",
            "          (1): BatchNorm2d(128, eps=1e-05, momentum=0.1, affine=True, track_running_stats=True)\n",
            "        )\n",
            "      )\n",
            "      (1): BasicBlock(\n",
            "        (conv1): Conv2d(128, 128, kernel_size=(3, 3), stride=(1, 1), padding=(1, 1), bias=False)\n",
            "        (bn1): BatchNorm2d(128, eps=1e-05, momentum=0.1, affine=True, track_running_stats=True)\n",
            "        (relu): ReLU(inplace=True)\n",
            "        (conv2): Conv2d(128, 128, kernel_size=(3, 3), stride=(1, 1), padding=(1, 1), bias=False)\n",
            "        (bn2): BatchNorm2d(128, eps=1e-05, momentum=0.1, affine=True, track_running_stats=True)\n",
            "      )\n",
            "    )\n",
            "    (layer3): Sequential(\n",
            "      (0): BasicBlock(\n",
            "        (conv1): Conv2d(128, 256, kernel_size=(3, 3), stride=(2, 2), padding=(1, 1), bias=False)\n",
            "        (bn1): BatchNorm2d(256, eps=1e-05, momentum=0.1, affine=True, track_running_stats=True)\n",
            "        (relu): ReLU(inplace=True)\n",
            "        (conv2): Conv2d(256, 256, kernel_size=(3, 3), stride=(1, 1), padding=(1, 1), bias=False)\n",
            "        (bn2): BatchNorm2d(256, eps=1e-05, momentum=0.1, affine=True, track_running_stats=True)\n",
            "        (downsample): Sequential(\n",
            "          (0): Conv2d(128, 256, kernel_size=(1, 1), stride=(2, 2), bias=False)\n",
            "          (1): BatchNorm2d(256, eps=1e-05, momentum=0.1, affine=True, track_running_stats=True)\n",
            "        )\n",
            "      )\n",
            "      (1): BasicBlock(\n",
            "        (conv1): Conv2d(256, 256, kernel_size=(3, 3), stride=(1, 1), padding=(1, 1), bias=False)\n",
            "        (bn1): BatchNorm2d(256, eps=1e-05, momentum=0.1, affine=True, track_running_stats=True)\n",
            "        (relu): ReLU(inplace=True)\n",
            "        (conv2): Conv2d(256, 256, kernel_size=(3, 3), stride=(1, 1), padding=(1, 1), bias=False)\n",
            "        (bn2): BatchNorm2d(256, eps=1e-05, momentum=0.1, affine=True, track_running_stats=True)\n",
            "      )\n",
            "    )\n",
            "    (layer4): Sequential(\n",
            "      (0): BasicBlock(\n",
            "        (conv1): Conv2d(256, 512, kernel_size=(3, 3), stride=(2, 2), padding=(1, 1), bias=False)\n",
            "        (bn1): BatchNorm2d(512, eps=1e-05, momentum=0.1, affine=True, track_running_stats=True)\n",
            "        (relu): ReLU(inplace=True)\n",
            "        (conv2): Conv2d(512, 512, kernel_size=(3, 3), stride=(1, 1), padding=(1, 1), bias=False)\n",
            "        (bn2): BatchNorm2d(512, eps=1e-05, momentum=0.1, affine=True, track_running_stats=True)\n",
            "        (downsample): Sequential(\n",
            "          (0): Conv2d(256, 512, kernel_size=(1, 1), stride=(2, 2), bias=False)\n",
            "          (1): BatchNorm2d(512, eps=1e-05, momentum=0.1, affine=True, track_running_stats=True)\n",
            "        )\n",
            "      )\n",
            "      (1): BasicBlock(\n",
            "        (conv1): Conv2d(512, 512, kernel_size=(3, 3), stride=(1, 1), padding=(1, 1), bias=False)\n",
            "        (bn1): BatchNorm2d(512, eps=1e-05, momentum=0.1, affine=True, track_running_stats=True)\n",
            "        (relu): ReLU(inplace=True)\n",
            "        (conv2): Conv2d(512, 512, kernel_size=(3, 3), stride=(1, 1), padding=(1, 1), bias=False)\n",
            "        (bn2): BatchNorm2d(512, eps=1e-05, momentum=0.1, affine=True, track_running_stats=True)\n",
            "      )\n",
            "    )\n",
            "    (avgpool): AdaptiveAvgPool2d(output_size=(1, 1))\n",
            "    (fc): Linear(in_features=512, out_features=1000, bias=True)\n",
            "  )\n",
            "  (fc1): Sequential(\n",
            "    (0): ReLU()\n",
            "    (1): Linear(in_features=1000, out_features=10, bias=True)\n",
            "  )\n",
            "  (fc2): Sequential(\n",
            "    (0): ReLU()\n",
            "    (1): Linear(in_features=1000, out_features=15, bias=True)\n",
            "  )\n",
            ")\n"
          ]
        }
      ],
      "source": [
        "model = Mtl_Model()\n",
        "model = model.to(device)\n",
        "print(model)"
      ]
    },
    {
      "cell_type": "markdown",
      "metadata": {
        "id": "83imqLRQ0v7M"
      },
      "source": [
        "We have made our model!  \n",
        "Next, PyTorch also provide many utility function(loss, optmizer...etc).  \n",
        "You can define them in one-line."
      ]
    },
    {
      "cell_type": "markdown",
      "metadata": {
        "id": "FtOkPO6Ga0Fw"
      },
      "source": [
        "### Define loss and optimizer"
      ]
    },
    {
      "cell_type": "code",
      "execution_count": 30,
      "metadata": {
        "id": "IoePct00RIFY"
      },
      "outputs": [],
      "source": [
        "import torch.nn as nn\n",
        "import torch.optim as optim\n",
        "\n",
        "# Category -> CrossEntropyLoss, Attribute -> BCELoss\n",
        "criterion1, criterion2 = nn.CrossEntropyLoss(), nn.BCEWithLogitsLoss()\n",
        "optimizer = torch.optim.SGD(model.parameters(), lr=0.001, momentum=0.9)\n",
        "scheduler = optim.lr_scheduler.MultiStepLR(optimizer, milestones=[5, 10], gamma=0.1, last_epoch=-1)\n",
        "# StepLR: lr 按間隔下降, MultiStepLR: lr 按指定的間隔調整\n",
        "\n",
        "\n",
        "criterion1 = criterion1.to(device)\n",
        "criterion2 = criterion2.to(device)"
      ]
    },
    {
      "cell_type": "markdown",
      "metadata": {
        "id": "zle9KuFcbwMP"
      },
      "source": [
        "### Train the model"
      ]
    },
    {
      "cell_type": "markdown",
      "metadata": {
        "id": "bZFxE7Y9iLfl"
      },
      "source": [
        "#### Train function\n",
        "Let's define train function.  \n",
        "It will iterate input data 1 epoch and update model with optmizer.  \n",
        "Finally, calculate mean loss and total accuracy."
      ]
    },
    {
      "cell_type": "code",
      "execution_count": 31,
      "metadata": {
        "id": "1nD9mex8_Yld"
      },
      "outputs": [],
      "source": [
        "from sklearn.metrics import f1_score"
      ]
    },
    {
      "cell_type": "code",
      "execution_count": 32,
      "metadata": {
        "id": "VM93brDshO6E"
      },
      "outputs": [],
      "source": [
        "def train(input_data, model, criterion1, criterion2, optimizer):\n",
        "\n",
        "    model.train()\n",
        "    loss_list = []\n",
        "    attr_pred_list = []\n",
        "    attr_true_list = []\n",
        "    total_count = 0\n",
        "    acc_count = 0\n",
        "\n",
        "    for i, data in enumerate(input_data, 0):\n",
        "        inputs = data[0].to(device)\n",
        "        category_labels = data[1].to(device)\n",
        "        attribute_labels = data[2].to(device)\n",
        "\n",
        "        optimizer.zero_grad()\n",
        "        category_out, attribute_out = model(inputs)\n",
        "\n",
        "        category_loss = criterion1(category_out, category_labels)\n",
        "        attribute_loss = criterion2(attribute_out, attribute_labels)\n",
        "        loss = category_loss * 1 + attribute_loss * 8\n",
        "        loss.backward()\n",
        "        optimizer.step()\n",
        "\n",
        "        _, category_predict = torch.max(category_out.data, dim=1)\n",
        "        attribute_predict = (attribute_out.data > 0.5).int()\n",
        "        attr_pred_list += attribute_predict.tolist()\n",
        "        attr_true_list += attribute_labels.int().tolist()\n",
        "        total_count += category_labels.size(0) # 加總category每個批次的大小\n",
        "        acc_count += (category_predict == category_labels).sum().item() # 加總category每個批次的預測準確率\n",
        "        loss_list.append(loss.item())\n",
        "\n",
        "    acc = acc_count / total_count\n",
        "    f1 = f1_score(attr_true_list, attr_pred_list, average='samples')\n",
        "    loss = sum(loss_list) / len(loss_list)\n",
        "    \n",
        "    return acc, f1, loss"
      ]
    },
    {
      "cell_type": "markdown",
      "metadata": {
        "id": "KmDy1GTq_H2a"
      },
      "source": [
        "#### Validate function\n",
        "Next part is validate function.  \n",
        "It works as training function without optmizer and weight-updating part."
      ]
    },
    {
      "cell_type": "code",
      "execution_count": 33,
      "metadata": {
        "id": "USzbBgGEoTRu"
      },
      "outputs": [],
      "source": [
        "def val(input_data, model, criterion1, criterion2):\n",
        "    model.eval()\n",
        "    loss_list = []\n",
        "    attr_pred_list = []\n",
        "    attr_true_list = []\n",
        "    total_count = 0\n",
        "    acc_count = 0\n",
        "\n",
        "    with torch.no_grad():\n",
        "        for i, data in enumerate(input_data, 0):\n",
        "            inputs = data[0].to(device)\n",
        "            category_labels = data[1].to(device)\n",
        "            attribute_labels = data[2].to(device)\n",
        "\n",
        "            category_out, attribute_out = model(inputs)\n",
        "            category_loss = criterion1(category_out, category_labels)\n",
        "            attribute_loss = criterion2(attribute_out, attribute_labels)\n",
        "            loss = category_loss * 1 + attribute_loss * 8\n",
        "            \n",
        "            _, category_predict = torch.max(category_out.data, dim=1)\n",
        "            attribute_predict = (attribute_out.data > 0.5).int()\n",
        "            attr_pred_list += attribute_predict.tolist()\n",
        "            attr_true_list += attribute_labels.int().tolist()\n",
        "            total_count += category_labels.size(0)\n",
        "            acc_count += (category_predict == category_labels).sum().item()\n",
        "            loss_list.append(loss.item())\n",
        "        \n",
        "    acc = acc_count / total_count\n",
        "    f1 = f1_score(attr_true_list, attr_pred_list, average='samples')\n",
        "    loss = sum(loss_list) / len(loss_list)\n",
        "\n",
        "    return acc, f1, loss"
      ]
    },
    {
      "cell_type": "markdown",
      "metadata": {
        "id": "knXu74jCiuxP"
      },
      "source": [
        "#### Training in a loop\n",
        "Call train and test function in a loop.  \n",
        "Take a break and wait."
      ]
    },
    {
      "cell_type": "code",
      "execution_count": 34,
      "metadata": {
        "colab": {
          "base_uri": "https://localhost:8080/"
        },
        "id": "rcVulKkFJRtI",
        "outputId": "f2308678-ddd2-493d-b493-fa66ac07b423"
      },
      "outputs": [
        {
          "name": "stdout",
          "output_type": "stream",
          "text": [
            "======================================== Epoch 1 ========================================\n",
            "Train Acc (Category): 0.401566 Train F1 (Attribute): 0.109197 Train Loss: 3.754664\n",
            " Val Acc (Category): 0.532381  Val F1 (Attribute): 0.144030  Val Loss: 3.317584\n",
            "======================================== Epoch 2 ========================================\n",
            "Train Acc (Category): 0.496700 Train F1 (Attribute): 0.163372 Train Loss: 3.313214\n",
            " Val Acc (Category): 0.559696  Val F1 (Attribute): 0.176067  Val Loss: 3.133883\n",
            "======================================== Epoch 3 ========================================\n",
            "Train Acc (Category): 0.535941 Train F1 (Attribute): 0.185310 Train Loss: 3.152187\n",
            " Val Acc (Category): 0.564761  Val F1 (Attribute): 0.192680  Val Loss: 3.060089\n",
            "======================================== Epoch 4 ========================================\n",
            "Train Acc (Category): 0.557301 Train F1 (Attribute): 0.204488 Train Loss: 3.047791\n",
            " Val Acc (Category): 0.581585  Val F1 (Attribute): 0.230253  Val Loss: 3.016866\n",
            "======================================== Epoch 5 ========================================\n",
            "Train Acc (Category): 0.578788 Train F1 (Attribute): 0.214598 Train Loss: 2.975360\n",
            " Val Acc (Category): 0.595514  Val F1 (Attribute): 0.208717  Val Loss: 2.954534\n",
            "======================================== Epoch 6 ========================================\n",
            "Train Acc (Category): 0.611506 Train F1 (Attribute): 0.231508 Train Loss: 2.829746\n",
            " Val Acc (Category): 0.604740  Val F1 (Attribute): 0.256733  Val Loss: 2.883869\n",
            "======================================== Epoch 7 ========================================\n",
            "Train Acc (Category): 0.617901 Train F1 (Attribute): 0.247193 Train Loss: 2.790080\n",
            " Val Acc (Category): 0.610528  Val F1 (Attribute): 0.257378  Val Loss: 2.891064\n",
            "======================================== Epoch 8 ========================================\n",
            "Train Acc (Category): 0.622020 Train F1 (Attribute): 0.248801 Train Loss: 2.773779\n",
            " Val Acc (Category): 0.610709  Val F1 (Attribute): 0.257934  Val Loss: 2.873022\n",
            "======================================== Epoch 9 ========================================\n",
            "Train Acc (Category): 0.624041 Train F1 (Attribute): 0.253464 Train Loss: 2.760017\n",
            " Val Acc (Category): 0.611614  Val F1 (Attribute): 0.267600  Val Loss: 2.871168\n",
            "======================================== Epoch 10 ========================================\n",
            "Train Acc (Category): 0.625345 Train F1 (Attribute): 0.254953 Train Loss: 2.746684\n",
            " Val Acc (Category): 0.607091  Val F1 (Attribute): 0.273090  Val Loss: 2.879568\n"
          ]
        }
      ],
      "source": [
        "max_epochs = 10\n",
        "log_interval = 1 # print acc and loss in per log_interval time\n",
        "\n",
        "train_acc_list = []\n",
        "train_loss_list = []\n",
        "val_acc_list = []\n",
        "val_loss_list = []\n",
        "train_f1_list = []\n",
        "val_f1_list = []\n",
        "\n",
        "for epoch in range(1, max_epochs + 1):\n",
        "    train_acc, train_f1, train_loss = train(train_loader, model, criterion1, criterion2, optimizer)\n",
        "    val_acc, val_f1, val_loss = val(val_loader, model, criterion1, criterion2)\n",
        "    scheduler.step()\n",
        "\n",
        "    train_acc_list.append(train_acc)\n",
        "    train_loss_list.append(train_loss)\n",
        "    train_f1_list.append(train_f1)\n",
        "    val_acc_list.append(val_acc)\n",
        "    val_loss_list.append(val_loss)\n",
        "    val_f1_list.append(val_f1)\n",
        "\n",
        "    if epoch % log_interval == 0:\n",
        "        print('=' * 40, 'Epoch', epoch, '=' * 40)\n",
        "        print('Train Acc (Category): {:.6f} Train F1 (Attribute): {:.6f} Train Loss: {:.6f}'.format(train_acc, train_f1, train_loss))\n",
        "        print('  Val Acc (Category): {:.6f}  Val F1 (Attribute): {:.6f}  Val Loss: {:.6f}'.format(val_acc, val_f1, val_loss))"
      ]
    },
    {
      "cell_type": "code",
      "execution_count": 35,
      "metadata": {
        "id": "sdBlib2wzYU7"
      },
      "outputs": [],
      "source": [
        "# save your well-trained state_dict of model\n",
        "torch.save(model.state_dict(), 'NAME_OF_THIS_EXPERIMENT.pt')"
      ]
    },
    {
      "cell_type": "markdown",
      "metadata": {
        "id": "W5pW9zcKAN-2"
      },
      "source": [
        "#### Visualize accuracy and loss"
      ]
    },
    {
      "cell_type": "code",
      "execution_count": 36,
      "metadata": {
        "colab": {
          "base_uri": "https://localhost:8080/",
          "height": 809
        },
        "id": "4ifzgfp7iq2m",
        "outputId": "43ee664e-2073-4a42-9ac6-c6c363213d37"
      },
      "outputs": [
        {
          "data": {
            "image/png": "[encoded data removed]",
            "text/plain": [
              "<Figure size 864x288 with 1 Axes>"
            ]
          },
          "metadata": {
            "needs_background": "light"
          },
          "output_type": "display_data"
        },
        {
          "data": {
            "image/png": "[encoded data removed]",
            "text/plain": [
              "<Figure size 864x288 with 1 Axes>"
            ]
          },
          "metadata": {
            "needs_background": "light"
          },
          "output_type": "display_data"
        },
        {
          "data": {
            "image/png": "[encoded data removed]",
            "text/plain": [
              "<Figure size 864x288 with 1 Axes>"
            ]
          },
          "metadata": {
            "needs_background": "light"
          },
          "output_type": "display_data"
        }
      ],
      "source": [
        "import matplotlib.pyplot as plt\n",
        "\n",
        "plt.figure(figsize=(12, 4))\n",
        "plt.plot(range(len(train_acc_list)), train_acc_list)\n",
        "plt.plot(range(len(val_acc_list)), val_acc_list, c='r')\n",
        "plt.legend(['train', 'val'])\n",
        "plt.title('Acc')\n",
        "plt.show()\n",
        "\n",
        "plt.figure(figsize=(12, 4))\n",
        "plt.plot(range(len(train_f1_list)), train_f1_list)\n",
        "plt.plot(range(len(val_f1_list)), val_f1_list, c='r')\n",
        "plt.legend(['train', 'val'])\n",
        "plt.title('F1')\n",
        "plt.show()\n",
        "\n",
        "plt.figure(figsize=(12, 4))\n",
        "plt.plot(range(len(train_loss_list)), train_loss_list)\n",
        "plt.plot(range(len(val_loss_list)), val_loss_list, c='r')\n",
        "plt.legend(['train', 'val'])\n",
        "plt.title('Loss')\n",
        "plt.show()"
      ]
    },
    {
      "cell_type": "markdown",
      "metadata": {
        "id": "zMYSgO5viYOk"
      },
      "source": [
        "### Predict Result\n",
        "\n",
        "Predict the labesl based on testing set. Upload to Kaggle. [**LINK**](https://www.kaggle.com/t/a9e78aa7a68b40cd960bd8dcb09f8e45).\n",
        "\n",
        "**How to upload**\n",
        "\n",
        "1. Click the folder icon in the left hand side of Colab.\n",
        "2. Right click \"result.csv\". Select \"Download\"\n",
        "3. To kaggle. Click \"Submit Predictions\"\n",
        "4. Upload the result.csv\n",
        "5. System will automaticlaly calculate the accuracy of 70% dataset and publish this result to leaderboard.\n",
        "\n",
        "---\n",
        "\n",
        "預測`test`並將結果上傳至Kaggle。[**連結**](https://www.kaggle.com/t/a9e78aa7a68b40cd960bd8dcb09f8e45)\n",
        "\n",
        "執行完畢此區的程式碼後，會將`test`預測完的結果存下來。\n",
        "\n",
        "上傳流程\n",
        "1. 點選左側選單最下方的資料夾圖示\n",
        "2. 右鍵「result.csv」\n",
        "3. 點選「Download」\n",
        "4. 至連結網頁點選「Submit Predictions」\n",
        "5. 將剛剛下載的檔案上傳\n",
        "6. 系統會計算並公布其中70%資料的正確率"
      ]
    },
    {
      "cell_type": "code",
      "execution_count": 37,
      "metadata": {
        "id": "mHc4hsPMzYU8"
      },
      "outputs": [],
      "source": [
        "# # if you wanna load previous best model\n",
        "# ckpt = torch.load('NAME_OF_THIS_EXPERIMENT.pt')\n",
        "# model.load_state_dict(ckpt) \n",
        "from google.colab import files"
      ]
    },
    {
      "cell_type": "code",
      "execution_count": 45,
      "metadata": {
        "id": "SiyK25P6KXrn"
      },
      "outputs": [],
      "source": [
        "def predict_category(input_data, model):\n",
        "  model.eval()\n",
        "  output_list = []\n",
        "  with torch.no_grad():\n",
        "    for data in input_data:\n",
        "      images = data.to(device)\n",
        "      outputs = model(images)[0]\n",
        "      _, predicted = torch.max(torch.softmax(outputs.data, 1), 1)\n",
        "      output_list.extend(predicted.to('cpu').numpy().tolist())\n",
        "  return output_list"
      ]
    },
    {
      "cell_type": "code",
      "execution_count": 46,
      "metadata": {
        "id": "0I0LN7HwpnsX"
      },
      "outputs": [],
      "source": [
        "idx = 0\n",
        "output_csv = predict_category(test_loader, model)\n",
        "with open('result_cat_withSGDandMultiStepLR.csv', 'w', newline='') as csvFile:\n",
        "  writer = csv.DictWriter(csvFile, fieldnames=['file_path', 'category_label'])\n",
        "  writer.writeheader()\n",
        "  for result in output_csv:\n",
        "    file_path = dataset_test.data_list[idx]\n",
        "    writer.writerow({'file_path':file_path, 'category_label':result})\n",
        "    idx += 1"
      ]
    },
    {
      "cell_type": "code",
      "execution_count": 47,
      "metadata": {
        "id": "-TIpktmdEXr5"
      },
      "outputs": [],
      "source": [
        "def predict_attribute(input_data, model):\n",
        "  model.eval()\n",
        "  output_list = []\n",
        "  with torch.no_grad():\n",
        "    for data in input_data:\n",
        "      images = data.to(device)\n",
        "      outputs = model(images)[1]\n",
        "      predicted = (torch.sigmoid(outputs.data) > 0.25).int()\n",
        "      index = []\n",
        "      for img in range(len(predicted)):\n",
        "        index = []\n",
        "        for i in range(len(predicted[img])):\n",
        "            if(predicted[img][i]==1):\n",
        "                index.append(str(i))\n",
        "        output_list.append(' '.join(index)) #轉成str\n",
        "  return output_list"
      ]
    },
    {
      "cell_type": "code",
      "execution_count": 48,
      "metadata": {
        "id": "_u4VHLfoEbMx"
      },
      "outputs": [],
      "source": [
        "idx = 0\n",
        "output_csv = predict_attribute(test_loader, model)\n",
        "with open('result_att_withSGDandMultiStepLR.csv', 'w', newline='') as csvFile:\n",
        "  writer = csv.DictWriter(csvFile, fieldnames=['file_path', 'attribute_label'])\n",
        "  writer.writeheader()\n",
        "  for result in output_csv:\n",
        "    file_path = dataset_test.data_list[idx]\n",
        "    writer.writerow({'file_path':file_path, 'attribute_label':result})\n",
        "    idx += 1"
      ]
    },
    {
      "cell_type": "code",
      "execution_count": 49,
      "metadata": {
        "colab": {
          "base_uri": "https://localhost:8080/",
          "height": 17
        },
        "id": "pdM10Z4E7oc8",
        "outputId": "f80e6b3f-65cc-4116-df91-839abe6daaa2"
      },
      "outputs": [
        {
          "data": {
            "application/javascript": "\n    async function download(id, filename, size) {\n      if (!google.colab.kernel.accessAllowed) {\n        return;\n      }\n      const div = document.createElement('div');\n      const label = document.createElement('label');\n      label.textContent = `Downloading \"${filename}\": `;\n      div.appendChild(label);\n      const progress = document.createElement('progress');\n      progress.max = size;\n      div.appendChild(progress);\n      document.body.appendChild(div);\n\n      const buffers = [];\n      let downloaded = 0;\n\n      const channel = await google.colab.kernel.comms.open(id);\n      // Send a message to notify the kernel that we're ready.\n      channel.send({})\n\n      for await (const message of channel.messages) {\n        // Send a message to notify the kernel that we're ready.\n        channel.send({})\n        if (message.buffers) {\n          for (const buffer of message.buffers) {\n            buffers.push(buffer);\n            downloaded += buffer.byteLength;\n            progress.value = downloaded;\n          }\n        }\n      }\n      const blob = new Blob(buffers, {type: 'application/binary'});\n      const a = document.createElement('a');\n      a.href = window.URL.createObjectURL(blob);\n      a.download = filename;\n      div.appendChild(a);\n      a.click();\n      div.remove();\n    }\n  ",
            "text/plain": [
              "<IPython.core.display.Javascript object>"
            ]
          },
          "metadata": {},
          "output_type": "display_data"
        },
        {
          "data": {
            "application/javascript": "download(\"download_cb2af2b5-e811-4f89-ace8-c7a9a9c0f0bc\", \"result_cat_withSGDandMultiStepLR.csv\", 348001)",
            "text/plain": [
              "<IPython.core.display.Javascript object>"
            ]
          },
          "metadata": {},
          "output_type": "display_data"
        },
        {
          "data": {
            "application/javascript": "\n    async function download(id, filename, size) {\n      if (!google.colab.kernel.accessAllowed) {\n        return;\n      }\n      const div = document.createElement('div');\n      const label = document.createElement('label');\n      label.textContent = `Downloading \"${filename}\": `;\n      div.appendChild(label);\n      const progress = document.createElement('progress');\n      progress.max = size;\n      div.appendChild(progress);\n      document.body.appendChild(div);\n\n      const buffers = [];\n      let downloaded = 0;\n\n      const channel = await google.colab.kernel.comms.open(id);\n      // Send a message to notify the kernel that we're ready.\n      channel.send({})\n\n      for await (const message of channel.messages) {\n        // Send a message to notify the kernel that we're ready.\n        channel.send({})\n        if (message.buffers) {\n          for (const buffer of message.buffers) {\n            buffers.push(buffer);\n            downloaded += buffer.byteLength;\n            progress.value = downloaded;\n          }\n        }\n      }\n      const blob = new Blob(buffers, {type: 'application/binary'});\n      const a = document.createElement('a');\n      a.href = window.URL.createObjectURL(blob);\n      a.download = filename;\n      div.appendChild(a);\n      a.click();\n      div.remove();\n    }\n  ",
            "text/plain": [
              "<IPython.core.display.Javascript object>"
            ]
          },
          "metadata": {},
          "output_type": "display_data"
        },
        {
          "data": {
            "application/javascript": "download(\"download_ca081694-b881-4783-82d3-463bbfb64bd9\", \"result_att_withSGDandMultiStepLR.csv\", 365880)",
            "text/plain": [
              "<IPython.core.display.Javascript object>"
            ]
          },
          "metadata": {},
          "output_type": "display_data"
        }
      ],
      "source": [
        "files.download(\"result_cat_withSGDandMultiStepLR.csv\")\n",
        "files.download(\"result_att_withSGDandMultiStepLR.csv\")"
      ]
    },
    {
      "cell_type": "markdown",
      "metadata": {
        "id": "OMzwQJ122VWI"
      },
      "source": []
    },
    {
      "cell_type": "markdown",
      "metadata": {
        "id": "4XTB6EF6mH2Q"
      },
      "source": [
        "# Keep trying and write report\n",
        "\n",
        "Keep adjust your model, loss function, optimizer...... to train the better model.  \n",
        "Remember record the output of different setting. It's convenient for your to write the report.\n",
        "\n",
        "You are on your way!\n",
        "\n",
        "---\n",
        "\n",
        "持續調整模型、訓練方法、損失函數、優化器等，來訓練出更好的模型，並記錄使用不同參數得出的效果，以利後續 Report 的撰寫。\n",
        "\n",
        "大家加油！"
      ]
    }
  ],
  "metadata": {
    "accelerator": "GPU",
    "colab": {
      "collapsed_sections": [],
      "provenance": []
    },
    "kernelspec": {
      "display_name": "Python 3",
      "name": "python3"
    },
    "language_info": {
      "name": "python"
    }
  },
  "nbformat": 4,
  "nbformat_minor": 0
}
