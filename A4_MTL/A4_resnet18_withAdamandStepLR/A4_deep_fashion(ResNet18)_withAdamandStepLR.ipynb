{
  "cells": [
    {
      "cell_type": "markdown",
      "metadata": {
        "id": "hLcWRu-jp7gM"
      },
      "source": [
        "# MIS 583 Assignment 4: Deep Fashion"
      ]
    },
    {
      "cell_type": "markdown",
      "metadata": {
        "id": "6DzsjuDhlz_k"
      },
      "source": [
        "**Your Answer:**   \n",
        "Hi I'm 李畇彤, M114020038"
      ]
    },
    {
      "cell_type": "markdown",
      "metadata": {
        "id": "b1NQv3Ey3cVS"
      },
      "source": [
        "## Multitask Learning\n",
        "根據衣服圖片，建立一個 Multitask Learning 的模型，同時預測出種類與屬性。\n",
        "### Task 1 : Category\n",
        "- Multiclass : 10 categories\n",
        "- Goal : Predict the categories(0~9) of the outfit, a total of 10 categories.\n",
        "- [Kaggle link](https://www.kaggle.com/competitions/mis583-2022-deep-fashion-1/leaderboard)\n",
        "\n",
        "### Task 2 : Attribute\n",
        "- Multilabel : 15 attributes\n",
        "- Goal：Predict the attributes(0~14) of the outfit, a total of 15 attributes, each outfit could have many attributes (>=1).\n",
        "- [Kaggle link](https://www.kaggle.com/competitions/mis583-2022-a4-deep-fashion-2/leaderboard)"
      ]
    },
    {
      "cell_type": "markdown",
      "metadata": {
        "id": "bCtoiSyVVTO8"
      },
      "source": [
        "## Google Colab Setup"
      ]
    },
    {
      "cell_type": "code",
      "execution_count": 1,
      "metadata": {
        "colab": {
          "base_uri": "https://localhost:8080/"
        },
        "id": "tHG0slB6VTO8",
        "outputId": "0d862525-69ce-4e4b-ae2e-c27cb1028152"
      },
      "outputs": [
        {
          "name": "stdout",
          "output_type": "stream",
          "text": [
            "Mounted at /content/drive\n"
          ]
        }
      ],
      "source": [
        "from google.colab import drive\n",
        "drive.mount('/content/drive')"
      ]
    },
    {
      "cell_type": "markdown",
      "metadata": {
        "id": "giUId1Naqacs"
      },
      "source": [
        "##  Versions of used packages\n",
        "\n",
        "We will check PyTorch version to make sure everything work properly.\n",
        "\n",
        "We use `python==3.7.14`, `torch==1.12.1+cu113` and `torchvision==0.13.1+cu113`. This is the default version in Google Colab."
      ]
    },
    {
      "cell_type": "code",
      "execution_count": 2,
      "metadata": {
        "colab": {
          "base_uri": "https://localhost:8080/"
        },
        "id": "Vuw-gNvjqcYe",
        "outputId": "8ee10b80-d53e-485d-8129-ccf54899c0ea"
      },
      "outputs": [
        {
          "name": "stdout",
          "output_type": "stream",
          "text": [
            "python 3.7.15 (default, Oct 12 2022, 19:14:55) \n",
            "torch 1.12.1+cu113\n",
            "torchvision 0.13.1+cu113\n"
          ]
        }
      ],
      "source": [
        "import sys\n",
        "import torch\n",
        "import torchvision\n",
        "print('python', sys.version.split('\\n')[0])\n",
        "print('torch', torch.__version__)\n",
        "print('torchvision', torchvision.__version__)"
      ]
    },
    {
      "cell_type": "markdown",
      "metadata": {
        "id": "OhdbdJOsrbxL"
      },
      "source": [
        "# Prepare Data"
      ]
    },
    {
      "cell_type": "markdown",
      "metadata": {
        "id": "cqO8DiB6VRQZ"
      },
      "source": [
        "## Unzip Data\n"
      ]
    },
    {
      "cell_type": "code",
      "execution_count": 3,
      "metadata": {
        "id": "aGCZQxZSfONu"
      },
      "outputs": [],
      "source": [
        "!unzip -qq ./drive/MyDrive/NSYSU/Deep_Learning/MIS583/deep_fashion.zip"
      ]
    },
    {
      "cell_type": "code",
      "execution_count": 4,
      "metadata": {
        "id": "lYccv1qYzYUz"
      },
      "outputs": [],
      "source": [
        "data_folder = 'deep_fashion'"
      ]
    },
    {
      "cell_type": "markdown",
      "metadata": {
        "id": "SYueKGdIHpho"
      },
      "source": [
        "## Loading the dataset\n"
      ]
    },
    {
      "cell_type": "markdown",
      "metadata": {
        "id": "xpG2DxEqHFD-"
      },
      "source": [
        "### Custom dataset\n",
        "繼承自定義資料集的框架 `torch.utils.data.Dataset`，主要實現 `__getitem__()` 和 `__len__()` 這兩個方法。\n",
        "\n",
        "常使用來做到設定資料位址、設定讀取方式、子資料集的標籤和轉換條件...等。\n",
        "\n",
        "See [torch.utils.data.Dataset](https://pytorch.org/docs/stable/data.html#torch.utils.data.Dataset) for more details"
      ]
    },
    {
      "cell_type": "code",
      "execution_count": 5,
      "metadata": {
        "id": "dwUE1E83_Iw8"
      },
      "outputs": [],
      "source": [
        "import csv\n",
        "import os\n",
        "import numpy as np\n",
        "from PIL import Image\n",
        "import torch\n",
        "\n",
        "class Fashion(torch.utils.data.Dataset):\n",
        "    def __init__(self, csv_file, mode='train', transform=None):\n",
        "        self.mode = mode # 'train', 'val' or 'test'\n",
        "        self.data_list = []\n",
        "        self.category_labels = []\n",
        "        self.attribute_labels = []\n",
        "        self.transform = transform\n",
        "        \n",
        "        with open(f'{data_folder}/{csv_file}', newline='') as csvfile:\n",
        "            reader = csv.DictReader(csvfile)\n",
        "            for row in reader:\n",
        "                self.data_list.append(f\"{row['file_path']}\")\n",
        "                if mode != 'test':\n",
        "                    self.category_labels.append(row['category_label'])\n",
        "                    self.attribute_labels.append(list(map(int, row['attribute_label'].split())))\n",
        "\n",
        "    def __getitem__(self, index):\n",
        "        data = Image.open(self.data_list[index])\n",
        "        if self.transform is not None:\n",
        "            data = self.transform(data)\n",
        "        if self.mode == 'test':\n",
        "            return data\n",
        "        category_label = torch.tensor(int(self.category_labels[index]))\n",
        "\n",
        "        attribute_label = torch.tensor(self.attribute_labels[index])\n",
        "        attribute_label = torch.zeros(15).scatter_(0, attribute_label, 1)\n",
        "\n",
        "        return data, category_label, attribute_label\n",
        "\n",
        "    def __len__(self):\n",
        "        return len(self.data_list)"
      ]
    },
    {
      "cell_type": "markdown",
      "metadata": {
        "id": "5tQGLuVWnA-b"
      },
      "source": [
        "### Data augmentation \n",
        "\n",
        "Data augmentation are techniques used to increase the amount of data by adding slightly modified copies of already existing data or newly created synthetic data from existing data.\n",
        "\n",
        "PyTorch use `torchvision.transforms` to do data augmentation.\n",
        "[You can see all function here.](https://pytorch.org/vision/stable/transforms.html)\n",
        "\n",
        "**NOTICE**: There are some operations may not be necessary for predict, so we should write one for train and one for others."
      ]
    },
    {
      "cell_type": "code",
      "execution_count": 6,
      "metadata": {
        "id": "UIv1VyHXVNTo"
      },
      "outputs": [],
      "source": [
        "from torchvision import transforms\n",
        "# For TRAIN\n",
        "mean=[0.485, 0.456, 0.406]\n",
        "std=[0.229, 0.224, 0.225]\n",
        "transforms_train = transforms.Compose([\n",
        "    transforms.Resize((256, 256)),\n",
        "    transforms.CenterCrop((224,224)),\n",
        "    transforms.RandomHorizontalFlip(p=0.5),\n",
        "    transforms.RandomRotation(degrees=(-90, 90)),\n",
        "    transforms.ToTensor(),\n",
        "    transforms.Normalize(mean, std),\n",
        "  ])\n",
        "\n",
        "# For VAL, TEST\n",
        "transforms_test = transforms.Compose([\n",
        "    transforms.Resize((256,256)),\n",
        "    transforms.CenterCrop((224,224)),\n",
        "    transforms.ToTensor(),\n",
        "    transforms.Normalize(mean, std),\n",
        "  ])"
      ]
    },
    {
      "cell_type": "markdown",
      "metadata": {
        "id": "7rYptn_YJlFX"
      },
      "source": [
        "### Instantiate dataset\n",
        "\n",
        "Let's instantiate three `Fashion` class.\n",
        "+ dataset_train: for training.\n",
        "+ dataset_val: for validation.\n",
        "+ dataset_test: for tesing.\n",
        "\n",
        "\n",
        "### Data Quality\n",
        "+ train : 39092 \n",
        "+ val : 5528\n",
        "+ test : 11225"
      ]
    },
    {
      "cell_type": "code",
      "execution_count": 7,
      "metadata": {
        "id": "LKjsKyHhZZc6"
      },
      "outputs": [],
      "source": [
        "dataset_train = Fashion('train.csv', mode='train', transform=transforms_train)\n",
        "dataset_val = Fashion('val.csv', mode='val', transform=transforms_test)\n",
        "dataset_test = Fashion('test.csv', mode='test', transform=transforms_test)"
      ]
    },
    {
      "cell_type": "code",
      "execution_count": 8,
      "metadata": {
        "colab": {
          "base_uri": "https://localhost:8080/"
        },
        "id": "ZAeQQEEISCJJ",
        "outputId": "a632e30d-df38-4542-9a21-94342c398849"
      },
      "outputs": [
        {
          "name": "stdout",
          "output_type": "stream",
          "text": [
            "The first image's shape in dataset_train : torch.Size([3, 224, 224])\n",
            "There are 39092 images in dataset_train.\n"
          ]
        }
      ],
      "source": [
        "print(\"The first image's shape in dataset_train :\", dataset_train[0][0].size())\n",
        "print(\"There are\", dataset_train.__len__(), \"images in dataset_train.\")"
      ]
    },
    {
      "cell_type": "markdown",
      "metadata": {
        "id": "vORA6qkfIj1U"
      },
      "source": [
        "### `DataLoader`\n",
        "\n",
        "`torch.utils.data.DataLoader` define how to sample from `dataset` and some other function like:\n",
        "+ `shuffle` : set to `True` to have the data reshuffled at every epoch\n",
        "+ `batch_size` : how many samples per batch to load\n",
        "\n",
        "See [torch.utils.data.DataLoader](https://pytorch.org/docs/stable/data.html#torch.utils.data.DataLoader) for more details"
      ]
    },
    {
      "cell_type": "code",
      "execution_count": 9,
      "metadata": {
        "id": "RmgA5nYT3XQZ"
      },
      "outputs": [],
      "source": [
        "from torch.utils.data import DataLoader\n",
        "\n",
        "batch_size = 32\n",
        "num_workers = 2\n",
        "train_loader = DataLoader(dataset_train, batch_size=batch_size, num_workers=num_workers, shuffle=True)\n",
        "val_loader = DataLoader(dataset_val, batch_size=batch_size, num_workers=num_workers, shuffle=False)\n",
        "test_loader = DataLoader(dataset_test, batch_size=batch_size, num_workers=num_workers, shuffle=False)"
      ]
    },
    {
      "cell_type": "markdown",
      "metadata": {
        "id": "U4atwzT3aPi3"
      },
      "source": [
        "Finally! We have made all data prepared.  \n",
        "Let's go develop our model."
      ]
    },
    {
      "cell_type": "markdown",
      "metadata": {
        "id": "87KYcWknS95z"
      },
      "source": [
        "# Implement CNN using PyTorch"
      ]
    },
    {
      "cell_type": "markdown",
      "metadata": {
        "id": "OH_4NKB9dsZ3"
      },
      "source": [
        "### Define a Convolutional Neural Network\n",
        "\n",
        "Try to design and train a deep convolutional network from scratch to predict the class label of a flower image. \n",
        "\n",
        "You can refer to last assignment about image_classifier, and try to go deep and use more method for better model."
      ]
    },
    {
      "cell_type": "code",
      "execution_count": 10,
      "metadata": {
        "id": "S_HxxEfdO2Ss"
      },
      "outputs": [],
      "source": [
        "import torch.nn as nn \n",
        "import torch.nn.functional as F\n",
        "import torchvision.models as models\n",
        "\n",
        "\n",
        "class Mtl_Model(nn.Module): \n",
        "    def __init__(self): \n",
        "        super().__init__()\n",
        "        # using model pretraining (vgg16, googlenet, resnet18, resnet34, resnet101 ...)\n",
        "        self.model = models.resnet18(pretrained=True)\n",
        "        # Category Model\n",
        "        self.fc1 = nn.Sequential(\n",
        "            nn.ReLU(),\n",
        "            nn.Linear(1000, 10)) # ResNet pretrain 的 fc size = 1000，所以 set linear = 1000\n",
        "        # Attribute Model\n",
        "        self.fc2 = nn.Sequential(\n",
        "            nn.ReLU(),\n",
        "            nn.Linear(1000, 15))\n",
        "\n",
        "    def forward(self, x): \n",
        "        if not isinstance(x, torch.Tensor):\n",
        "            x = torch.Tensor(x)\n",
        "        x = self.model(x)\n",
        "        out1 = self.fc1(x)\n",
        "        out2 = self.fc2(x)\n",
        "        return out1, out2"
      ]
    },
    {
      "cell_type": "code",
      "execution_count": 11,
      "metadata": {
        "id": "wOBCTZmbzYU4"
      },
      "outputs": [],
      "source": [
        "device = torch.device('cuda')\n",
        "# or\n",
        "#device = torch.device('cpu')"
      ]
    },
    {
      "cell_type": "code",
      "execution_count": 12,
      "metadata": {
        "colab": {
          "base_uri": "https://localhost:8080/",
          "height": 1000,
          "referenced_widgets": [
            "6c85891341114546875fb45cab1f11ae",
            "4e2e0b24a45a48eea9975f5897f48a53",
            "06f68cfe1da2402bb2f9b821905c8211",
            "e5020b12c8c141cca62840f7c4b195f1",
            "be81d51a8523411095b1cb6f9b0bb776",
            "00885f301c0d4d6abfbeecab7d27c787",
            "4d1fb52bc02e474f8e2656c5c84f8c88",
            "83c10b3539754e6f8205d8e3c171b313",
            "a2e8b0de92c244cb98c50041be2e2a43",
            "826f0ed517cc474297fcd11d411257a5",
            "36dc52375e124201bdb89091f5d65ff8"
          ]
        },
        "id": "TeWtAa1dzYU4",
        "outputId": "784a2a8c-8c31-432f-80a5-b00472becdd7"
      },
      "outputs": [
        {
          "name": "stderr",
          "output_type": "stream",
          "text": [
            "/usr/local/lib/python3.7/dist-packages/torchvision/models/_utils.py:209: UserWarning: The parameter 'pretrained' is deprecated since 0.13 and will be removed in 0.15, please use 'weights' instead.\n",
            "  f\"The parameter '{pretrained_param}' is deprecated since 0.13 and will be removed in 0.15, \"\n",
            "/usr/local/lib/python3.7/dist-packages/torchvision/models/_utils.py:223: UserWarning: Arguments other than a weight enum or `None` for 'weights' are deprecated since 0.13 and will be removed in 0.15. The current behavior is equivalent to passing `weights=ResNet18_Weights.IMAGENET1K_V1`. You can also use `weights=ResNet18_Weights.DEFAULT` to get the most up-to-date weights.\n",
            "  warnings.warn(msg)\n",
            "Downloading: \"https://download.pytorch.org/models/resnet18-f37072fd.pth\" to /root/.cache/torch/hub/checkpoints/resnet18-f37072fd.pth\n"
          ]
        },
        {
          "data": {
            "application/vnd.jupyter.widget-view+json": {
              "model_id": "6c85891341114546875fb45cab1f11ae",
              "version_major": 2,
              "version_minor": 0
            },
            "text/plain": [
              "  0%|          | 0.00/44.7M [00:00<?, ?B/s]"
            ]
          },
          "metadata": {},
          "output_type": "display_data"
        },
        {
          "name": "stdout",
          "output_type": "stream",
          "text": [
            "Mtl_Model(\n",
            "  (model): ResNet(\n",
            "    (conv1): Conv2d(3, 64, kernel_size=(7, 7), stride=(2, 2), padding=(3, 3), bias=False)\n",
            "    (bn1): BatchNorm2d(64, eps=1e-05, momentum=0.1, affine=True, track_running_stats=True)\n",
            "    (relu): ReLU(inplace=True)\n",
            "    (maxpool): MaxPool2d(kernel_size=3, stride=2, padding=1, dilation=1, ceil_mode=False)\n",
            "    (layer1): Sequential(\n",
            "      (0): BasicBlock(\n",
            "        (conv1): Conv2d(64, 64, kernel_size=(3, 3), stride=(1, 1), padding=(1, 1), bias=False)\n",
            "        (bn1): BatchNorm2d(64, eps=1e-05, momentum=0.1, affine=True, track_running_stats=True)\n",
            "        (relu): ReLU(inplace=True)\n",
            "        (conv2): Conv2d(64, 64, kernel_size=(3, 3), stride=(1, 1), padding=(1, 1), bias=False)\n",
            "        (bn2): BatchNorm2d(64, eps=1e-05, momentum=0.1, affine=True, track_running_stats=True)\n",
            "      )\n",
            "      (1): BasicBlock(\n",
            "        (conv1): Conv2d(64, 64, kernel_size=(3, 3), stride=(1, 1), padding=(1, 1), bias=False)\n",
            "        (bn1): BatchNorm2d(64, eps=1e-05, momentum=0.1, affine=True, track_running_stats=True)\n",
            "        (relu): ReLU(inplace=True)\n",
            "        (conv2): Conv2d(64, 64, kernel_size=(3, 3), stride=(1, 1), padding=(1, 1), bias=False)\n",
            "        (bn2): BatchNorm2d(64, eps=1e-05, momentum=0.1, affine=True, track_running_stats=True)\n",
            "      )\n",
            "    )\n",
            "    (layer2): Sequential(\n",
            "      (0): BasicBlock(\n",
            "        (conv1): Conv2d(64, 128, kernel_size=(3, 3), stride=(2, 2), padding=(1, 1), bias=False)\n",
            "        (bn1): BatchNorm2d(128, eps=1e-05, momentum=0.1, affine=True, track_running_stats=True)\n",
            "        (relu): ReLU(inplace=True)\n",
            "        (conv2): Conv2d(128, 128, kernel_size=(3, 3), stride=(1, 1), padding=(1, 1), bias=False)\n",
            "        (bn2): BatchNorm2d(128, eps=1e-05, momentum=0.1, affine=True, track_running_stats=True)\n",
            "        (downsample): Sequential(\n",
            "          (0): Conv2d(64, 128, kernel_size=(1, 1), stride=(2, 2), bias=False)\n",
            "          (1): BatchNorm2d(128, eps=1e-05, momentum=0.1, affine=True, track_running_stats=True)\n",
            "        )\n",
            "      )\n",
            "      (1): BasicBlock(\n",
            "        (conv1): Conv2d(128, 128, kernel_size=(3, 3), stride=(1, 1), padding=(1, 1), bias=False)\n",
            "        (bn1): BatchNorm2d(128, eps=1e-05, momentum=0.1, affine=True, track_running_stats=True)\n",
            "        (relu): ReLU(inplace=True)\n",
            "        (conv2): Conv2d(128, 128, kernel_size=(3, 3), stride=(1, 1), padding=(1, 1), bias=False)\n",
            "        (bn2): BatchNorm2d(128, eps=1e-05, momentum=0.1, affine=True, track_running_stats=True)\n",
            "      )\n",
            "    )\n",
            "    (layer3): Sequential(\n",
            "      (0): BasicBlock(\n",
            "        (conv1): Conv2d(128, 256, kernel_size=(3, 3), stride=(2, 2), padding=(1, 1), bias=False)\n",
            "        (bn1): BatchNorm2d(256, eps=1e-05, momentum=0.1, affine=True, track_running_stats=True)\n",
            "        (relu): ReLU(inplace=True)\n",
            "        (conv2): Conv2d(256, 256, kernel_size=(3, 3), stride=(1, 1), padding=(1, 1), bias=False)\n",
            "        (bn2): BatchNorm2d(256, eps=1e-05, momentum=0.1, affine=True, track_running_stats=True)\n",
            "        (downsample): Sequential(\n",
            "          (0): Conv2d(128, 256, kernel_size=(1, 1), stride=(2, 2), bias=False)\n",
            "          (1): BatchNorm2d(256, eps=1e-05, momentum=0.1, affine=True, track_running_stats=True)\n",
            "        )\n",
            "      )\n",
            "      (1): BasicBlock(\n",
            "        (conv1): Conv2d(256, 256, kernel_size=(3, 3), stride=(1, 1), padding=(1, 1), bias=False)\n",
            "        (bn1): BatchNorm2d(256, eps=1e-05, momentum=0.1, affine=True, track_running_stats=True)\n",
            "        (relu): ReLU(inplace=True)\n",
            "        (conv2): Conv2d(256, 256, kernel_size=(3, 3), stride=(1, 1), padding=(1, 1), bias=False)\n",
            "        (bn2): BatchNorm2d(256, eps=1e-05, momentum=0.1, affine=True, track_running_stats=True)\n",
            "      )\n",
            "    )\n",
            "    (layer4): Sequential(\n",
            "      (0): BasicBlock(\n",
            "        (conv1): Conv2d(256, 512, kernel_size=(3, 3), stride=(2, 2), padding=(1, 1), bias=False)\n",
            "        (bn1): BatchNorm2d(512, eps=1e-05, momentum=0.1, affine=True, track_running_stats=True)\n",
            "        (relu): ReLU(inplace=True)\n",
            "        (conv2): Conv2d(512, 512, kernel_size=(3, 3), stride=(1, 1), padding=(1, 1), bias=False)\n",
            "        (bn2): BatchNorm2d(512, eps=1e-05, momentum=0.1, affine=True, track_running_stats=True)\n",
            "        (downsample): Sequential(\n",
            "          (0): Conv2d(256, 512, kernel_size=(1, 1), stride=(2, 2), bias=False)\n",
            "          (1): BatchNorm2d(512, eps=1e-05, momentum=0.1, affine=True, track_running_stats=True)\n",
            "        )\n",
            "      )\n",
            "      (1): BasicBlock(\n",
            "        (conv1): Conv2d(512, 512, kernel_size=(3, 3), stride=(1, 1), padding=(1, 1), bias=False)\n",
            "        (bn1): BatchNorm2d(512, eps=1e-05, momentum=0.1, affine=True, track_running_stats=True)\n",
            "        (relu): ReLU(inplace=True)\n",
            "        (conv2): Conv2d(512, 512, kernel_size=(3, 3), stride=(1, 1), padding=(1, 1), bias=False)\n",
            "        (bn2): BatchNorm2d(512, eps=1e-05, momentum=0.1, affine=True, track_running_stats=True)\n",
            "      )\n",
            "    )\n",
            "    (avgpool): AdaptiveAvgPool2d(output_size=(1, 1))\n",
            "    (fc): Linear(in_features=512, out_features=1000, bias=True)\n",
            "  )\n",
            "  (fc1): Sequential(\n",
            "    (0): ReLU()\n",
            "    (1): Linear(in_features=1000, out_features=10, bias=True)\n",
            "  )\n",
            "  (fc2): Sequential(\n",
            "    (0): ReLU()\n",
            "    (1): Linear(in_features=1000, out_features=15, bias=True)\n",
            "  )\n",
            ")\n"
          ]
        }
      ],
      "source": [
        "model = Mtl_Model()\n",
        "model = model.to(device)\n",
        "print(model)"
      ]
    },
    {
      "cell_type": "markdown",
      "metadata": {
        "id": "83imqLRQ0v7M"
      },
      "source": [
        "We have made our model!  \n",
        "Next, PyTorch also provide many utility function(loss, optmizer...etc).  \n",
        "You can define them in one-line."
      ]
    },
    {
      "cell_type": "markdown",
      "metadata": {
        "id": "FtOkPO6Ga0Fw"
      },
      "source": [
        "### Define loss and optimizer"
      ]
    },
    {
      "cell_type": "code",
      "execution_count": 13,
      "metadata": {
        "id": "IoePct00RIFY"
      },
      "outputs": [],
      "source": [
        "import torch.nn as nn\n",
        "import torch.optim as optim\n",
        "\n",
        "# Category -> CrossEntropyLoss, Attribute -> BCELoss\n",
        "criterion1, criterion2 = nn.CrossEntropyLoss(), nn.BCEWithLogitsLoss()\n",
        "optimizer = torch.optim.Adam(model.parameters(), lr=1e-3)\n",
        "scheduler = optim.lr_scheduler.StepLR(optimizer, step_size=5, gamma=0.1)\n",
        "# step_size : lr 下降的間隔數，會在每 5 epoch 下降 10 倍 (lr * gamma)\n",
        "\n",
        "criterion1 = criterion1.to(device)\n",
        "criterion2 = criterion2.to(device)"
      ]
    },
    {
      "cell_type": "markdown",
      "metadata": {
        "id": "zle9KuFcbwMP"
      },
      "source": [
        "### Train the model"
      ]
    },
    {
      "cell_type": "markdown",
      "metadata": {
        "id": "bZFxE7Y9iLfl"
      },
      "source": [
        "#### Train function\n",
        "Let's define train function.  \n",
        "It will iterate input data 1 epoch and update model with optmizer.  \n",
        "Finally, calculate mean loss and total accuracy."
      ]
    },
    {
      "cell_type": "code",
      "execution_count": 14,
      "metadata": {
        "id": "1nD9mex8_Yld"
      },
      "outputs": [],
      "source": [
        "from sklearn.metrics import f1_score"
      ]
    },
    {
      "cell_type": "code",
      "execution_count": 15,
      "metadata": {
        "id": "VM93brDshO6E"
      },
      "outputs": [],
      "source": [
        "def train(input_data, model, criterion1, criterion2, optimizer):\n",
        "\n",
        "    model.train()\n",
        "    loss_list = []\n",
        "    attr_pred_list = []\n",
        "    attr_true_list = []\n",
        "    total_count = 0\n",
        "    acc_count = 0\n",
        "\n",
        "    for i, data in enumerate(input_data, 0):\n",
        "        inputs = data[0].to(device)\n",
        "        category_labels = data[1].to(device)\n",
        "        attribute_labels = data[2].to(device)\n",
        "\n",
        "        optimizer.zero_grad()\n",
        "        category_out, attribute_out = model(inputs)\n",
        "\n",
        "        category_loss = criterion1(category_out, category_labels)\n",
        "        attribute_loss = criterion2(attribute_out, attribute_labels)\n",
        "        loss = category_loss * 1 + attribute_loss * 8\n",
        "        loss.backward()\n",
        "        optimizer.step()\n",
        "\n",
        "        _, category_predict = torch.max(category_out.data, dim=1)\n",
        "        attribute_predict = (attribute_out.data > 0.5).int()\n",
        "        attr_pred_list += attribute_predict.tolist()\n",
        "        attr_true_list += attribute_labels.int().tolist()\n",
        "        total_count += category_labels.size(0) # 加總category每個批次的大小\n",
        "        acc_count += (category_predict == category_labels).sum().item() # 加總category每個批次的預測準確率\n",
        "        loss_list.append(loss.item())\n",
        "\n",
        "    acc = acc_count / total_count\n",
        "    f1 = f1_score(attr_true_list, attr_pred_list, average='samples')\n",
        "    loss = sum(loss_list) / len(loss_list)\n",
        "    \n",
        "    return acc, f1, loss"
      ]
    },
    {
      "cell_type": "markdown",
      "metadata": {
        "id": "KmDy1GTq_H2a"
      },
      "source": [
        "#### Validate function\n",
        "Next part is validate function.  \n",
        "It works as training function without optmizer and weight-updating part."
      ]
    },
    {
      "cell_type": "code",
      "execution_count": 16,
      "metadata": {
        "id": "USzbBgGEoTRu"
      },
      "outputs": [],
      "source": [
        "def val(input_data, model, criterion1, criterion2):\n",
        "    model.eval()\n",
        "    loss_list = []\n",
        "    attr_pred_list = []\n",
        "    attr_true_list = []\n",
        "    total_count = 0\n",
        "    acc_count = 0\n",
        "\n",
        "    with torch.no_grad():\n",
        "        for i, data in enumerate(input_data, 0):\n",
        "            inputs = data[0].to(device)\n",
        "            category_labels = data[1].to(device)\n",
        "            attribute_labels = data[2].to(device)\n",
        "\n",
        "            category_out, attribute_out = model(inputs)\n",
        "            category_loss = criterion1(category_out, category_labels)\n",
        "            attribute_loss = criterion2(attribute_out, attribute_labels)\n",
        "            loss = category_loss * 1 + attribute_loss * 8\n",
        "            \n",
        "            _, category_predict = torch.max(category_out.data, dim=1)\n",
        "            attribute_predict = (attribute_out.data > 0.5).int()\n",
        "            attr_pred_list += attribute_predict.tolist()\n",
        "            attr_true_list += attribute_labels.int().tolist()\n",
        "            total_count += category_labels.size(0)\n",
        "            acc_count += (category_predict == category_labels).sum().item()\n",
        "            loss_list.append(loss.item())\n",
        "        \n",
        "    acc = acc_count / total_count\n",
        "    f1 = f1_score(attr_true_list, attr_pred_list, average='samples')\n",
        "    loss = sum(loss_list) / len(loss_list)\n",
        "\n",
        "    return acc, f1, loss"
      ]
    },
    {
      "cell_type": "markdown",
      "metadata": {
        "id": "knXu74jCiuxP"
      },
      "source": [
        "#### Training in a loop\n",
        "Call train and test function in a loop.  \n",
        "Take a break and wait."
      ]
    },
    {
      "cell_type": "code",
      "execution_count": 17,
      "metadata": {
        "colab": {
          "base_uri": "https://localhost:8080/"
        },
        "id": "rcVulKkFJRtI",
        "outputId": "51db4556-32af-40f7-c7d2-46e1e4fa3136"
      },
      "outputs": [
        {
          "name": "stdout",
          "output_type": "stream",
          "text": [
            "======================================== Epoch 1 ========================================\n",
            "Train Acc (Category): 0.291262 Train F1 (Attribute): 0.035901 Train Loss: 4.153819\n",
            " Val Acc (Category): 0.376628  Val F1 (Attribute): 0.081434  Val Loss: 3.884585\n",
            "======================================== Epoch 2 ========================================\n",
            "Train Acc (Category): 0.397089 Train F1 (Attribute): 0.070138 Train Loss: 3.747718\n",
            " Val Acc (Category): 0.421310  Val F1 (Attribute): 0.113664  Val Loss: 3.692006\n",
            "======================================== Epoch 3 ========================================\n",
            "Train Acc (Category): 0.440269 Train F1 (Attribute): 0.092725 Train Loss: 3.573171\n",
            " Val Acc (Category): 0.479559  Val F1 (Attribute): 0.084123  Val Loss: 3.438761\n",
            "======================================== Epoch 4 ========================================\n",
            "Train Acc (Category): 0.472040 Train F1 (Attribute): 0.115402 Train Loss: 3.448309\n",
            " Val Acc (Category): 0.497467  Val F1 (Attribute): 0.145532  Val Loss: 3.361080\n",
            "======================================== Epoch 5 ========================================\n",
            "Train Acc (Category): 0.496291 Train F1 (Attribute): 0.129127 Train Loss: 3.358669\n",
            " Val Acc (Category): 0.498915  Val F1 (Attribute): 0.140286  Val Loss: 3.426463\n",
            "======================================== Epoch 6 ========================================\n",
            "Train Acc (Category): 0.553080 Train F1 (Attribute): 0.173068 Train Loss: 3.087650\n",
            " Val Acc (Category): 0.568741  Val F1 (Attribute): 0.215377  Val Loss: 3.055599\n",
            "======================================== Epoch 7 ========================================\n",
            "Train Acc (Category): 0.567635 Train F1 (Attribute): 0.193985 Train Loss: 3.012541\n",
            " Val Acc (Category): 0.575434  Val F1 (Attribute): 0.211584  Val Loss: 3.023211\n",
            "======================================== Epoch 8 ========================================\n",
            "Train Acc (Category): 0.578302 Train F1 (Attribute): 0.202562 Train Loss: 2.971195\n",
            " Val Acc (Category): 0.581946  Val F1 (Attribute): 0.215021  Val Loss: 2.995041\n",
            "======================================== Epoch 9 ========================================\n",
            "Train Acc (Category): 0.585849 Train F1 (Attribute): 0.208264 Train Loss: 2.941615\n",
            " Val Acc (Category): 0.580318  Val F1 (Attribute): 0.225827  Val Loss: 2.993855\n",
            "======================================== Epoch 10 ========================================\n",
            "Train Acc (Category): 0.591118 Train F1 (Attribute): 0.214247 Train Loss: 2.908212\n",
            " Val Acc (Category): 0.581223  Val F1 (Attribute): 0.208357  Val Loss: 2.988280\n",
            "======================================== Epoch 11 ========================================\n",
            "Train Acc (Category): 0.598639 Train F1 (Attribute): 0.216216 Train Loss: 2.871497\n",
            " Val Acc (Category): 0.590449  Val F1 (Attribute): 0.232170  Val Loss: 2.958803\n",
            "======================================== Epoch 12 ========================================\n",
            "Train Acc (Category): 0.600993 Train F1 (Attribute): 0.226080 Train Loss: 2.862651\n",
            " Val Acc (Category): 0.588821  Val F1 (Attribute): 0.234432  Val Loss: 2.957969\n",
            "======================================== Epoch 13 ========================================\n",
            "Train Acc (Category): 0.601939 Train F1 (Attribute): 0.228601 Train Loss: 2.852277\n",
            " Val Acc (Category): 0.587735  Val F1 (Attribute): 0.235354  Val Loss: 2.959201\n",
            "======================================== Epoch 14 ========================================\n",
            "Train Acc (Category): 0.603985 Train F1 (Attribute): 0.229849 Train Loss: 2.845780\n",
            " Val Acc (Category): 0.590268  Val F1 (Attribute): 0.239846  Val Loss: 2.952964\n",
            "======================================== Epoch 15 ========================================\n",
            "Train Acc (Category): 0.604753 Train F1 (Attribute): 0.231022 Train Loss: 2.846544\n",
            " Val Acc (Category): 0.589544  Val F1 (Attribute): 0.237851  Val Loss: 2.957595\n",
            "======================================== Epoch 16 ========================================\n",
            "Train Acc (Category): 0.608999 Train F1 (Attribute): 0.227025 Train Loss: 2.837691\n",
            " Val Acc (Category): 0.589001  Val F1 (Attribute): 0.237814  Val Loss: 2.961781\n",
            "======================================== Epoch 17 ========================================\n",
            "Train Acc (Category): 0.605930 Train F1 (Attribute): 0.230573 Train Loss: 2.841757\n",
            " Val Acc (Category): 0.586831  Val F1 (Attribute): 0.236717  Val Loss: 2.956535\n",
            "======================================== Epoch 18 ========================================\n",
            "Train Acc (Category): 0.606799 Train F1 (Attribute): 0.229875 Train Loss: 2.838674\n",
            " Val Acc (Category): 0.587916  Val F1 (Attribute): 0.232333  Val Loss: 2.953469\n",
            "======================================== Epoch 19 ========================================\n",
            "Train Acc (Category): 0.604625 Train F1 (Attribute): 0.229610 Train Loss: 2.838283\n",
            " Val Acc (Category): 0.589544  Val F1 (Attribute): 0.238429  Val Loss: 2.956291\n",
            "======================================== Epoch 20 ========================================\n",
            "Train Acc (Category): 0.607720 Train F1 (Attribute): 0.229706 Train Loss: 2.836419\n",
            " Val Acc (Category): 0.589544  Val F1 (Attribute): 0.236589  Val Loss: 2.952693\n"
          ]
        }
      ],
      "source": [
        "max_epochs = 20\n",
        "log_interval = 1 # print acc and loss in per log_interval time\n",
        "\n",
        "train_acc_list = []\n",
        "train_loss_list = []\n",
        "val_acc_list = []\n",
        "val_loss_list = []\n",
        "train_f1_list = []\n",
        "val_f1_list = []\n",
        "\n",
        "for epoch in range(1, max_epochs + 1):\n",
        "    train_acc, train_f1, train_loss = train(train_loader, model, criterion1, criterion2, optimizer)\n",
        "    val_acc, val_f1, val_loss = val(val_loader, model, criterion1, criterion2)\n",
        "    scheduler.step()\n",
        "\n",
        "    train_acc_list.append(train_acc)\n",
        "    train_loss_list.append(train_loss)\n",
        "    train_f1_list.append(train_f1)\n",
        "    val_acc_list.append(val_acc)\n",
        "    val_loss_list.append(val_loss)\n",
        "    val_f1_list.append(val_f1)\n",
        "\n",
        "    if epoch % log_interval == 0:\n",
        "        print('=' * 40, 'Epoch', epoch, '=' * 40)\n",
        "        print('Train Acc (Category): {:.6f} Train F1 (Attribute): {:.6f} Train Loss: {:.6f}'.format(train_acc, train_f1, train_loss))\n",
        "        print('  Val Acc (Category): {:.6f}  Val F1 (Attribute): {:.6f}  Val Loss: {:.6f}'.format(val_acc, val_f1, val_loss))"
      ]
    },
    {
      "cell_type": "code",
      "execution_count": 18,
      "metadata": {
        "id": "sdBlib2wzYU7"
      },
      "outputs": [],
      "source": [
        "# save your well-trained state_dict of model\n",
        "torch.save(model.state_dict(), 'NAME_OF_THIS_EXPERIMENT.pt')"
      ]
    },
    {
      "cell_type": "markdown",
      "metadata": {
        "id": "W5pW9zcKAN-2"
      },
      "source": [
        "#### Visualize accuracy and loss"
      ]
    },
    {
      "cell_type": "code",
      "execution_count": 19,
      "metadata": {
        "colab": {
          "base_uri": "https://localhost:8080/",
          "height": 809
        },
        "id": "4ifzgfp7iq2m",
        "outputId": "0ccb03ba-0ae7-4df4-f18a-2853971be6e6"
      },
      "outputs": [
        {
          "data": {
            "image/png": "[encoded data removed]",
            "text/plain": [
              "<Figure size 864x288 with 1 Axes>"
            ]
          },
          "metadata": {
            "needs_background": "light"
          },
          "output_type": "display_data"
        },
        {
          "data": {
            "image/png": "[encoded data removed]",
            "text/plain": [
              "<Figure size 864x288 with 1 Axes>"
            ]
          },
          "metadata": {
            "needs_background": "light"
          },
          "output_type": "display_data"
        },
        {
          "data": {
            "image/png": "[encoded data removed]",
            "text/plain": [
              "<Figure size 864x288 with 1 Axes>"
            ]
          },
          "metadata": {
            "needs_background": "light"
          },
          "output_type": "display_data"
        }
      ],
      "source": [
        "import matplotlib.pyplot as plt\n",
        "\n",
        "plt.figure(figsize=(12, 4))\n",
        "plt.plot(range(len(train_acc_list)), train_acc_list)\n",
        "plt.plot(range(len(val_acc_list)), val_acc_list, c='r')\n",
        "plt.legend(['train', 'val'])\n",
        "plt.title('Acc')\n",
        "plt.show()\n",
        "\n",
        "plt.figure(figsize=(12, 4))\n",
        "plt.plot(range(len(train_f1_list)), train_f1_list)\n",
        "plt.plot(range(len(val_f1_list)), val_f1_list, c='r')\n",
        "plt.legend(['train', 'val'])\n",
        "plt.title('F1')\n",
        "plt.show()\n",
        "\n",
        "plt.figure(figsize=(12, 4))\n",
        "plt.plot(range(len(train_loss_list)), train_loss_list)\n",
        "plt.plot(range(len(val_loss_list)), val_loss_list, c='r')\n",
        "plt.legend(['train', 'val'])\n",
        "plt.title('Loss')\n",
        "plt.show()"
      ]
    },
    {
      "cell_type": "markdown",
      "metadata": {
        "id": "zMYSgO5viYOk"
      },
      "source": [
        "### Predict Result\n",
        "\n",
        "Predict the labesl based on testing set. Upload to Kaggle. [**LINK**](https://www.kaggle.com/t/a9e78aa7a68b40cd960bd8dcb09f8e45).\n",
        "\n",
        "**How to upload**\n",
        "\n",
        "1. Click the folder icon in the left hand side of Colab.\n",
        "2. Right click \"result.csv\". Select \"Download\"\n",
        "3. To kaggle. Click \"Submit Predictions\"\n",
        "4. Upload the result.csv\n",
        "5. System will automaticlaly calculate the accuracy of 70% dataset and publish this result to leaderboard.\n",
        "\n",
        "---\n",
        "\n",
        "預測`test`並將結果上傳至Kaggle。[**連結**](https://www.kaggle.com/t/a9e78aa7a68b40cd960bd8dcb09f8e45)\n",
        "\n",
        "執行完畢此區的程式碼後，會將`test`預測完的結果存下來。\n",
        "\n",
        "上傳流程\n",
        "1. 點選左側選單最下方的資料夾圖示\n",
        "2. 右鍵「result.csv」\n",
        "3. 點選「Download」\n",
        "4. 至連結網頁點選「Submit Predictions」\n",
        "5. 將剛剛下載的檔案上傳\n",
        "6. 系統會計算並公布其中70%資料的正確率"
      ]
    },
    {
      "cell_type": "code",
      "execution_count": 26,
      "metadata": {
        "id": "SiyK25P6KXrn"
      },
      "outputs": [],
      "source": [
        "def predict_category(input_data, model):\n",
        "  model.eval()\n",
        "  output_list = []\n",
        "  with torch.no_grad():\n",
        "    for data in input_data:\n",
        "      images = data.to(device)\n",
        "      outputs = model(images)[0]\n",
        "      _, predicted = torch.max(torch.softmax(outputs.data, 1), 1)\n",
        "      output_list.extend(predicted.to('cpu').numpy().tolist())\n",
        "  return output_list"
      ]
    },
    {
      "cell_type": "code",
      "execution_count": 27,
      "metadata": {
        "id": "0I0LN7HwpnsX"
      },
      "outputs": [],
      "source": [
        "idx = 0\n",
        "output_csv = predict_category(test_loader, model)\n",
        "with open('result_cat_withAdamandStepLR.csv', 'w', newline='') as csvFile:\n",
        "  writer = csv.DictWriter(csvFile, fieldnames=['file_path', 'category_label'])\n",
        "  writer.writeheader()\n",
        "  for result in output_csv:\n",
        "    file_path = dataset_test.data_list[idx]\n",
        "    writer.writerow({'file_path':file_path, 'category_label':result})\n",
        "    idx += 1"
      ]
    },
    {
      "cell_type": "code",
      "execution_count": 28,
      "metadata": {
        "id": "-TIpktmdEXr5"
      },
      "outputs": [],
      "source": [
        "def predict_attribute(input_data, model):\n",
        "  model.eval()\n",
        "  output_list = []\n",
        "  with torch.no_grad():\n",
        "    for data in input_data:\n",
        "      images = data.to(device)\n",
        "      outputs = model(images)[1]\n",
        "      predicted = (torch.sigmoid(outputs.data) > 0.25).int()\n",
        "      index = []\n",
        "      for img in range(len(predicted)):\n",
        "        index = []\n",
        "        for i in range(len(predicted[img])):\n",
        "            if(predicted[img][i]==1):\n",
        "                index.append(str(i))\n",
        "        output_list.append(' '.join(index)) #轉成str\n",
        "  return output_list"
      ]
    },
    {
      "cell_type": "code",
      "execution_count": 29,
      "metadata": {
        "id": "_u4VHLfoEbMx"
      },
      "outputs": [],
      "source": [
        "idx = 0\n",
        "output_csv = predict_attribute(test_loader, model)\n",
        "with open('result_att_withAdamandStepLR.csv', 'w', newline='') as csvFile:\n",
        "  writer = csv.DictWriter(csvFile, fieldnames=['file_path', 'attribute_label'])\n",
        "  writer.writeheader()\n",
        "  for result in output_csv:\n",
        "    file_path = dataset_test.data_list[idx]\n",
        "    writer.writerow({'file_path':file_path, 'attribute_label':result})\n",
        "    idx += 1"
      ]
    },
    {
      "cell_type": "code",
      "execution_count": 30,
      "metadata": {
        "colab": {
          "base_uri": "https://localhost:8080/",
          "height": 17
        },
        "id": "5GKphcYP7O7Y",
        "outputId": "7cba8874-8949-480a-e33a-7d0f80ab8e74"
      },
      "outputs": [
        {
          "data": {
            "application/javascript": "\n    async function download(id, filename, size) {\n      if (!google.colab.kernel.accessAllowed) {\n        return;\n      }\n      const div = document.createElement('div');\n      const label = document.createElement('label');\n      label.textContent = `Downloading \"${filename}\": `;\n      div.appendChild(label);\n      const progress = document.createElement('progress');\n      progress.max = size;\n      div.appendChild(progress);\n      document.body.appendChild(div);\n\n      const buffers = [];\n      let downloaded = 0;\n\n      const channel = await google.colab.kernel.comms.open(id);\n      // Send a message to notify the kernel that we're ready.\n      channel.send({})\n\n      for await (const message of channel.messages) {\n        // Send a message to notify the kernel that we're ready.\n        channel.send({})\n        if (message.buffers) {\n          for (const buffer of message.buffers) {\n            buffers.push(buffer);\n            downloaded += buffer.byteLength;\n            progress.value = downloaded;\n          }\n        }\n      }\n      const blob = new Blob(buffers, {type: 'application/binary'});\n      const a = document.createElement('a');\n      a.href = window.URL.createObjectURL(blob);\n      a.download = filename;\n      div.appendChild(a);\n      a.click();\n      div.remove();\n    }\n  ",
            "text/plain": [
              "<IPython.core.display.Javascript object>"
            ]
          },
          "metadata": {},
          "output_type": "display_data"
        },
        {
          "data": {
            "application/javascript": "download(\"download_bb952541-762e-4cca-96f3-84f0eb5d9286\", \"result_cat_withAdamandStepLR.csv\", 348001)",
            "text/plain": [
              "<IPython.core.display.Javascript object>"
            ]
          },
          "metadata": {},
          "output_type": "display_data"
        },
        {
          "data": {
            "application/javascript": "\n    async function download(id, filename, size) {\n      if (!google.colab.kernel.accessAllowed) {\n        return;\n      }\n      const div = document.createElement('div');\n      const label = document.createElement('label');\n      label.textContent = `Downloading \"${filename}\": `;\n      div.appendChild(label);\n      const progress = document.createElement('progress');\n      progress.max = size;\n      div.appendChild(progress);\n      document.body.appendChild(div);\n\n      const buffers = [];\n      let downloaded = 0;\n\n      const channel = await google.colab.kernel.comms.open(id);\n      // Send a message to notify the kernel that we're ready.\n      channel.send({})\n\n      for await (const message of channel.messages) {\n        // Send a message to notify the kernel that we're ready.\n        channel.send({})\n        if (message.buffers) {\n          for (const buffer of message.buffers) {\n            buffers.push(buffer);\n            downloaded += buffer.byteLength;\n            progress.value = downloaded;\n          }\n        }\n      }\n      const blob = new Blob(buffers, {type: 'application/binary'});\n      const a = document.createElement('a');\n      a.href = window.URL.createObjectURL(blob);\n      a.download = filename;\n      div.appendChild(a);\n      a.click();\n      div.remove();\n    }\n  ",
            "text/plain": [
              "<IPython.core.display.Javascript object>"
            ]
          },
          "metadata": {},
          "output_type": "display_data"
        },
        {
          "data": {
            "application/javascript": "download(\"download_28740cbb-da7f-4ca6-b864-f56ca0268943\", \"result_att_withAdamandStepLR.csv\", 367404)",
            "text/plain": [
              "<IPython.core.display.Javascript object>"
            ]
          },
          "metadata": {},
          "output_type": "display_data"
        }
      ],
      "source": [
        "from google.colab import files\n",
        "files.download(\"result_cat_withAdamandStepLR.csv\")\n",
        "files.download(\"result_att_withAdamandStepLR.csv\")"
      ]
    },
    {
      "cell_type": "markdown",
      "metadata": {
        "id": "4XTB6EF6mH2Q"
      },
      "source": [
        "# Keep trying and write report\n",
        "\n",
        "Keep adjust your model, loss function, optimizer...... to train the better model.  \n",
        "Remember record the output of different setting. It's convenient for your to write the report.\n",
        "\n",
        "You are on your way!\n",
        "\n",
        "---\n",
        "\n",
        "持續調整模型、訓練方法、損失函數、優化器等，來訓練出更好的模型，並記錄使用不同參數得出的效果，以利後續 Report 的撰寫。\n",
        "\n",
        "大家加油！"
      ]
    }
  ],
  "metadata": {
    "accelerator": "GPU",
    "colab": {
      "collapsed_sections": [],
      "provenance": []
    },
    "kernelspec": {
      "display_name": "Python 3",
      "name": "python3"
    },
    "language_info": {
      "name": "python"
    },
    "widgets": {
      "application/vnd.jupyter.widget-state+json": {
        "00885f301c0d4d6abfbeecab7d27c787": {
          "model_module": "@jupyter-widgets/base",
          "model_module_version": "1.2.0",
          "model_name": "LayoutModel",
          "state": {
            "_model_module": "@jupyter-widgets/base",
            "_model_module_version": "1.2.0",
            "_model_name": "LayoutModel",
            "_view_count": null,
            "_view_module": "@jupyter-widgets/base",
            "_view_module_version": "1.2.0",
            "_view_name": "LayoutView",
            "align_content": null,
            "align_items": null,
            "align_self": null,
            "border": null,
            "bottom": null,
            "display": null,
            "flex": null,
            "flex_flow": null,
            "grid_area": null,
            "grid_auto_columns": null,
            "grid_auto_flow": null,
            "grid_auto_rows": null,
            "grid_column": null,
            "grid_gap": null,
            "grid_row": null,
            "grid_template_areas": null,
            "grid_template_columns": null,
            "grid_template_rows": null,
            "height": null,
            "justify_content": null,
            "justify_items": null,
            "left": null,
            "margin": null,
            "max_height": null,
            "max_width": null,
            "min_height": null,
            "min_width": null,
            "object_fit": null,
            "object_position": null,
            "order": null,
            "overflow": null,
            "overflow_x": null,
            "overflow_y": null,
            "padding": null,
            "right": null,
            "top": null,
            "visibility": null,
            "width": null
          }
        },
        "06f68cfe1da2402bb2f9b821905c8211": {
          "model_module": "@jupyter-widgets/controls",
          "model_module_version": "1.5.0",
          "model_name": "FloatProgressModel",
          "state": {
            "_dom_classes": [],
            "_model_module": "@jupyter-widgets/controls",
            "_model_module_version": "1.5.0",
            "_model_name": "FloatProgressModel",
            "_view_count": null,
            "_view_module": "@jupyter-widgets/controls",
            "_view_module_version": "1.5.0",
            "_view_name": "ProgressView",
            "bar_style": "success",
            "description": "",
            "description_tooltip": null,
            "layout": "IPY_MODEL_83c10b3539754e6f8205d8e3c171b313",
            "max": 46830571,
            "min": 0,
            "orientation": "horizontal",
            "style": "IPY_MODEL_a2e8b0de92c244cb98c50041be2e2a43",
            "value": 46830571
          }
        },
        "36dc52375e124201bdb89091f5d65ff8": {
          "model_module": "@jupyter-widgets/controls",
          "model_module_version": "1.5.0",
          "model_name": "DescriptionStyleModel",
          "state": {
            "_model_module": "@jupyter-widgets/controls",
            "_model_module_version": "1.5.0",
            "_model_name": "DescriptionStyleModel",
            "_view_count": null,
            "_view_module": "@jupyter-widgets/base",
            "_view_module_version": "1.2.0",
            "_view_name": "StyleView",
            "description_width": ""
          }
        },
        "4d1fb52bc02e474f8e2656c5c84f8c88": {
          "model_module": "@jupyter-widgets/controls",
          "model_module_version": "1.5.0",
          "model_name": "DescriptionStyleModel",
          "state": {
            "_model_module": "@jupyter-widgets/controls",
            "_model_module_version": "1.5.0",
            "_model_name": "DescriptionStyleModel",
            "_view_count": null,
            "_view_module": "@jupyter-widgets/base",
            "_view_module_version": "1.2.0",
            "_view_name": "StyleView",
            "description_width": ""
          }
        },
        "4e2e0b24a45a48eea9975f5897f48a53": {
          "model_module": "@jupyter-widgets/controls",
          "model_module_version": "1.5.0",
          "model_name": "HTMLModel",
          "state": {
            "_dom_classes": [],
            "_model_module": "@jupyter-widgets/controls",
            "_model_module_version": "1.5.0",
            "_model_name": "HTMLModel",
            "_view_count": null,
            "_view_module": "@jupyter-widgets/controls",
            "_view_module_version": "1.5.0",
            "_view_name": "HTMLView",
            "description": "",
            "description_tooltip": null,
            "layout": "IPY_MODEL_00885f301c0d4d6abfbeecab7d27c787",
            "placeholder": "​",
            "style": "IPY_MODEL_4d1fb52bc02e474f8e2656c5c84f8c88",
            "value": "100%"
          }
        },
        "6c85891341114546875fb45cab1f11ae": {
          "model_module": "@jupyter-widgets/controls",
          "model_module_version": "1.5.0",
          "model_name": "HBoxModel",
          "state": {
            "_dom_classes": [],
            "_model_module": "@jupyter-widgets/controls",
            "_model_module_version": "1.5.0",
            "_model_name": "HBoxModel",
            "_view_count": null,
            "_view_module": "@jupyter-widgets/controls",
            "_view_module_version": "1.5.0",
            "_view_name": "HBoxView",
            "box_style": "",
            "children": [
              "IPY_MODEL_4e2e0b24a45a48eea9975f5897f48a53",
              "IPY_MODEL_06f68cfe1da2402bb2f9b821905c8211",
              "IPY_MODEL_e5020b12c8c141cca62840f7c4b195f1"
            ],
            "layout": "IPY_MODEL_be81d51a8523411095b1cb6f9b0bb776"
          }
        },
        "826f0ed517cc474297fcd11d411257a5": {
          "model_module": "@jupyter-widgets/base",
          "model_module_version": "1.2.0",
          "model_name": "LayoutModel",
          "state": {
            "_model_module": "@jupyter-widgets/base",
            "_model_module_version": "1.2.0",
            "_model_name": "LayoutModel",
            "_view_count": null,
            "_view_module": "@jupyter-widgets/base",
            "_view_module_version": "1.2.0",
            "_view_name": "LayoutView",
            "align_content": null,
            "align_items": null,
            "align_self": null,
            "border": null,
            "bottom": null,
            "display": null,
            "flex": null,
            "flex_flow": null,
            "grid_area": null,
            "grid_auto_columns": null,
            "grid_auto_flow": null,
            "grid_auto_rows": null,
            "grid_column": null,
            "grid_gap": null,
            "grid_row": null,
            "grid_template_areas": null,
            "grid_template_columns": null,
            "grid_template_rows": null,
            "height": null,
            "justify_content": null,
            "justify_items": null,
            "left": null,
            "margin": null,
            "max_height": null,
            "max_width": null,
            "min_height": null,
            "min_width": null,
            "object_fit": null,
            "object_position": null,
            "order": null,
            "overflow": null,
            "overflow_x": null,
            "overflow_y": null,
            "padding": null,
            "right": null,
            "top": null,
            "visibility": null,
            "width": null
          }
        },
        "83c10b3539754e6f8205d8e3c171b313": {
          "model_module": "@jupyter-widgets/base",
          "model_module_version": "1.2.0",
          "model_name": "LayoutModel",
          "state": {
            "_model_module": "@jupyter-widgets/base",
            "_model_module_version": "1.2.0",
            "_model_name": "LayoutModel",
            "_view_count": null,
            "_view_module": "@jupyter-widgets/base",
            "_view_module_version": "1.2.0",
            "_view_name": "LayoutView",
            "align_content": null,
            "align_items": null,
            "align_self": null,
            "border": null,
            "bottom": null,
            "display": null,
            "flex": null,
            "flex_flow": null,
            "grid_area": null,
            "grid_auto_columns": null,
            "grid_auto_flow": null,
            "grid_auto_rows": null,
            "grid_column": null,
            "grid_gap": null,
            "grid_row": null,
            "grid_template_areas": null,
            "grid_template_columns": null,
            "grid_template_rows": null,
            "height": null,
            "justify_content": null,
            "justify_items": null,
            "left": null,
            "margin": null,
            "max_height": null,
            "max_width": null,
            "min_height": null,
            "min_width": null,
            "object_fit": null,
            "object_position": null,
            "order": null,
            "overflow": null,
            "overflow_x": null,
            "overflow_y": null,
            "padding": null,
            "right": null,
            "top": null,
            "visibility": null,
            "width": null
          }
        },
        "a2e8b0de92c244cb98c50041be2e2a43": {
          "model_module": "@jupyter-widgets/controls",
          "model_module_version": "1.5.0",
          "model_name": "ProgressStyleModel",
          "state": {
            "_model_module": "@jupyter-widgets/controls",
            "_model_module_version": "1.5.0",
            "_model_name": "ProgressStyleModel",
            "_view_count": null,
            "_view_module": "@jupyter-widgets/base",
            "_view_module_version": "1.2.0",
            "_view_name": "StyleView",
            "bar_color": null,
            "description_width": ""
          }
        },
        "be81d51a8523411095b1cb6f9b0bb776": {
          "model_module": "@jupyter-widgets/base",
          "model_module_version": "1.2.0",
          "model_name": "LayoutModel",
          "state": {
            "_model_module": "@jupyter-widgets/base",
            "_model_module_version": "1.2.0",
            "_model_name": "LayoutModel",
            "_view_count": null,
            "_view_module": "@jupyter-widgets/base",
            "_view_module_version": "1.2.0",
            "_view_name": "LayoutView",
            "align_content": null,
            "align_items": null,
            "align_self": null,
            "border": null,
            "bottom": null,
            "display": null,
            "flex": null,
            "flex_flow": null,
            "grid_area": null,
            "grid_auto_columns": null,
            "grid_auto_flow": null,
            "grid_auto_rows": null,
            "grid_column": null,
            "grid_gap": null,
            "grid_row": null,
            "grid_template_areas": null,
            "grid_template_columns": null,
            "grid_template_rows": null,
            "height": null,
            "justify_content": null,
            "justify_items": null,
            "left": null,
            "margin": null,
            "max_height": null,
            "max_width": null,
            "min_height": null,
            "min_width": null,
            "object_fit": null,
            "object_position": null,
            "order": null,
            "overflow": null,
            "overflow_x": null,
            "overflow_y": null,
            "padding": null,
            "right": null,
            "top": null,
            "visibility": null,
            "width": null
          }
        },
        "e5020b12c8c141cca62840f7c4b195f1": {
          "model_module": "@jupyter-widgets/controls",
          "model_module_version": "1.5.0",
          "model_name": "HTMLModel",
          "state": {
            "_dom_classes": [],
            "_model_module": "@jupyter-widgets/controls",
            "_model_module_version": "1.5.0",
            "_model_name": "HTMLModel",
            "_view_count": null,
            "_view_module": "@jupyter-widgets/controls",
            "_view_module_version": "1.5.0",
            "_view_name": "HTMLView",
            "description": "",
            "description_tooltip": null,
            "layout": "IPY_MODEL_826f0ed517cc474297fcd11d411257a5",
            "placeholder": "​",
            "style": "IPY_MODEL_36dc52375e124201bdb89091f5d65ff8",
            "value": " 44.7M/44.7M [00:00&lt;00:00, 62.7MB/s]"
          }
        }
      }
    }
  },
  "nbformat": 4,
  "nbformat_minor": 0
}
