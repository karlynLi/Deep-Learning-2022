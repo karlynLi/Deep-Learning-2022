{
  "cells": [
    {
      "cell_type": "markdown",
      "metadata": {
        "id": "hLcWRu-jp7gM"
      },
      "source": [
        "# MIS 583 Assignment 3: Flower Classfication"
      ]
    },
    {
      "cell_type": "code",
      "execution_count": null,
      "metadata": {
        "id": "nsFaMQOj7Q7f"
      },
      "outputs": [],
      "source": [
        "# !nvidia-smi"
      ]
    },
    {
      "cell_type": "markdown",
      "metadata": {
        "id": "oSwr9MgZogRZ"
      },
      "source": [
        "Before we start, please put your name and SID in following format: <br>\n",
        ": LASTNAME Firstname, ?00000000   //   e.g.) 陳耀融, M094020099"
      ]
    },
    {
      "cell_type": "markdown",
      "metadata": {
        "id": "6DzsjuDhlz_k"
      },
      "source": [
        "**Your Answer:**   \n",
        "Hi I'm 李畇彤, M114020038"
      ]
    },
    {
      "cell_type": "markdown",
      "metadata": {
        "id": "B_MoQiztpxcK"
      },
      "source": [
        "## Flower Classification\n",
        "\n",
        "Image classification is a core and fundamental task in computer vision.\n",
        "\n",
        "In the assignment, you will implement a multi-class image classifier to recognize flowers.\n",
        "\n",
        "You will design and train a deep convolutional network from scratch to predict the class label of a flower image. This will help you gain experience with network design and get more familiar with PyTorch.\n",
        "\n",
        "**Please note that you’re not allowed to use pre-constructed models or pre-trained weights.**"
      ]
    },
    {
      "cell_type": "markdown",
      "metadata": {
        "id": "b1NQv3Ey3cVS"
      },
      "source": [
        "## Kaggle Competition\n",
        "Kaggle is an online community of data scientists and machine learning practitioners. Kaggle allows users to find and publish datasets, explore and build models in a web-based data-science environment, work with other data scientists and machine learning engineers, and enter competitions to solve data science challenges.\n",
        "\n",
        "This assignment use kaggle to calculate your grade.  \n",
        "Please use this [**LINK**](https://www.kaggle.com/t/a9e78aa7a68b40cd960bd8dcb09f8e45) to join the competition."
      ]
    },
    {
      "cell_type": "markdown",
      "metadata": {
        "id": "bCtoiSyVVTO8"
      },
      "source": [
        "## Google Colab Setup\n",
        "Next we need to run a few commands to set up our environment on Google Colab. If you are running this notebook on a local machine you can skip this section.\n",
        "\n",
        "Run the following cell to mount your Google Drive. Follow the link, sign in to your Google account (the same account you used to store this notebook!) and copy the authorization code into the text box that appears below."
      ]
    },
    {
      "cell_type": "code",
      "execution_count": null,
      "metadata": {
        "colab": {
          "base_uri": "https://localhost:8080/"
        },
        "id": "tHG0slB6VTO8",
        "outputId": "7679bc02-2910-4f2c-d0a4-8903c99868db"
      },
      "outputs": [
        {
          "name": "stdout",
          "output_type": "stream",
          "text": [
            "Drive already mounted at /content/drive; to attempt to forcibly remount, call drive.mount(\"/content/drive\", force_remount=True).\n"
          ]
        }
      ],
      "source": [
        "from google.colab import drive\n",
        "drive.mount('/content/drive')"
      ]
    },
    {
      "cell_type": "markdown",
      "metadata": {
        "id": "giUId1Naqacs"
      },
      "source": [
        "##  Versions of used packages\n",
        "\n",
        "We will check PyTorch version to make sure everything work properly.\n",
        "\n",
        "We use `python==3.7.14`, `torch==1.12.1+cu113` and `torchvision==0.13.1+cu113`. This is the default version in Google Colab."
      ]
    },
    {
      "cell_type": "code",
      "execution_count": null,
      "metadata": {
        "colab": {
          "base_uri": "https://localhost:8080/"
        },
        "id": "Vuw-gNvjqcYe",
        "outputId": "3fb2be7a-5a8f-4498-e936-bfa843c1c723"
      },
      "outputs": [
        {
          "name": "stdout",
          "output_type": "stream",
          "text": [
            "python 3.7.15 (default, Oct 12 2022, 19:14:55) \n",
            "torch 1.12.1+cu113\n",
            "torchvision 0.13.1+cu113\n"
          ]
        }
      ],
      "source": [
        "import sys\n",
        "import torch\n",
        "import torchvision\n",
        "print('python', sys.version.split('\\n')[0])\n",
        "print('torch', torch.__version__)\n",
        "print('torchvision', torchvision.__version__)"
      ]
    },
    {
      "cell_type": "markdown",
      "metadata": {
        "id": "_FydjP4MTWuL"
      },
      "source": [
        "## Error handling\n",
        "\n",
        "**RuntimeError: CUDA out of memory...**\n",
        "> 發生原因可能為讀取的 batch 過大或是記憶體未釋放乾淨。若縮小 batch size 後仍出現錯誤請按照以下步驟重新載入 colab。\n",
        "> The reason of this error is over-sized batch_size or unreleased memory. If changing the batch_size smaller still cause this error. Please reload colab follow below instructions.\n",
        "\n",
        "1. Click 「Runtime」\n",
        "2. Click 「Factor reset runtime」\n",
        "3. Click 「Reconnect」\n",
        "4. Reload all chunk\n",
        "\n"
      ]
    },
    {
      "cell_type": "markdown",
      "metadata": {
        "id": "OhdbdJOsrbxL"
      },
      "source": [
        "# Prepare Data"
      ]
    },
    {
      "cell_type": "markdown",
      "metadata": {
        "id": "nPoSgD83teTQ"
      },
      "source": [
        "We use [Flowers Recognition](https://www.kaggle.com/alxmamaev/flowers-recognition) dataset.\n",
        "This is collected by Alexander Mamaev.\n",
        "\n",
        "**Abstrct**  \n",
        "\n",
        "This dataset contains 4317 flower images.  \n",
        "But, you can only get 1724(40%) images in this assignments.  \n",
        "**IMPORTANT: you CANNOT use any extra images.**\n",
        "\n",
        "The data collection is grabed from the data flicr, google images, yandex images.\n",
        "You can use this datastet to recognize plants from the photo.\n",
        "\n",
        "The pictures are divided into five classes: \n",
        "+ daisy\n",
        "+ tulip\n",
        "+ rose\n",
        "+ sunflower\n",
        "+ dandelion\n",
        "\n",
        "For each class there are about 800 photos. Photos are not high resolution, about 320x240 pixels. Photos are not reduced to a single size, they have different proportions!"
      ]
    },
    {
      "cell_type": "markdown",
      "metadata": {
        "id": "IiMThsYeDa2O"
      },
      "source": [
        "## How to Get Data\n",
        "\n",
        "Please open the file `A3_data_flower_2022.zip`, creat shortcut to your Google Drive.\n",
        "\n",
        "1. open [LINK of Google Drive](https://drive.google.com/file/d/1BKAws4gdgf8yAvkIao2nWZgtJ30FjPH4/view?usp=sharing)\n",
        "2. Click \"Add shortcut to Drive\" in the top-right corner.\n",
        "3. Select the location where you want to place the shortcut.\n",
        "4. Click Add shortcut.\n",
        "\n",
        "After above procedures, we have a shortcut of zip file of dataset.  \n",
        "We can access this in colab after granting the permission of Google Drive.\n",
        "\n",
        "---\n",
        "\n",
        "請先到共用雲端硬碟將檔案 `A3_data_flower_2022.zip`，建立捷徑到自己的雲端硬碟中。\n",
        "\n",
        "> 操作步驟\n",
        "1. 點開雲端[連結](https://drive.google.com/file/d/1BKAws4gdgf8yAvkIao2nWZgtJ30FjPH4/view?usp=sharing)\n",
        "2. 點選右上角「新增雲端硬碟捷徑」\n",
        "3. 點選「我的雲端硬碟」\n",
        "4. 點選「新增捷徑」\n",
        "\n",
        "完成以上流程會在你的雲端硬碟中建立一個檔案的捷徑，接著我們在colab中取得權限即可使用。"
      ]
    },
    {
      "cell_type": "markdown",
      "metadata": {
        "id": "cqO8DiB6VRQZ"
      },
      "source": [
        "## Unzip Data\n",
        "\n",
        "Unzip `A3_data_flower_2022.zip`, there are 2 folders and 3 csvs.\n",
        "\n",
        "- `train/`: contains 5 folders for 5 categories of flowers. Images of flowers inside them.\n",
        "- `test/`: unclassified images of testing set.\n",
        "- `train.csv`: file path and true label of training set.\n",
        "- `val.csv`: file path and true label of validation set.\n",
        "- `train.csv`: file paht of testing set.\n",
        "\n",
        "There are **1296 images in dataset_train.**  \n",
        "There are **432 images in dataset_test.**  \n",
        "There are **431 images in dataset_val.**  \n",
        "\n",
        "---\n",
        "\n",
        "解壓縮 `A3_data_flower_2022.zip` 後可以發現裡面有兩個資料夾和三個csv檔。\n",
        "\n",
        "+ `train` : 存有五個資料夾分別是五個種類的花，資料夾內為花的照片。\n",
        "+ `test` : 資料夾中為未分類之測試集照片。\n",
        "+ `train.csv` : 讀取 train data 的順序、路徑與圖片所屬花別。\n",
        "+ `val.csv` : 讀取 validate data 的順序、路徑與圖片所屬花別。\n",
        "+ `test.csv` : 讀取 test data 的順序、路徑。\n",
        "\n",
        "其中`train`的圖片  1296 張，`val` 的圖片 432 張，`test` 的圖片 431 張。\n",
        "\n",
        "注意: 若有另外設定存放在雲端硬碟中的路徑，請記得本處路徑也須做更動。"
      ]
    },
    {
      "cell_type": "code",
      "execution_count": null,
      "metadata": {
        "colab": {
          "base_uri": "https://localhost:8080/"
        },
        "id": "aGCZQxZSfONu",
        "outputId": "c19792d1-6752-4e05-9507-a6ec538ce3fc"
      },
      "outputs": [
        {
          "name": "stdout",
          "output_type": "stream",
          "text": [
            "replace A3_data_flower_2022/val.csv? [y]es, [n]o, [A]ll, [N]one, [r]ename: N\n"
          ]
        }
      ],
      "source": [
        "!unzip -qq ./drive/MyDrive/NSYSU/Deep_Learning/MIS583/A3_data_flower_2022.zip"
      ]
    },
    {
      "cell_type": "code",
      "execution_count": null,
      "metadata": {
        "id": "lYccv1qYzYUz"
      },
      "outputs": [],
      "source": [
        "data_folder = 'A3_data_flower_2022'"
      ]
    },
    {
      "cell_type": "markdown",
      "metadata": {
        "id": "SYueKGdIHpho"
      },
      "source": [
        "## Loading the dataset\n"
      ]
    },
    {
      "cell_type": "markdown",
      "metadata": {
        "id": "xpG2DxEqHFD-"
      },
      "source": [
        "### Custom dataset\n",
        "\n",
        "Build a classs inherit `torch.utils.data.Dataset`.  \n",
        "Implement `__init__`, `__getitem__` and `__len__` 3 functions.  \n",
        "\n",
        "Some operations could be there: setting location of dataset, the method of reading data, label of dataset or transform of dataset.\n",
        "\n",
        "See [torch.utils.data.Dataset](https://pytorch.org/docs/stable/data.html#torch.utils.data.Dataset) for more details\n",
        "\n",
        "---\n",
        "\n",
        "繼承自定義資料集的框架 `torch.utils.data.Dataset`，主要實現 `__getitem__()` 和 `__len__()` 這兩個方法。\n",
        "\n",
        "常使用來做到設定資料位址、設定讀取方式、子資料集的標籤和轉換條件...等。\n",
        "\n",
        "See [torch.utils.data.Dataset](https://pytorch.org/docs/stable/data.html#torch.utils.data.Dataset) for more details"
      ]
    },
    {
      "cell_type": "code",
      "execution_count": null,
      "metadata": {
        "id": "dwUE1E83_Iw8"
      },
      "outputs": [],
      "source": [
        "import csv\n",
        "import os\n",
        "import numpy as np\n",
        "from PIL import Image\n",
        "import torch\n",
        "\n",
        "class FlowerData(torch.utils.data.Dataset):\n",
        "    def __init__(self, csv_file, mode='train', transform=None):\n",
        "        self.mode = mode # 'train', 'val' or 'test'\n",
        "        self.data_list = []\n",
        "        self.labels = []\n",
        "        self.transform = transform\n",
        "        \n",
        "        with open(f'{data_folder}/{csv_file}', newline='') as csvfile:\n",
        "            reader = csv.DictReader(csvfile)\n",
        "            for row in reader:\n",
        "                self.data_list.append(f\"{data_folder}/{row['file_path']}\")\n",
        "                if mode != 'test':\n",
        "                    self.labels.append(row['label'])\n",
        "\n",
        "    def __getitem__(self, index):\n",
        "        data = Image.open(self.data_list[index])\n",
        "        if self.transform is not None:\n",
        "            data = self.transform(data)\n",
        "        if self.mode == 'test':\n",
        "            return data\n",
        "        label = torch.tensor(int(self.labels[index]))\n",
        "\n",
        "        return data, label\n",
        "\n",
        "    def __len__(self):\n",
        "        return len(self.data_list)"
      ]
    },
    {
      "cell_type": "markdown",
      "metadata": {
        "id": "5tQGLuVWnA-b"
      },
      "source": [
        "### Data augmentation \n",
        "\n",
        "Data augmentation are techniques used to increase the amount of data by adding slightly modified copies of already existing data or newly created synthetic data from existing data.\n",
        "\n",
        "PyTorch use `torchvision.transforms` to do data augmentation.\n",
        "[You can see all function here.](https://pytorch.org/vision/stable/transforms.html)\n",
        "\n",
        "**NOTICE**: There are some operations may not be necessary for predict, so we should write one for train and one for others."
      ]
    },
    {
      "cell_type": "code",
      "execution_count": null,
      "metadata": {
        "id": "UIv1VyHXVNTo"
      },
      "outputs": [],
      "source": [
        "from torchvision import transforms\n",
        "# For TRAIN\n",
        "########################################################################\n",
        "#  TODO: use transforms.xxx method to do some data augmentation        #\n",
        "#  This one is for training, find the composition to get better result #\n",
        "########################################################################\n",
        "transforms_train = transforms.Compose([\n",
        "    transforms.Resize((256, 256)),\n",
        "    transforms.RandomCrop((224, 224)),\n",
        "    transforms.RandomHorizontalFlip(p=0.5),\n",
        "    transforms.RandomRotation(degrees=(-90, 90)),\n",
        "    transforms.ToTensor(),\n",
        "    transforms.Normalize(mean=[0.485, 0.456, 0.406], std=[0.229, 0.224, 0.225]),\n",
        "  ])\n",
        "########################################################################\n",
        "#                           End of your code                           #\n",
        "########################################################################\n",
        "\n",
        "# For VAL, TEST\n",
        "########################################################################\n",
        "#  TODO: use transforms.xxx method to do some data augmentation        #\n",
        "#  This one is for validate and test,                                  #\n",
        "#  NOTICE some operation we usually not use in this part               #\n",
        "########################################################################\n",
        "transforms_test = transforms.Compose([\n",
        "    transforms.Resize((256, 256)),\n",
        "    transforms.CenterCrop((224, 224)),\n",
        "    transforms.ToTensor(),\n",
        "    transforms.Normalize(mean=[0.485, 0.456, 0.406], std=[0.229, 0.224, 0.225]),\n",
        "  ])\n",
        "########################################################################\n",
        "#                           End of your code                           #\n",
        "########################################################################"
      ]
    },
    {
      "cell_type": "markdown",
      "metadata": {
        "id": "7rYptn_YJlFX"
      },
      "source": [
        "### Instantiate dataset\n",
        "\n",
        "Let's instantiate three `FlowerData` class.\n",
        "+ dataset_train: for training.\n",
        "+ dataset_val: for validation.\n",
        "+ dataset_test: for tesing."
      ]
    },
    {
      "cell_type": "code",
      "execution_count": null,
      "metadata": {
        "id": "LKjsKyHhZZc6"
      },
      "outputs": [],
      "source": [
        "dataset_train = FlowerData('train.csv', mode='train', transform=transforms_train)\n",
        "dataset_val = FlowerData('val.csv', mode='val', transform=transforms_test)\n",
        "dataset_test = FlowerData('test.csv', mode='test', transform=transforms_test)"
      ]
    },
    {
      "cell_type": "code",
      "execution_count": null,
      "metadata": {
        "colab": {
          "base_uri": "https://localhost:8080/"
        },
        "id": "ZAeQQEEISCJJ",
        "outputId": "4ef85b6d-0b89-4a22-8cf4-a3c14bd60306"
      },
      "outputs": [
        {
          "name": "stdout",
          "output_type": "stream",
          "text": [
            "The first image's shape in dataset_train : torch.Size([3, 224, 224])\n",
            "There are 3022 images in dataset_train.\n"
          ]
        }
      ],
      "source": [
        "print(\"The first image's shape in dataset_train :\", dataset_train[0][0].size())\n",
        "print(\"There are\", len(dataset_train), \"images in dataset_train.\")"
      ]
    },
    {
      "cell_type": "markdown",
      "metadata": {
        "id": "vORA6qkfIj1U"
      },
      "source": [
        "### `DataLoader`\n",
        "\n",
        "`torch.utils.data.DataLoader` define how to sample from `dataset` and some other function like:\n",
        "+ `shuffle` : set to `True` to have the data reshuffled at every epoch\n",
        "+ `batch_size` : how many samples per batch to load\n",
        "\n",
        "See [torch.utils.data.DataLoader](https://pytorch.org/docs/stable/data.html#torch.utils.data.DataLoader) for more details"
      ]
    },
    {
      "cell_type": "code",
      "execution_count": null,
      "metadata": {
        "id": "RmgA5nYT3XQZ"
      },
      "outputs": [],
      "source": [
        "from torch.utils.data import DataLoader\n",
        "\n",
        "batch_size = 32\n",
        "num_workers = 2\n",
        "train_loader = DataLoader(dataset_train, batch_size=batch_size, num_workers=num_workers, shuffle=True)\n",
        "val_loader = DataLoader(dataset_val, batch_size=batch_size, num_workers=num_workers, shuffle=False)\n",
        "test_loader = DataLoader(dataset_test, batch_size=batch_size, num_workers=num_workers, shuffle=False)"
      ]
    },
    {
      "cell_type": "markdown",
      "metadata": {
        "id": "U4atwzT3aPi3"
      },
      "source": [
        "Finally! We have made all data prepared.  \n",
        "Let's go develop our model."
      ]
    },
    {
      "cell_type": "markdown",
      "metadata": {
        "id": "87KYcWknS95z"
      },
      "source": [
        "# Implement CNN using PyTorch"
      ]
    },
    {
      "cell_type": "markdown",
      "metadata": {
        "id": "OH_4NKB9dsZ3"
      },
      "source": [
        "### Define a Convolutional Neural Network\n",
        "\n",
        "Try to design and train a deep convolutional network from scratch to predict the class label of a flower image. \n",
        "\n",
        "You can refer to last assignment about image_classifier, and try to go deep and use more method for better model."
      ]
    },
    {
      "cell_type": "code",
      "execution_count": null,
      "metadata": {
        "id": "S_HxxEfdO2Ss"
      },
      "outputs": [],
      "source": [
        "import torch.nn as nn \n",
        "import torch.nn.functional as F\n",
        "\n",
        "class YourCNNModel(nn.Module): \n",
        "    def __init__(self): \n",
        "        super().__init__()\n",
        "        ########################################################################\n",
        "        #     TODO: use nn.xxx method to generate a CNN model part             #\n",
        "        ########################################################################\n",
        "        # nn.Conv2d(input_channel, output_channel, kernel_size, stride)\n",
        "        self.conv1 = nn.Conv2d(3, 128, 3, stride=1)\n",
        "        self.conv2 = nn.Conv2d(128, 256, 3, stride=1) \n",
        "        self.batch2 = nn.BatchNorm2d(256) \n",
        "        self.conv3 = nn.Conv2d(256, 256, 3, stride=1)\n",
        "        self.conv4 = nn.Conv2d(256, 512, 3, stride=1)\n",
        "        self.batch4 = nn.BatchNorm2d(512) \n",
        "\n",
        "        self.relu = nn.ReLU() \n",
        "        self.maxpool = nn.MaxPool2d(kernel_size=2)\n",
        "        self.dropout = nn.Dropout(p=0.2)\n",
        "        self.fc1 = nn.Linear(73728, 1024)     \n",
        "        self.fc2 = nn.Linear(1024, 128)\n",
        "        self.fc3 = nn.Linear(128, 5)\n",
        "        ########################################################################\n",
        "        #                           End of your code                           #\n",
        "        ########################################################################\n",
        "\n",
        "    def forward(self, x): \n",
        "        if not isinstance(x, torch.Tensor):\n",
        "            x = torch.Tensor(x)\n",
        "        ########################################################################\n",
        "        #     TODO: forward your model and get output                          #\n",
        "        ########################################################################\n",
        "        out = self.conv1(x)\n",
        "        out = self.relu(out)\n",
        "        out = self.maxpool(out)\n",
        "        out = self.conv2(out)\n",
        "        out = self.relu(out)\n",
        "        out = self.maxpool(out)\n",
        "        out = self.batch2(out)\n",
        "        out = self.conv3(out)\n",
        "        out = self.relu(out)\n",
        "        out = self.maxpool(out)\n",
        "        out = self.conv4(out)\n",
        "        out = self.relu(out)\n",
        "        out = self.maxpool(out)\n",
        "        out = self.batch4(out)\n",
        "        out = out.view(out.size(0), -1)\n",
        "        out = self.fc1(out)\n",
        "        out = self.dropout(out)\n",
        "        out = self.fc2(out)\n",
        "        out = self.fc3(out)\n",
        "        ########################################################################\n",
        "        #                           End of your code                           #\n",
        "        ########################################################################\n",
        "        return out"
      ]
    },
    {
      "cell_type": "code",
      "execution_count": null,
      "metadata": {
        "id": "wOBCTZmbzYU4"
      },
      "outputs": [],
      "source": [
        "device = torch.device('cuda')\n",
        "# or\n",
        "#device = torch.device('cpu')"
      ]
    },
    {
      "cell_type": "code",
      "execution_count": null,
      "metadata": {
        "id": "TeWtAa1dzYU4"
      },
      "outputs": [],
      "source": [
        "model = YourCNNModel()\n",
        "model = model.to(device)\n",
        "# print(model)"
      ]
    },
    {
      "cell_type": "markdown",
      "metadata": {
        "id": "83imqLRQ0v7M"
      },
      "source": [
        "We have made our model!  \n",
        "Next, PyTorch also provide many utility function(loss, optmizer...etc).  \n",
        "You can define them in one-line."
      ]
    },
    {
      "cell_type": "markdown",
      "metadata": {
        "id": "FtOkPO6Ga0Fw"
      },
      "source": [
        "### Define loss and optimizer"
      ]
    },
    {
      "cell_type": "code",
      "execution_count": null,
      "metadata": {
        "id": "IoePct00RIFY"
      },
      "outputs": [],
      "source": [
        "import torch.nn as nn\n",
        "import torch.optim as optim\n",
        "################################################################################\n",
        "# TODO: Define loss and optmizer functions                                     #\n",
        "# Try any loss or optimizer function and learning rate to get better result    #\n",
        "# hint: torch.nn and torch.optim                                               #\n",
        "################################################################################\n",
        "criterion = nn.CrossEntropyLoss()\n",
        "optimizer = optim.SGD(model.parameters(), lr=0.0015, momentum=0.9, nesterov=True)\n",
        "scheduler = optim.lr_scheduler.StepLR(optimizer, step_size=30, gamma=0.1)\n",
        "################################################################################\n",
        "#                               End of your code                               #\n",
        "################################################################################\n",
        "criterion = criterion.to(device)"
      ]
    },
    {
      "cell_type": "markdown",
      "metadata": {
        "id": "zle9KuFcbwMP"
      },
      "source": [
        "### Train the model"
      ]
    },
    {
      "cell_type": "markdown",
      "metadata": {
        "id": "bZFxE7Y9iLfl"
      },
      "source": [
        "#### Train function\n",
        "Let's define train function.  \n",
        "It will iterate input data 1 epoch and update model with optmizer.  \n",
        "Finally, calculate mean loss and total accuracy.\n",
        "\n",
        "Hint: [torch.max()](https://pytorch.org/docs/stable/generated/torch.max.html#torch-max) or [torch.argmax()](https://pytorch.org/docs/stable/generated/torch.argmax.html)"
      ]
    },
    {
      "cell_type": "code",
      "execution_count": null,
      "metadata": {
        "id": "VM93brDshO6E"
      },
      "outputs": [],
      "source": [
        "def train(input_data, model, criterion, optimizer):\n",
        "    '''\n",
        "    Argement:\n",
        "    input_data -- iterable data, typr torch.utils.data.Dataloader is prefer\n",
        "    model -- nn.Module, model contain forward to predict output\n",
        "    criterion -- loss function, used to evaluate goodness of model\n",
        "    optimizer -- optmizer function, method for weight updating\n",
        "    '''\n",
        "    model.train()\n",
        "    loss_list = []\n",
        "    total_count = 0\n",
        "    acc_count = 0\n",
        "    for images, labels in input_data:\n",
        "        images = images.to(device)\n",
        "        labels = labels.to(device)\n",
        "        \n",
        "        ########################################################################\n",
        "        # TODO: Forward, backward and optimize                                 #\n",
        "        # 1. zero the parameter gradients                                      #\n",
        "        # 2. process input through the network                                 #\n",
        "        # 3. compute the loss                                                  #\n",
        "        # 4. propagate gradients back into the network’s parameters            #\n",
        "        # 5. Update the weights of the network                                 #\n",
        "        ########################################################################\n",
        "        optimizer.zero_grad()\n",
        "        out = model(images)\n",
        "        loss = criterion(out, labels)\n",
        "        loss.backward()\n",
        "        optimizer.step()\n",
        "        ########################################################################\n",
        "        #                           End of your code                           #\n",
        "        ########################################################################\n",
        "\n",
        "\n",
        "        ########################################################################\n",
        "        # TODO: Get the counts of correctly classified images                  #\n",
        "        # 1. get the model predicted result                                    #\n",
        "        # 2. sum the number of this batch predicted images                     #\n",
        "        # 3. sum the number of correctly classified                            #\n",
        "        # 4. save this batch's loss into loss_list                             #\n",
        "        # dimension of outputs: [batch_size, number of classes]                #\n",
        "        # Hint 1: use outputs.data to get no auto_grad                         #\n",
        "        # Hint 2: use torch.max()                                              #\n",
        "        ########################################################################\n",
        "        _, predicted = torch.max(out, 1)\n",
        "        total_count += labels.size(0) # 加總每個批次的大小\n",
        "        acc_count += (predicted == labels).sum().item() # 加總每個批次的預測準確率\n",
        "        loss_list.append(loss.item())\n",
        "        ########################################################################\n",
        "        #                           End of your code                           #\n",
        "        ########################################################################\n",
        "\n",
        "    # Compute this epoch accuracy and loss\n",
        "    acc = acc_count / total_count\n",
        "    loss = sum(loss_list) / len(loss_list)\n",
        "    return acc, loss"
      ]
    },
    {
      "cell_type": "markdown",
      "metadata": {
        "id": "KmDy1GTq_H2a"
      },
      "source": [
        "#### Validate function\n",
        "Next part is validate function.  \n",
        "It works as training function without optmizer and weight-updating part."
      ]
    },
    {
      "cell_type": "code",
      "execution_count": null,
      "metadata": {
        "id": "USzbBgGEoTRu"
      },
      "outputs": [],
      "source": [
        "def val(input_data, model, criterion):\n",
        "    model.eval()\n",
        "    \n",
        "    loss_list = []\n",
        "    total_count = 0\n",
        "    acc_count = 0\n",
        "    with torch.no_grad():\n",
        "        for images, labels in input_data:\n",
        "            images = images.to(device)\n",
        "            labels = labels.to(device)\n",
        "\n",
        "            ####################################################################\n",
        "            # TODO: Get the predicted result and loss                          #\n",
        "            # 1. process input through the network                             #\n",
        "            # 2. compute the loss                                              #\n",
        "            # 3. get the model predicted result                                #\n",
        "            # 4. get the counts of correctly classified images                 #\n",
        "            # 5. save this batch's loss into loss_list                         #\n",
        "            ####################################################################\n",
        "            out = model(images)\n",
        "            loss = criterion(out, labels) \n",
        "            \n",
        "            _, predicted = torch.max(out, 1)\n",
        "            total_count += labels.size(0)\n",
        "            acc_count += (predicted == labels).sum().item()\n",
        "            loss_list.append(loss.item())\n",
        "            ####################################################################\n",
        "            #                         End of your code                         #\n",
        "            ####################################################################\n",
        "\n",
        "    acc = acc_count / total_count\n",
        "    loss = sum(loss_list) / len(loss_list)\n",
        "    return acc, loss"
      ]
    },
    {
      "cell_type": "markdown",
      "metadata": {
        "id": "knXu74jCiuxP"
      },
      "source": [
        "#### Training in a loop\n",
        "Call train and test function in a loop.  \n",
        "Take a break and wait."
      ]
    },
    {
      "cell_type": "code",
      "execution_count": null,
      "metadata": {
        "colab": {
          "base_uri": "https://localhost:8080/"
        },
        "id": "rcVulKkFJRtI",
        "outputId": "1789b2ce-057b-4704-89ef-a212b8395860"
      },
      "outputs": [
        {
          "name": "stdout",
          "output_type": "stream",
          "text": [
            "==================== Epoch 2 ====================\n",
            "Train Acc: 0.623428 Train Loss: 0.961029\n",
            "  Val Acc: 0.604867   Val Loss: 1.063895\n",
            "==================== Epoch 4 ====================\n",
            "Train Acc: 0.689610 Train Loss: 0.818789\n",
            "  Val Acc: 0.626883   Val Loss: 0.984118\n",
            "==================== Epoch 6 ====================\n",
            "Train Acc: 0.711118 Train Loss: 0.757600\n",
            "  Val Acc: 0.666280   Val Loss: 0.869705\n",
            "==================== Epoch 8 ====================\n",
            "Train Acc: 0.735275 Train Loss: 0.679054\n",
            "  Val Acc: 0.677868   Val Loss: 0.853580\n",
            "==================== Epoch 10 ====================\n",
            "Train Acc: 0.742886 Train Loss: 0.664121\n",
            "  Val Acc: 0.676709   Val Loss: 0.823904\n",
            "==================== Epoch 12 ====================\n",
            "Train Acc: 0.762078 Train Loss: 0.631216\n",
            "  Val Acc: 0.702202   Val Loss: 0.829927\n",
            "==================== Epoch 14 ====================\n",
            "Train Acc: 0.782594 Train Loss: 0.584236\n",
            "  Val Acc: 0.703360   Val Loss: 0.823109\n",
            "==================== Epoch 16 ====================\n",
            "Train Acc: 0.786234 Train Loss: 0.564427\n",
            "  Val Acc: 0.687138   Val Loss: 0.840947\n",
            "==================== Epoch 18 ====================\n",
            "Train Acc: 0.789212 Train Loss: 0.540978\n",
            "  Val Acc: 0.716107   Val Loss: 0.796612\n",
            "==================== Epoch 20 ====================\n",
            "Train Acc: 0.792522 Train Loss: 0.524668\n",
            "  Val Acc: 0.712630   Val Loss: 0.838783\n",
            "==================== Epoch 22 ====================\n",
            "Train Acc: 0.812045 Train Loss: 0.493186\n",
            "  Val Acc: 0.742758   Val Loss: 0.758335\n",
            "==================== Epoch 24 ====================\n",
            "Train Acc: 0.818332 Train Loss: 0.487351\n",
            "  Val Acc: 0.753187   Val Loss: 0.799375\n",
            "==================== Epoch 26 ====================\n",
            "Train Acc: 0.817670 Train Loss: 0.462928\n",
            "  Val Acc: 0.692932   Val Loss: 0.933348\n",
            "==================== Epoch 28 ====================\n",
            "Train Acc: 0.825281 Train Loss: 0.442361\n",
            "  Val Acc: 0.734647   Val Loss: 0.846534\n",
            "==================== Epoch 30 ====================\n",
            "Train Acc: 0.826274 Train Loss: 0.448318\n",
            "  Val Acc: 0.736964   Val Loss: 0.823438\n",
            "==================== Epoch 32 ====================\n",
            "Train Acc: 0.868630 Train Loss: 0.338538\n",
            "  Val Acc: 0.760139   Val Loss: 0.710359\n",
            "==================== Epoch 34 ====================\n",
            "Train Acc: 0.886168 Train Loss: 0.302337\n",
            "  Val Acc: 0.768250   Val Loss: 0.734966\n",
            "==================== Epoch 36 ====================\n",
            "Train Acc: 0.891463 Train Loss: 0.303797\n",
            "  Val Acc: 0.775203   Val Loss: 0.733922\n",
            "==================== Epoch 38 ====================\n",
            "Train Acc: 0.890470 Train Loss: 0.286797\n",
            "  Val Acc: 0.776362   Val Loss: 0.728561\n",
            "==================== Epoch 40 ====================\n",
            "Train Acc: 0.895433 Train Loss: 0.279076\n",
            "  Val Acc: 0.783314   Val Loss: 0.742390\n",
            "==================== Epoch 42 ====================\n",
            "Train Acc: 0.894110 Train Loss: 0.272050\n",
            "  Val Acc: 0.786790   Val Loss: 0.743594\n",
            "==================== Epoch 44 ====================\n",
            "Train Acc: 0.905030 Train Loss: 0.247838\n",
            "  Val Acc: 0.780997   Val Loss: 0.784923\n",
            "==================== Epoch 46 ====================\n",
            "Train Acc: 0.917604 Train Loss: 0.241173\n",
            "  Val Acc: 0.782155   Val Loss: 0.766018\n",
            "==================== Epoch 48 ====================\n",
            "Train Acc: 0.908339 Train Loss: 0.237112\n",
            "  Val Acc: 0.777520   Val Loss: 0.775631\n",
            "==================== Epoch 50 ====================\n",
            "Train Acc: 0.920251 Train Loss: 0.235471\n",
            "  Val Acc: 0.777520   Val Loss: 0.776720\n",
            "==================== Epoch 52 ====================\n",
            "Train Acc: 0.916281 Train Loss: 0.233442\n",
            "  Val Acc: 0.762457   Val Loss: 0.812326\n",
            "==================== Epoch 54 ====================\n",
            "Train Acc: 0.915288 Train Loss: 0.229346\n",
            "  Val Acc: 0.772885   Val Loss: 0.803708\n",
            "==================== Epoch 56 ====================\n",
            "Train Acc: 0.919921 Train Loss: 0.221836\n",
            "  Val Acc: 0.779838   Val Loss: 0.783130\n",
            "==================== Epoch 58 ====================\n",
            "Train Acc: 0.929848 Train Loss: 0.199752\n",
            "  Val Acc: 0.776362   Val Loss: 0.797153\n",
            "==================== Epoch 60 ====================\n",
            "Train Acc: 0.922568 Train Loss: 0.207922\n",
            "  Val Acc: 0.767092   Val Loss: 0.838216\n"
          ]
        }
      ],
      "source": [
        "################################################################################\n",
        "# You can adjust those hyper parameters to loop for max_epochs times           #\n",
        "################################################################################\n",
        "max_epochs = 60\n",
        "log_interval = 2 # print acc and loss in per log_interval time\n",
        "\n",
        "train_acc_list = []\n",
        "train_loss_list = []\n",
        "val_acc_list = []\n",
        "val_loss_list = []\n",
        "\n",
        "for epoch in range(1, max_epochs + 1):\n",
        "    train_acc, train_loss = train(train_loader, model, criterion, optimizer)\n",
        "    val_acc, val_loss = val(val_loader, model, criterion)\n",
        "    scheduler.step()\n",
        "    \n",
        "    train_acc_list.append(train_acc)\n",
        "    train_loss_list.append(train_loss)\n",
        "    val_acc_list.append(val_acc)\n",
        "    val_loss_list.append(val_loss)\n",
        "    if epoch % log_interval == 0:\n",
        "        print('=' * 20, 'Epoch', epoch, '=' * 20)\n",
        "        print('Train Acc: {:.6f} Train Loss: {:.6f}'.format(train_acc, train_loss))\n",
        "        print('  Val Acc: {:.6f}   Val Loss: {:.6f}'.format(val_acc, val_loss))\n",
        "\n",
        "################################################################################\n",
        "#                               End of your code                               #\n",
        "################################################################################"
      ]
    },
    {
      "cell_type": "code",
      "execution_count": null,
      "metadata": {
        "id": "sdBlib2wzYU7"
      },
      "outputs": [],
      "source": [
        "# save your well-trained state_dict of model\n",
        "torch.save(model.state_dict(), 'NAME_OF_THIS_EXPERIMENT.pt')"
      ]
    },
    {
      "cell_type": "markdown",
      "metadata": {
        "id": "W5pW9zcKAN-2"
      },
      "source": [
        "#### Visualize accuracy and loss"
      ]
    },
    {
      "cell_type": "code",
      "execution_count": null,
      "metadata": {
        "colab": {
          "base_uri": "https://localhost:8080/",
          "height": 545
        },
        "id": "4ifzgfp7iq2m",
        "outputId": "1a1094b4-b040-4468-b584-775af70e6922"
      },
      "outputs": [
        {
          "data": {
            "image/png": "[encoded data removed]",
            "text/plain": [
              "<Figure size 864x288 with 1 Axes>"
            ]
          },
          "metadata": {
            "needs_background": "light"
          },
          "output_type": "display_data"
        },
        {
          "data": {
            "image/png": "[encoded data removed]",
            "text/plain": [
              "<Figure size 864x288 with 1 Axes>"
            ]
          },
          "metadata": {
            "needs_background": "light"
          },
          "output_type": "display_data"
        }
      ],
      "source": [
        "import matplotlib.pyplot as plt\n",
        "\n",
        "plt.figure(figsize=(12, 4))\n",
        "plt.plot(range(len(train_loss_list)), train_loss_list)\n",
        "plt.plot(range(len(val_loss_list)), val_loss_list, c='r')\n",
        "plt.legend(['train', 'val'])\n",
        "plt.title('Loss')\n",
        "plt.show()\n",
        "plt.figure(figsize=(12, 4))\n",
        "plt.plot(range(len(train_acc_list)), train_acc_list)\n",
        "plt.plot(range(len(val_acc_list)), val_acc_list, c='r')\n",
        "plt.legend(['train', 'val'])\n",
        "plt.title('Acc')\n",
        "plt.show()"
      ]
    },
    {
      "cell_type": "markdown",
      "metadata": {
        "id": "zMYSgO5viYOk"
      },
      "source": [
        "### Predict Result\n",
        "\n",
        "Predict the labesl based on testing set. Upload to Kaggle. [**LINK**](https://www.kaggle.com/t/a9e78aa7a68b40cd960bd8dcb09f8e45).\n",
        "\n",
        "**How to upload**\n",
        "\n",
        "1. Click the folder icon in the left hand side of Colab.\n",
        "2. Right click \"result.csv\". Select \"Download\"\n",
        "3. To kaggle. Click \"Submit Predictions\"\n",
        "4. Upload the result.csv\n",
        "5. System will automaticlaly calculate the accuracy of 70% dataset and publish this result to leaderboard.\n",
        "\n",
        "---\n",
        "\n",
        "預測`test`並將結果上傳至Kaggle。[**連結**](https://www.kaggle.com/t/a9e78aa7a68b40cd960bd8dcb09f8e45)\n",
        "\n",
        "執行完畢此區的程式碼後，會將`test`預測完的結果存下來。\n",
        "\n",
        "上傳流程\n",
        "1. 點選左側選單最下方的資料夾圖示\n",
        "2. 右鍵「result.csv」\n",
        "3. 點選「Download」\n",
        "4. 至連結網頁點選「Submit Predictions」\n",
        "5. 將剛剛下載的檔案上傳\n",
        "6. 系統會計算並公布其中70%資料的正確率"
      ]
    },
    {
      "cell_type": "code",
      "execution_count": null,
      "metadata": {
        "id": "mHc4hsPMzYU8"
      },
      "outputs": [],
      "source": [
        "# # if you wanna load previous best model\n",
        "# ckpt = torch.load('NAME_OF_THIS_EXPERIMENT.pt')\n",
        "# model.load_state_dict(ckpt) "
      ]
    },
    {
      "cell_type": "code",
      "execution_count": null,
      "metadata": {
        "id": "SiyK25P6KXrn"
      },
      "outputs": [],
      "source": [
        "def predict(input_data, model):\n",
        "    model.eval()\n",
        "    output_list = []\n",
        "    with torch.no_grad():\n",
        "        for images in input_data:\n",
        "            images = images.to(device)\n",
        "            outputs = model(images)\n",
        "            _, predicted = torch.max(outputs.data, 1)\n",
        "            output_list.extend(predicted.to('cpu').numpy().tolist())\n",
        "    return output_list"
      ]
    },
    {
      "cell_type": "code",
      "execution_count": null,
      "metadata": {
        "id": "0I0LN7HwpnsX"
      },
      "outputs": [],
      "source": [
        "idx = 0\n",
        "output_csv = predict(test_loader, model)\n",
        "with open('result.csv', 'w', newline='') as csvFile:\n",
        "    writer = csv.DictWriter(csvFile, fieldnames=['file_path', 'label'])\n",
        "    writer.writeheader()\n",
        "    for result in output_csv:\n",
        "        file_path = dataset_test.data_list[idx].replace(data_folder + '/', '')\n",
        "        writer.writerow({'file_path':file_path, 'label':result})\n",
        "        idx += 1"
      ]
    },
    {
      "cell_type": "markdown",
      "metadata": {
        "id": "4XTB6EF6mH2Q"
      },
      "source": [
        "# Keep trying and write report\n",
        "\n",
        "Keep adjust your model, loss function, optimizer...... to train the better model.  \n",
        "Remember record the output of different setting. It's convenient for your to write the report.\n",
        "\n",
        "You are on your way!\n",
        "\n",
        "---\n",
        "\n",
        "持續調整模型、訓練方法、損失函數、優化器等，來訓練出更好的模型，並記錄使用不同參數得出的效果，以利後續 Report 的撰寫。\n",
        "\n",
        "大家加油！"
      ]
    }
  ],
  "metadata": {
    "accelerator": "GPU",
    "colab": {
      "collapsed_sections": [],
      "provenance": []
    },
    "kernelspec": {
      "display_name": "Python 3",
      "name": "python3"
    },
    "language_info": {
      "name": "python"
    }
  },
  "nbformat": 4,
  "nbformat_minor": 0
}
